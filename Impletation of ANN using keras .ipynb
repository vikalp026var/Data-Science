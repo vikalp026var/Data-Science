{
 "cells": [
  {
   "cell_type": "code",
   "execution_count": 1,
   "id": "d55a093b",
   "metadata": {},
   "outputs": [
    {
     "name": "stderr",
     "output_type": "stream",
     "text": [
      "C:\\Users\\PC\\anaconda3\\lib\\site-packages\\scipy\\__init__.py:146: UserWarning: A NumPy version >=1.16.5 and <1.23.0 is required for this version of SciPy (detected version 1.24.3\n",
      "  warnings.warn(f\"A NumPy version >={np_minversion} and <{np_maxversion}\"\n"
     ]
    }
   ],
   "source": [
    "import tensorflow as tf\n",
    "import matplotlib.pyplot as plt\n",
    "import numpy as np\n",
    "import pandas as pd\n",
    "import seaborn as sns\n",
    "import os"
   ]
  },
  {
   "cell_type": "code",
   "execution_count": 2,
   "id": "79564dea",
   "metadata": {},
   "outputs": [
    {
     "name": "stdout",
     "output_type": "stream",
     "text": [
      "Tensorflow Version2.11.0\n",
      "keras Version2.11.0\n"
     ]
    }
   ],
   "source": [
    "print(f\"Tensorflow Version{tf.__version__}\")\n",
    "print(f\"keras Version{tf.keras.__version__}\")"
   ]
  },
  {
   "cell_type": "code",
   "execution_count": 3,
   "id": "0e8367c2",
   "metadata": {},
   "outputs": [
    {
     "data": {
      "text/plain": [
       "'C:\\\\Users\\\\PC\\\\Desktop\\\\datasciencepw'"
      ]
     },
     "execution_count": 3,
     "metadata": {},
     "output_type": "execute_result"
    }
   ],
   "source": [
    "os.getcwd()"
   ]
  },
  {
   "cell_type": "markdown",
   "id": "21b92ec4",
   "metadata": {},
   "source": [
    "GPU/CPU  Check"
   ]
  },
  {
   "cell_type": "code",
   "execution_count": 4,
   "id": "8aa19d57",
   "metadata": {
    "scrolled": true
   },
   "outputs": [
    {
     "data": {
      "text/plain": [
       "[]"
      ]
     },
     "execution_count": 4,
     "metadata": {},
     "output_type": "execute_result"
    }
   ],
   "source": [
    "tf.config.list_physical_devices(\"GPU\")"
   ]
  },
  {
   "cell_type": "code",
   "execution_count": 5,
   "id": "0149c06b",
   "metadata": {},
   "outputs": [
    {
     "data": {
      "text/plain": [
       "[PhysicalDevice(name='/physical_device:CPU:0', device_type='CPU')]"
      ]
     },
     "execution_count": 5,
     "metadata": {},
     "output_type": "execute_result"
    }
   ],
   "source": [
    "tf.config.list_physical_devices(\"CPU\")"
   ]
  },
  {
   "cell_type": "code",
   "execution_count": 6,
   "id": "b5da6c4e",
   "metadata": {},
   "outputs": [
    {
     "name": "stdout",
     "output_type": "stream",
     "text": [
      "GPU is not available\n",
      "CPU is available\n",
      "Details>>[PhysicalDevice(name='/physical_device:CPU:0', device_type='CPU')]\n"
     ]
    }
   ],
   "source": [
    "check_list=[\"GPU\",\"CPU\"]\n",
    "for devices in check_list:\n",
    "    out=tf.config.list_physical_devices(devices)\n",
    "    if len(out)>0:\n",
    "        print(f'{devices} is available')\n",
    "        print(f'Details>>{out}')\n",
    "    else:\n",
    "        print(f'{devices} is not available')\n",
    "        "
   ]
  },
  {
   "cell_type": "markdown",
   "id": "9289df67",
   "metadata": {},
   "source": [
    "Creating a simpler classifier using keras on MNIST data\n"
   ]
  },
  {
   "cell_type": "code",
   "execution_count": 7,
   "id": "5f465d71",
   "metadata": {},
   "outputs": [],
   "source": [
    "mnist=tf.keras.datasets.mnist"
   ]
  },
  {
   "cell_type": "code",
   "execution_count": 8,
   "id": "d742b330",
   "metadata": {},
   "outputs": [
    {
     "data": {
      "text/plain": [
       "<module 'keras.api._v2.keras.datasets.mnist' from 'C:\\\\Users\\\\PC\\\\anaconda3\\\\lib\\\\site-packages\\\\keras\\\\api\\\\_v2\\\\keras\\\\datasets\\\\mnist\\\\__init__.py'>"
      ]
     },
     "execution_count": 8,
     "metadata": {},
     "output_type": "execute_result"
    }
   ],
   "source": [
    "mnist"
   ]
  },
  {
   "cell_type": "code",
   "execution_count": 9,
   "id": "e5b5ed97",
   "metadata": {},
   "outputs": [],
   "source": [
    "(X_train,y_train),(X_test,y_test)=mnist.load_data()"
   ]
  },
  {
   "cell_type": "code",
   "execution_count": 10,
   "id": "bb1ff7ce",
   "metadata": {},
   "outputs": [
    {
     "data": {
      "text/plain": [
       "(60000, 28, 28)"
      ]
     },
     "execution_count": 10,
     "metadata": {},
     "output_type": "execute_result"
    }
   ],
   "source": [
    "X_train.shape"
   ]
  },
  {
   "cell_type": "code",
   "execution_count": 11,
   "id": "c37553e6",
   "metadata": {},
   "outputs": [
    {
     "data": {
      "text/plain": [
       "(10000, 28, 28)"
      ]
     },
     "execution_count": 11,
     "metadata": {},
     "output_type": "execute_result"
    }
   ],
   "source": [
    "X_test.shape"
   ]
  },
  {
   "cell_type": "code",
   "execution_count": 12,
   "id": "d204ba18",
   "metadata": {},
   "outputs": [
    {
     "data": {
      "text/plain": [
       "array([[  0,   0,   0,   0,   0,   0,   0,   0,   0,   0,   0,   0,   0,\n",
       "          0,   0,   0,   0,   0,   0,   0,   0,   0,   0,   0,   0,   0,\n",
       "          0,   0],\n",
       "       [  0,   0,   0,   0,   0,   0,   0,   0,   0,   0,   0,   0,   0,\n",
       "          0,   0,   0,   0,   0,   0,   0,   0,   0,   0,   0,   0,   0,\n",
       "          0,   0],\n",
       "       [  0,   0,   0,   0,   0,   0,   0,   0,   0,   0,   0,   0,   0,\n",
       "          0,   0,   0,   0,   0,   0,   0,   0,   0,   0,   0,   0,   0,\n",
       "          0,   0],\n",
       "       [  0,   0,   0,   0,   0,   0,   0,   0,   0,   0,   0,   0,   0,\n",
       "          0,   0,   0,   0,   0,   0,   0,   0,   0,   0,   0,   0,   0,\n",
       "          0,   0],\n",
       "       [  0,   0,   0,   0,   0,   0,   0,   0,   0,   0,   0,   0,   0,\n",
       "          0,   0,   0,   0,   0,   0,   0,   0,   0,   0,   0,   0,   0,\n",
       "          0,   0],\n",
       "       [  0,   0,   0,   0,   0,   0,   0,   0,   0,   0,   0,   0,   3,\n",
       "         18,  18,  18, 126, 136, 175,  26, 166, 255, 247, 127,   0,   0,\n",
       "          0,   0],\n",
       "       [  0,   0,   0,   0,   0,   0,   0,   0,  30,  36,  94, 154, 170,\n",
       "        253, 253, 253, 253, 253, 225, 172, 253, 242, 195,  64,   0,   0,\n",
       "          0,   0],\n",
       "       [  0,   0,   0,   0,   0,   0,   0,  49, 238, 253, 253, 253, 253,\n",
       "        253, 253, 253, 253, 251,  93,  82,  82,  56,  39,   0,   0,   0,\n",
       "          0,   0],\n",
       "       [  0,   0,   0,   0,   0,   0,   0,  18, 219, 253, 253, 253, 253,\n",
       "        253, 198, 182, 247, 241,   0,   0,   0,   0,   0,   0,   0,   0,\n",
       "          0,   0],\n",
       "       [  0,   0,   0,   0,   0,   0,   0,   0,  80, 156, 107, 253, 253,\n",
       "        205,  11,   0,  43, 154,   0,   0,   0,   0,   0,   0,   0,   0,\n",
       "          0,   0],\n",
       "       [  0,   0,   0,   0,   0,   0,   0,   0,   0,  14,   1, 154, 253,\n",
       "         90,   0,   0,   0,   0,   0,   0,   0,   0,   0,   0,   0,   0,\n",
       "          0,   0],\n",
       "       [  0,   0,   0,   0,   0,   0,   0,   0,   0,   0,   0, 139, 253,\n",
       "        190,   2,   0,   0,   0,   0,   0,   0,   0,   0,   0,   0,   0,\n",
       "          0,   0],\n",
       "       [  0,   0,   0,   0,   0,   0,   0,   0,   0,   0,   0,  11, 190,\n",
       "        253,  70,   0,   0,   0,   0,   0,   0,   0,   0,   0,   0,   0,\n",
       "          0,   0],\n",
       "       [  0,   0,   0,   0,   0,   0,   0,   0,   0,   0,   0,   0,  35,\n",
       "        241, 225, 160, 108,   1,   0,   0,   0,   0,   0,   0,   0,   0,\n",
       "          0,   0],\n",
       "       [  0,   0,   0,   0,   0,   0,   0,   0,   0,   0,   0,   0,   0,\n",
       "         81, 240, 253, 253, 119,  25,   0,   0,   0,   0,   0,   0,   0,\n",
       "          0,   0],\n",
       "       [  0,   0,   0,   0,   0,   0,   0,   0,   0,   0,   0,   0,   0,\n",
       "          0,  45, 186, 253, 253, 150,  27,   0,   0,   0,   0,   0,   0,\n",
       "          0,   0],\n",
       "       [  0,   0,   0,   0,   0,   0,   0,   0,   0,   0,   0,   0,   0,\n",
       "          0,   0,  16,  93, 252, 253, 187,   0,   0,   0,   0,   0,   0,\n",
       "          0,   0],\n",
       "       [  0,   0,   0,   0,   0,   0,   0,   0,   0,   0,   0,   0,   0,\n",
       "          0,   0,   0,   0, 249, 253, 249,  64,   0,   0,   0,   0,   0,\n",
       "          0,   0],\n",
       "       [  0,   0,   0,   0,   0,   0,   0,   0,   0,   0,   0,   0,   0,\n",
       "          0,  46, 130, 183, 253, 253, 207,   2,   0,   0,   0,   0,   0,\n",
       "          0,   0],\n",
       "       [  0,   0,   0,   0,   0,   0,   0,   0,   0,   0,   0,   0,  39,\n",
       "        148, 229, 253, 253, 253, 250, 182,   0,   0,   0,   0,   0,   0,\n",
       "          0,   0],\n",
       "       [  0,   0,   0,   0,   0,   0,   0,   0,   0,   0,  24, 114, 221,\n",
       "        253, 253, 253, 253, 201,  78,   0,   0,   0,   0,   0,   0,   0,\n",
       "          0,   0],\n",
       "       [  0,   0,   0,   0,   0,   0,   0,   0,  23,  66, 213, 253, 253,\n",
       "        253, 253, 198,  81,   2,   0,   0,   0,   0,   0,   0,   0,   0,\n",
       "          0,   0],\n",
       "       [  0,   0,   0,   0,   0,   0,  18, 171, 219, 253, 253, 253, 253,\n",
       "        195,  80,   9,   0,   0,   0,   0,   0,   0,   0,   0,   0,   0,\n",
       "          0,   0],\n",
       "       [  0,   0,   0,   0,  55, 172, 226, 253, 253, 253, 253, 244, 133,\n",
       "         11,   0,   0,   0,   0,   0,   0,   0,   0,   0,   0,   0,   0,\n",
       "          0,   0],\n",
       "       [  0,   0,   0,   0, 136, 253, 253, 253, 212, 135, 132,  16,   0,\n",
       "          0,   0,   0,   0,   0,   0,   0,   0,   0,   0,   0,   0,   0,\n",
       "          0,   0],\n",
       "       [  0,   0,   0,   0,   0,   0,   0,   0,   0,   0,   0,   0,   0,\n",
       "          0,   0,   0,   0,   0,   0,   0,   0,   0,   0,   0,   0,   0,\n",
       "          0,   0],\n",
       "       [  0,   0,   0,   0,   0,   0,   0,   0,   0,   0,   0,   0,   0,\n",
       "          0,   0,   0,   0,   0,   0,   0,   0,   0,   0,   0,   0,   0,\n",
       "          0,   0],\n",
       "       [  0,   0,   0,   0,   0,   0,   0,   0,   0,   0,   0,   0,   0,\n",
       "          0,   0,   0,   0,   0,   0,   0,   0,   0,   0,   0,   0,   0,\n",
       "          0,   0]], dtype=uint8)"
      ]
     },
     "execution_count": 12,
     "metadata": {},
     "output_type": "execute_result"
    }
   ],
   "source": [
    "X_train[0]"
   ]
  },
  {
   "cell_type": "code",
   "execution_count": 13,
   "id": "d0671f23",
   "metadata": {},
   "outputs": [
    {
     "data": {
      "text/plain": [
       "28"
      ]
     },
     "execution_count": 13,
     "metadata": {},
     "output_type": "execute_result"
    }
   ],
   "source": [
    "len(X_test[1][0])"
   ]
  },
  {
   "cell_type": "code",
   "execution_count": 14,
   "id": "35a6ab02",
   "metadata": {},
   "outputs": [],
   "source": [
    "#create a validation data set from the full training data \n",
    "#Scale the data between 0 to 1 by dividing it by 255 as its unsigned data between 0-255 range\n",
    "X_valid,X_train=X_train[:5000]/255.,X_train[5000:]/255.\n",
    "y_valid,y_train=y_train[:5000]/255.,y_train[5000:]/255.\n",
    "#SCale the test set as well\n",
    "X_test=X_test/255."
   ]
  },
  {
   "cell_type": "code",
   "execution_count": 15,
   "id": "ddb770cd",
   "metadata": {},
   "outputs": [
    {
     "data": {
      "text/plain": [
       "50000"
      ]
     },
     "execution_count": 15,
     "metadata": {},
     "output_type": "execute_result"
    }
   ],
   "source": [
    "len(X_train[5000:])"
   ]
  },
  {
   "cell_type": "code",
   "execution_count": 16,
   "id": "cb3ce6f1",
   "metadata": {},
   "outputs": [
    {
     "data": {
      "text/plain": [
       "<matplotlib.image.AxesImage at 0x255fc5c5f40>"
      ]
     },
     "execution_count": 16,
     "metadata": {},
     "output_type": "execute_result"
    },
    {
     "data": {
      "image/png": "[encoded data removed]",
      "text/plain": [
       "<Figure size 432x288 with 1 Axes>"
      ]
     },
     "metadata": {
      "needs_background": "light"
     },
     "output_type": "display_data"
    }
   ],
   "source": [
    "plt.imshow(X_train[0],cmap='binary')"
   ]
  },
  {
   "cell_type": "code",
   "execution_count": 17,
   "id": "8992e8a5",
   "metadata": {},
   "outputs": [
    {
     "data": {
      "text/plain": [
       "<AxesSubplot:>"
      ]
     },
     "execution_count": 17,
     "metadata": {},
     "output_type": "execute_result"
    },
    {
     "data": {
      "image/png": "[encoded data removed]",
      "text/plain": [
       "<Figure size 1080x1080 with 2 Axes>"
      ]
     },
     "metadata": {
      "needs_background": "light"
     },
     "output_type": "display_data"
    }
   ],
   "source": [
    "plt.figure(figsize=(15,15))\n",
    "sns.heatmap(X_train[0],annot=True,cmap='binary')"
   ]
  },
  {
   "cell_type": "code",
   "execution_count": 18,
   "id": "c96eb8a5",
   "metadata": {},
   "outputs": [
    {
     "data": {
      "text/plain": [
       "784"
      ]
     },
     "execution_count": 18,
     "metadata": {},
     "output_type": "execute_result"
    }
   ],
   "source": [
    "28*28"
   ]
  },
  {
   "cell_type": "code",
   "execution_count": 19,
   "id": "a3b00724",
   "metadata": {},
   "outputs": [],
   "source": [
    "#Creating layers of Ann\n",
    "Layers=[tf.keras.layers.Flatten(input_shape=[28,28],name='inputLayer'),\n",
    "       tf.keras.layers.Dense(300,activation='relu',name='hiddenLayers1'),\n",
    "        tf.keras.layers.Dense(100,activation='relu',name='hiddenLayers2'),\n",
    "       tf.keras.layers.Dense(10,activation='softmax',name='outputLayers')]\n",
    "model_cf=tf.keras.models.Sequential(Layers)"
   ]
  },
  {
   "cell_type": "code",
   "execution_count": 20,
   "id": "969db246",
   "metadata": {},
   "outputs": [],
   "source": [
    "# #Method 2\n",
    "# from keras.models import Sequential\n",
    "# from keras.layers import Dense\n",
    "# #define model \n",
    "# model =Sequential()\n",
    "# model.add(Dense(units=64,activation='relu'))\n",
    "# model.add(Dense(units=10,activation='softmax'))\n",
    "# #Complie the model \n",
    "# model.compile(loss='categorical_crossentropy',optimizer='sgd',metrics=['accuracy'])\n",
    "# #train the model \n",
    "# model.fit(X_train,y_train,epochs=5,batch_size=32)"
   ]
  },
  {
   "cell_type": "code",
   "execution_count": 21,
   "id": "3307c9fe",
   "metadata": {},
   "outputs": [
    {
     "data": {
      "text/plain": [
       "[<keras.layers.reshaping.flatten.Flatten at 0x255ff0e00d0>,\n",
       " <keras.layers.core.dense.Dense at 0x255ff0e0220>,\n",
       " <keras.layers.core.dense.Dense at 0x255ff0e0100>,\n",
       " <keras.layers.core.dense.Dense at 0x255ff0c7850>]"
      ]
     },
     "execution_count": 21,
     "metadata": {},
     "output_type": "execute_result"
    }
   ],
   "source": [
    "model_cf.layers"
   ]
  },
  {
   "cell_type": "code",
   "execution_count": 22,
   "id": "d7ffb660",
   "metadata": {},
   "outputs": [
    {
     "name": "stdout",
     "output_type": "stream",
     "text": [
      "Model: \"sequential\"\n",
      "_________________________________________________________________\n",
      " Layer (type)                Output Shape              Param #   \n",
      "=================================================================\n",
      " inputLayer (Flatten)        (None, 784)               0         \n",
      "                                                                 \n",
      " hiddenLayers1 (Dense)       (None, 300)               235500    \n",
      "                                                                 \n",
      " hiddenLayers2 (Dense)       (None, 100)               30100     \n",
      "                                                                 \n",
      " outputLayers (Dense)        (None, 10)                1010      \n",
      "                                                                 \n",
      "=================================================================\n",
      "Total params: 266,610\n",
      "Trainable params: 266,610\n",
      "Non-trainable params: 0\n",
      "_________________________________________________________________\n"
     ]
    }
   ],
   "source": [
    "model_cf.summary()"
   ]
  },
  {
   "cell_type": "code",
   "execution_count": 23,
   "id": "f3564403",
   "metadata": {},
   "outputs": [
    {
     "data": {
      "text/plain": [
       "'inputLayer'"
      ]
     },
     "execution_count": 23,
     "metadata": {},
     "output_type": "execute_result"
    }
   ],
   "source": [
    "hidden1=model_cf.layers[0]\n",
    "hidden1.name"
   ]
  },
  {
   "cell_type": "code",
   "execution_count": 24,
   "id": "6a9506fd",
   "metadata": {},
   "outputs": [
    {
     "data": {
      "text/plain": [
       "'hiddenLayers1'"
      ]
     },
     "execution_count": 24,
     "metadata": {},
     "output_type": "execute_result"
    }
   ],
   "source": [
    "hidden2=model_cf.layers[1]\n",
    "hidden2.name"
   ]
  },
  {
   "cell_type": "code",
   "execution_count": 25,
   "id": "ce59210b",
   "metadata": {},
   "outputs": [
    {
     "data": {
      "text/plain": [
       "'hiddenLayers2'"
      ]
     },
     "execution_count": 25,
     "metadata": {},
     "output_type": "execute_result"
    }
   ],
   "source": [
    "hidden3=model_cf.layers[2]\n",
    "hidden3.name"
   ]
  },
  {
   "cell_type": "code",
   "execution_count": 26,
   "id": "58ef9c39",
   "metadata": {},
   "outputs": [
    {
     "data": {
      "text/plain": [
       "'outputLayers'"
      ]
     },
     "execution_count": 26,
     "metadata": {},
     "output_type": "execute_result"
    }
   ],
   "source": [
    "hidden4=model_cf.layers[3]\n",
    "hidden4.name"
   ]
  },
  {
   "cell_type": "code",
   "execution_count": 27,
   "id": "cd113b1e",
   "metadata": {},
   "outputs": [
    {
     "data": {
      "text/plain": [
       "[array([[ 0.06280759, -0.02935569, -0.06018686, ...,  0.01482867,\n",
       "          0.0558892 , -0.07143813],\n",
       "        [ 0.02514978, -0.07216291, -0.00582203, ...,  0.0351748 ,\n",
       "         -0.02781166, -0.05068225],\n",
       "        [ 0.03249796,  0.01728396, -0.04069516, ..., -0.00958318,\n",
       "          0.02771971,  0.0359834 ],\n",
       "        ...,\n",
       "        [ 0.03319558,  0.07127593, -0.06011312, ...,  0.01890083,\n",
       "         -0.06558543, -0.03988085],\n",
       "        [-0.03348689,  0.06716014,  0.06547333, ..., -0.0558222 ,\n",
       "         -0.01569571,  0.02024824],\n",
       "        [ 0.00194529,  0.00423589, -0.02896061, ...,  0.03776176,\n",
       "         -0.03529519,  0.0213292 ]], dtype=float32),\n",
       " array([0., 0., 0., 0., 0., 0., 0., 0., 0., 0., 0., 0., 0., 0., 0., 0., 0.,\n",
       "        0., 0., 0., 0., 0., 0., 0., 0., 0., 0., 0., 0., 0., 0., 0., 0., 0.,\n",
       "        0., 0., 0., 0., 0., 0., 0., 0., 0., 0., 0., 0., 0., 0., 0., 0., 0.,\n",
       "        0., 0., 0., 0., 0., 0., 0., 0., 0., 0., 0., 0., 0., 0., 0., 0., 0.,\n",
       "        0., 0., 0., 0., 0., 0., 0., 0., 0., 0., 0., 0., 0., 0., 0., 0., 0.,\n",
       "        0., 0., 0., 0., 0., 0., 0., 0., 0., 0., 0., 0., 0., 0., 0., 0., 0.,\n",
       "        0., 0., 0., 0., 0., 0., 0., 0., 0., 0., 0., 0., 0., 0., 0., 0., 0.,\n",
       "        0., 0., 0., 0., 0., 0., 0., 0., 0., 0., 0., 0., 0., 0., 0., 0., 0.,\n",
       "        0., 0., 0., 0., 0., 0., 0., 0., 0., 0., 0., 0., 0., 0., 0., 0., 0.,\n",
       "        0., 0., 0., 0., 0., 0., 0., 0., 0., 0., 0., 0., 0., 0., 0., 0., 0.,\n",
       "        0., 0., 0., 0., 0., 0., 0., 0., 0., 0., 0., 0., 0., 0., 0., 0., 0.,\n",
       "        0., 0., 0., 0., 0., 0., 0., 0., 0., 0., 0., 0., 0., 0., 0., 0., 0.,\n",
       "        0., 0., 0., 0., 0., 0., 0., 0., 0., 0., 0., 0., 0., 0., 0., 0., 0.,\n",
       "        0., 0., 0., 0., 0., 0., 0., 0., 0., 0., 0., 0., 0., 0., 0., 0., 0.,\n",
       "        0., 0., 0., 0., 0., 0., 0., 0., 0., 0., 0., 0., 0., 0., 0., 0., 0.,\n",
       "        0., 0., 0., 0., 0., 0., 0., 0., 0., 0., 0., 0., 0., 0., 0., 0., 0.,\n",
       "        0., 0., 0., 0., 0., 0., 0., 0., 0., 0., 0., 0., 0., 0., 0., 0., 0.,\n",
       "        0., 0., 0., 0., 0., 0., 0., 0., 0., 0., 0.], dtype=float32)]"
      ]
     },
     "execution_count": 27,
     "metadata": {},
     "output_type": "execute_result"
    }
   ],
   "source": [
    "hidden2.get_weights()"
   ]
  },
  {
   "cell_type": "code",
   "execution_count": 28,
   "id": "d5d27b17",
   "metadata": {},
   "outputs": [
    {
     "data": {
      "text/plain": [
       "(784, 300)"
      ]
     },
     "execution_count": 28,
     "metadata": {},
     "output_type": "execute_result"
    }
   ],
   "source": [
    "hidden2.get_weights()[0].shape"
   ]
  },
  {
   "cell_type": "code",
   "execution_count": 29,
   "id": "cc57f4e6",
   "metadata": {},
   "outputs": [],
   "source": [
    "biases=hidden2.get_weights()[1]"
   ]
  },
  {
   "cell_type": "code",
   "execution_count": 30,
   "id": "02e16a98",
   "metadata": {},
   "outputs": [
    {
     "name": "stdout",
     "output_type": "stream",
     "text": [
      "shape (300,)\n"
     ]
    },
    {
     "data": {
      "text/plain": [
       "array([0., 0., 0., 0., 0., 0., 0., 0., 0., 0., 0., 0., 0., 0., 0., 0., 0.,\n",
       "       0., 0., 0., 0., 0., 0., 0., 0., 0., 0., 0., 0., 0., 0., 0., 0., 0.,\n",
       "       0., 0., 0., 0., 0., 0., 0., 0., 0., 0., 0., 0., 0., 0., 0., 0., 0.,\n",
       "       0., 0., 0., 0., 0., 0., 0., 0., 0., 0., 0., 0., 0., 0., 0., 0., 0.,\n",
       "       0., 0., 0., 0., 0., 0., 0., 0., 0., 0., 0., 0., 0., 0., 0., 0., 0.,\n",
       "       0., 0., 0., 0., 0., 0., 0., 0., 0., 0., 0., 0., 0., 0., 0., 0., 0.,\n",
       "       0., 0., 0., 0., 0., 0., 0., 0., 0., 0., 0., 0., 0., 0., 0., 0., 0.,\n",
       "       0., 0., 0., 0., 0., 0., 0., 0., 0., 0., 0., 0., 0., 0., 0., 0., 0.,\n",
       "       0., 0., 0., 0., 0., 0., 0., 0., 0., 0., 0., 0., 0., 0., 0., 0., 0.,\n",
       "       0., 0., 0., 0., 0., 0., 0., 0., 0., 0., 0., 0., 0., 0., 0., 0., 0.,\n",
       "       0., 0., 0., 0., 0., 0., 0., 0., 0., 0., 0., 0., 0., 0., 0., 0., 0.,\n",
       "       0., 0., 0., 0., 0., 0., 0., 0., 0., 0., 0., 0., 0., 0., 0., 0., 0.,\n",
       "       0., 0., 0., 0., 0., 0., 0., 0., 0., 0., 0., 0., 0., 0., 0., 0., 0.,\n",
       "       0., 0., 0., 0., 0., 0., 0., 0., 0., 0., 0., 0., 0., 0., 0., 0., 0.,\n",
       "       0., 0., 0., 0., 0., 0., 0., 0., 0., 0., 0., 0., 0., 0., 0., 0., 0.,\n",
       "       0., 0., 0., 0., 0., 0., 0., 0., 0., 0., 0., 0., 0., 0., 0., 0., 0.,\n",
       "       0., 0., 0., 0., 0., 0., 0., 0., 0., 0., 0., 0., 0., 0., 0., 0., 0.,\n",
       "       0., 0., 0., 0., 0., 0., 0., 0., 0., 0., 0.], dtype=float32)"
      ]
     },
     "execution_count": 30,
     "metadata": {},
     "output_type": "execute_result"
    }
   ],
   "source": [
    "print(\"shape\",biases.shape)\n",
    "biases"
   ]
  },
  {
   "cell_type": "code",
   "execution_count": 31,
   "id": "54a66201",
   "metadata": {},
   "outputs": [],
   "source": [
    "LOSS_FUnCTION='sparse_categorical_crossentropy'\n",
    "OPTIMIZER=\"SGD\"\n",
    "METRICS=['accuracy']\n",
    "model_cf.compile(loss=LOSS_FUnCTION,optimizer=OPTIMIZER,metrics=METRICS)"
   ]
  },
  {
   "cell_type": "code",
   "execution_count": 32,
   "id": "d768b61f",
   "metadata": {},
   "outputs": [
    {
     "name": "stdout",
     "output_type": "stream",
     "text": [
      "Epoch 1/30\n",
      "1719/1719 [==============================] - 9s 5ms/step - loss: 0.0132 - accuracy: 0.0990 - val_loss: 5.8923e-04 - val_accuracy: 0.0958\n",
      "Epoch 2/30\n",
      "1719/1719 [==============================] - 7s 4ms/step - loss: 4.3205e-04 - accuracy: 0.0990 - val_loss: 2.6818e-04 - val_accuracy: 0.0958\n",
      "Epoch 3/30\n",
      "1719/1719 [==============================] - 7s 4ms/step - loss: 2.3932e-04 - accuracy: 0.0990 - val_loss: 1.7008e-04 - val_accuracy: 0.0958\n",
      "Epoch 4/30\n",
      "1719/1719 [==============================] - 7s 4ms/step - loss: 1.6468e-04 - accuracy: 0.0990 - val_loss: 1.2339e-04 - val_accuracy: 0.0958\n",
      "Epoch 5/30\n",
      "1719/1719 [==============================] - 7s 4ms/step - loss: 1.2505e-04 - accuracy: 0.0990 - val_loss: 9.6215e-05 - val_accuracy: 0.0958\n",
      "Epoch 6/30\n",
      "1719/1719 [==============================] - 7s 4ms/step - loss: 1.0051e-04 - accuracy: 0.0990 - val_loss: 7.8557e-05 - val_accuracy: 0.0958\n",
      "Epoch 7/30\n",
      "1719/1719 [==============================] - 7s 4ms/step - loss: 8.3885e-05 - accuracy: 0.0990 - val_loss: 6.6199e-05 - val_accuracy: 0.0958\n",
      "Epoch 8/30\n",
      "1719/1719 [==============================] - 7s 4ms/step - loss: 7.1870e-05 - accuracy: 0.0990 - val_loss: 5.7102e-05 - val_accuracy: 0.0958\n",
      "Epoch 9/30\n",
      "1719/1719 [==============================] - 7s 4ms/step - loss: 6.2814e-05 - accuracy: 0.0990 - val_loss: 5.0129e-05 - val_accuracy: 0.0958\n",
      "Epoch 10/30\n",
      "1719/1719 [==============================] - 7s 4ms/step - loss: 5.5741e-05 - accuracy: 0.0990 - val_loss: 4.4619e-05 - val_accuracy: 0.0958\n",
      "Epoch 11/30\n",
      "1719/1719 [==============================] - 7s 4ms/step - loss: 5.0067e-05 - accuracy: 0.0990 - val_loss: 4.0165e-05 - val_accuracy: 0.0958\n",
      "Epoch 12/30\n",
      "1719/1719 [==============================] - 7s 4ms/step - loss: 4.5420e-05 - accuracy: 0.0990 - val_loss: 3.6490e-05 - val_accuracy: 0.0958\n",
      "Epoch 13/30\n",
      "1719/1719 [==============================] - 6s 4ms/step - loss: 4.1544e-05 - accuracy: 0.0990 - val_loss: 3.3410e-05 - val_accuracy: 0.0958\n",
      "Epoch 14/30\n",
      "1719/1719 [==============================] - 6s 4ms/step - loss: 3.8264e-05 - accuracy: 0.0990 - val_loss: 3.0793e-05 - val_accuracy: 0.0958\n",
      "Epoch 15/30\n",
      "1719/1719 [==============================] - 6s 4ms/step - loss: 3.5454e-05 - accuracy: 0.0990 - val_loss: 2.8543e-05 - val_accuracy: 0.0958\n",
      "Epoch 16/30\n",
      "1719/1719 [==============================] - 6s 3ms/step - loss: 3.3020e-05 - accuracy: 0.0990 - val_loss: 2.6589e-05 - val_accuracy: 0.0958\n",
      "Epoch 17/30\n",
      "1719/1719 [==============================] - 6s 3ms/step - loss: 3.0892e-05 - accuracy: 0.0990 - val_loss: 2.4876e-05 - val_accuracy: 0.0958\n",
      "Epoch 18/30\n",
      "1719/1719 [==============================] - 6s 3ms/step - loss: 2.9016e-05 - accuracy: 0.0990 - val_loss: 2.3362e-05 - val_accuracy: 0.0958\n",
      "Epoch 19/30\n",
      "1719/1719 [==============================] - 6s 3ms/step - loss: 2.7351e-05 - accuracy: 0.0990 - val_loss: 2.2018e-05 - val_accuracy: 0.0958\n",
      "Epoch 20/30\n",
      "1719/1719 [==============================] - 6s 3ms/step - loss: 2.5862e-05 - accuracy: 0.0990 - val_loss: 2.0812e-05 - val_accuracy: 0.0958\n",
      "Epoch 21/30\n",
      "1719/1719 [==============================] - 6s 3ms/step - loss: 2.4524e-05 - accuracy: 0.0990 - val_loss: 1.9729e-05 - val_accuracy: 0.0958\n",
      "Epoch 22/30\n",
      "1719/1719 [==============================] - 6s 3ms/step - loss: 2.3315e-05 - accuracy: 0.0990 - val_loss: 1.8749e-05 - val_accuracy: 0.0958\n",
      "Epoch 23/30\n",
      "1719/1719 [==============================] - 6s 3ms/step - loss: 2.2217e-05 - accuracy: 0.0990 - val_loss: 1.7859e-05 - val_accuracy: 0.0958\n",
      "Epoch 24/30\n",
      "1719/1719 [==============================] - 6s 3ms/step - loss: 2.1217e-05 - accuracy: 0.0990 - val_loss: 1.7045e-05 - val_accuracy: 0.0958\n",
      "Epoch 25/30\n",
      "1719/1719 [==============================] - 6s 3ms/step - loss: 2.0300e-05 - accuracy: 0.0990 - val_loss: 1.6301e-05 - val_accuracy: 0.0958\n",
      "Epoch 26/30\n",
      "1719/1719 [==============================] - 6s 3ms/step - loss: 1.9458e-05 - accuracy: 0.0990 - val_loss: 1.5618e-05 - val_accuracy: 0.0958\n",
      "Epoch 27/30\n",
      "1719/1719 [==============================] - 6s 3ms/step - loss: 1.8682e-05 - accuracy: 0.0990 - val_loss: 1.4989e-05 - val_accuracy: 0.0958\n",
      "Epoch 28/30\n",
      "1719/1719 [==============================] - 6s 3ms/step - loss: 1.7964e-05 - accuracy: 0.0990 - val_loss: 1.4405e-05 - val_accuracy: 0.0958\n",
      "Epoch 29/30\n",
      "1719/1719 [==============================] - 6s 3ms/step - loss: 1.7299e-05 - accuracy: 0.0990 - val_loss: 1.3864e-05 - val_accuracy: 0.0958\n",
      "Epoch 30/30\n",
      "1719/1719 [==============================] - 6s 3ms/step - loss: 1.6680e-05 - accuracy: 0.0990 - val_loss: 1.3361e-05 - val_accuracy: 0.0958\n"
     ]
    }
   ],
   "source": [
    "epc=30\n",
    "validation=(X_valid,y_valid)\n",
    "history=model_cf.fit(X_train,y_train,epochs=epc,validation_data=validation,batch_size=32)"
   ]
  },
  {
   "cell_type": "code",
   "execution_count": 33,
   "id": "1cc740a6",
   "metadata": {},
   "outputs": [
    {
     "data": {
      "text/html": [
       "<div>\n",
       "<style scoped>\n",
       "    .dataframe tbody tr th:only-of-type {\n",
       "        vertical-align: middle;\n",
       "    }\n",
       "\n",
       "    .dataframe tbody tr th {\n",
       "        vertical-align: top;\n",
       "    }\n",
       "\n",
       "    .dataframe thead th {\n",
       "        text-align: right;\n",
       "    }\n",
       "</style>\n",
       "<table border=\"1\" class=\"dataframe\">\n",
       "  <thead>\n",
       "    <tr style=\"text-align: right;\">\n",
       "      <th></th>\n",
       "      <th>loss</th>\n",
       "      <th>accuracy</th>\n",
       "      <th>val_loss</th>\n",
       "      <th>val_accuracy</th>\n",
       "    </tr>\n",
       "  </thead>\n",
       "  <tbody>\n",
       "    <tr>\n",
       "      <th>0</th>\n",
       "      <td>0.013232</td>\n",
       "      <td>0.098982</td>\n",
       "      <td>0.000589</td>\n",
       "      <td>0.0958</td>\n",
       "    </tr>\n",
       "    <tr>\n",
       "      <th>1</th>\n",
       "      <td>0.000432</td>\n",
       "      <td>0.098982</td>\n",
       "      <td>0.000268</td>\n",
       "      <td>0.0958</td>\n",
       "    </tr>\n",
       "    <tr>\n",
       "      <th>2</th>\n",
       "      <td>0.000239</td>\n",
       "      <td>0.098982</td>\n",
       "      <td>0.000170</td>\n",
       "      <td>0.0958</td>\n",
       "    </tr>\n",
       "    <tr>\n",
       "      <th>3</th>\n",
       "      <td>0.000165</td>\n",
       "      <td>0.098982</td>\n",
       "      <td>0.000123</td>\n",
       "      <td>0.0958</td>\n",
       "    </tr>\n",
       "    <tr>\n",
       "      <th>4</th>\n",
       "      <td>0.000125</td>\n",
       "      <td>0.098982</td>\n",
       "      <td>0.000096</td>\n",
       "      <td>0.0958</td>\n",
       "    </tr>\n",
       "    <tr>\n",
       "      <th>5</th>\n",
       "      <td>0.000101</td>\n",
       "      <td>0.098982</td>\n",
       "      <td>0.000079</td>\n",
       "      <td>0.0958</td>\n",
       "    </tr>\n",
       "    <tr>\n",
       "      <th>6</th>\n",
       "      <td>0.000084</td>\n",
       "      <td>0.098982</td>\n",
       "      <td>0.000066</td>\n",
       "      <td>0.0958</td>\n",
       "    </tr>\n",
       "    <tr>\n",
       "      <th>7</th>\n",
       "      <td>0.000072</td>\n",
       "      <td>0.098982</td>\n",
       "      <td>0.000057</td>\n",
       "      <td>0.0958</td>\n",
       "    </tr>\n",
       "    <tr>\n",
       "      <th>8</th>\n",
       "      <td>0.000063</td>\n",
       "      <td>0.098982</td>\n",
       "      <td>0.000050</td>\n",
       "      <td>0.0958</td>\n",
       "    </tr>\n",
       "    <tr>\n",
       "      <th>9</th>\n",
       "      <td>0.000056</td>\n",
       "      <td>0.098982</td>\n",
       "      <td>0.000045</td>\n",
       "      <td>0.0958</td>\n",
       "    </tr>\n",
       "    <tr>\n",
       "      <th>10</th>\n",
       "      <td>0.000050</td>\n",
       "      <td>0.098982</td>\n",
       "      <td>0.000040</td>\n",
       "      <td>0.0958</td>\n",
       "    </tr>\n",
       "    <tr>\n",
       "      <th>11</th>\n",
       "      <td>0.000045</td>\n",
       "      <td>0.098982</td>\n",
       "      <td>0.000036</td>\n",
       "      <td>0.0958</td>\n",
       "    </tr>\n",
       "    <tr>\n",
       "      <th>12</th>\n",
       "      <td>0.000042</td>\n",
       "      <td>0.098982</td>\n",
       "      <td>0.000033</td>\n",
       "      <td>0.0958</td>\n",
       "    </tr>\n",
       "    <tr>\n",
       "      <th>13</th>\n",
       "      <td>0.000038</td>\n",
       "      <td>0.098982</td>\n",
       "      <td>0.000031</td>\n",
       "      <td>0.0958</td>\n",
       "    </tr>\n",
       "    <tr>\n",
       "      <th>14</th>\n",
       "      <td>0.000035</td>\n",
       "      <td>0.098982</td>\n",
       "      <td>0.000029</td>\n",
       "      <td>0.0958</td>\n",
       "    </tr>\n",
       "    <tr>\n",
       "      <th>15</th>\n",
       "      <td>0.000033</td>\n",
       "      <td>0.098982</td>\n",
       "      <td>0.000027</td>\n",
       "      <td>0.0958</td>\n",
       "    </tr>\n",
       "    <tr>\n",
       "      <th>16</th>\n",
       "      <td>0.000031</td>\n",
       "      <td>0.098982</td>\n",
       "      <td>0.000025</td>\n",
       "      <td>0.0958</td>\n",
       "    </tr>\n",
       "    <tr>\n",
       "      <th>17</th>\n",
       "      <td>0.000029</td>\n",
       "      <td>0.098982</td>\n",
       "      <td>0.000023</td>\n",
       "      <td>0.0958</td>\n",
       "    </tr>\n",
       "    <tr>\n",
       "      <th>18</th>\n",
       "      <td>0.000027</td>\n",
       "      <td>0.098982</td>\n",
       "      <td>0.000022</td>\n",
       "      <td>0.0958</td>\n",
       "    </tr>\n",
       "    <tr>\n",
       "      <th>19</th>\n",
       "      <td>0.000026</td>\n",
       "      <td>0.098982</td>\n",
       "      <td>0.000021</td>\n",
       "      <td>0.0958</td>\n",
       "    </tr>\n",
       "    <tr>\n",
       "      <th>20</th>\n",
       "      <td>0.000025</td>\n",
       "      <td>0.098982</td>\n",
       "      <td>0.000020</td>\n",
       "      <td>0.0958</td>\n",
       "    </tr>\n",
       "    <tr>\n",
       "      <th>21</th>\n",
       "      <td>0.000023</td>\n",
       "      <td>0.098982</td>\n",
       "      <td>0.000019</td>\n",
       "      <td>0.0958</td>\n",
       "    </tr>\n",
       "    <tr>\n",
       "      <th>22</th>\n",
       "      <td>0.000022</td>\n",
       "      <td>0.098982</td>\n",
       "      <td>0.000018</td>\n",
       "      <td>0.0958</td>\n",
       "    </tr>\n",
       "    <tr>\n",
       "      <th>23</th>\n",
       "      <td>0.000021</td>\n",
       "      <td>0.098982</td>\n",
       "      <td>0.000017</td>\n",
       "      <td>0.0958</td>\n",
       "    </tr>\n",
       "    <tr>\n",
       "      <th>24</th>\n",
       "      <td>0.000020</td>\n",
       "      <td>0.098982</td>\n",
       "      <td>0.000016</td>\n",
       "      <td>0.0958</td>\n",
       "    </tr>\n",
       "    <tr>\n",
       "      <th>25</th>\n",
       "      <td>0.000019</td>\n",
       "      <td>0.098982</td>\n",
       "      <td>0.000016</td>\n",
       "      <td>0.0958</td>\n",
       "    </tr>\n",
       "    <tr>\n",
       "      <th>26</th>\n",
       "      <td>0.000019</td>\n",
       "      <td>0.098982</td>\n",
       "      <td>0.000015</td>\n",
       "      <td>0.0958</td>\n",
       "    </tr>\n",
       "    <tr>\n",
       "      <th>27</th>\n",
       "      <td>0.000018</td>\n",
       "      <td>0.098982</td>\n",
       "      <td>0.000014</td>\n",
       "      <td>0.0958</td>\n",
       "    </tr>\n",
       "    <tr>\n",
       "      <th>28</th>\n",
       "      <td>0.000017</td>\n",
       "      <td>0.098982</td>\n",
       "      <td>0.000014</td>\n",
       "      <td>0.0958</td>\n",
       "    </tr>\n",
       "    <tr>\n",
       "      <th>29</th>\n",
       "      <td>0.000017</td>\n",
       "      <td>0.098982</td>\n",
       "      <td>0.000013</td>\n",
       "      <td>0.0958</td>\n",
       "    </tr>\n",
       "  </tbody>\n",
       "</table>\n",
       "</div>"
      ],
      "text/plain": [
       "        loss  accuracy  val_loss  val_accuracy\n",
       "0   0.013232  0.098982  0.000589        0.0958\n",
       "1   0.000432  0.098982  0.000268        0.0958\n",
       "2   0.000239  0.098982  0.000170        0.0958\n",
       "3   0.000165  0.098982  0.000123        0.0958\n",
       "4   0.000125  0.098982  0.000096        0.0958\n",
       "5   0.000101  0.098982  0.000079        0.0958\n",
       "6   0.000084  0.098982  0.000066        0.0958\n",
       "7   0.000072  0.098982  0.000057        0.0958\n",
       "8   0.000063  0.098982  0.000050        0.0958\n",
       "9   0.000056  0.098982  0.000045        0.0958\n",
       "10  0.000050  0.098982  0.000040        0.0958\n",
       "11  0.000045  0.098982  0.000036        0.0958\n",
       "12  0.000042  0.098982  0.000033        0.0958\n",
       "13  0.000038  0.098982  0.000031        0.0958\n",
       "14  0.000035  0.098982  0.000029        0.0958\n",
       "15  0.000033  0.098982  0.000027        0.0958\n",
       "16  0.000031  0.098982  0.000025        0.0958\n",
       "17  0.000029  0.098982  0.000023        0.0958\n",
       "18  0.000027  0.098982  0.000022        0.0958\n",
       "19  0.000026  0.098982  0.000021        0.0958\n",
       "20  0.000025  0.098982  0.000020        0.0958\n",
       "21  0.000023  0.098982  0.000019        0.0958\n",
       "22  0.000022  0.098982  0.000018        0.0958\n",
       "23  0.000021  0.098982  0.000017        0.0958\n",
       "24  0.000020  0.098982  0.000016        0.0958\n",
       "25  0.000019  0.098982  0.000016        0.0958\n",
       "26  0.000019  0.098982  0.000015        0.0958\n",
       "27  0.000018  0.098982  0.000014        0.0958\n",
       "28  0.000017  0.098982  0.000014        0.0958\n",
       "29  0.000017  0.098982  0.000013        0.0958"
      ]
     },
     "execution_count": 33,
     "metadata": {},
     "output_type": "execute_result"
    }
   ],
   "source": [
    "pd.DataFrame(history.history)"
   ]
  },
  {
   "cell_type": "code",
   "execution_count": 34,
   "id": "a60f6ece",
   "metadata": {},
   "outputs": [
    {
     "data": {
      "text/plain": [
       "<AxesSubplot:>"
      ]
     },
     "execution_count": 34,
     "metadata": {},
     "output_type": "execute_result"
    },
    {
     "data": {
      "image/png": "[encoded data removed]",
      "text/plain": [
       "<Figure size 432x288 with 1 Axes>"
      ]
     },
     "metadata": {
      "needs_background": "light"
     },
     "output_type": "display_data"
    }
   ],
   "source": [
    "pd.DataFrame(history.history).plot()"
   ]
  },
  {
   "cell_type": "code",
   "execution_count": 35,
   "id": "f4a5442f",
   "metadata": {},
   "outputs": [
    {
     "name": "stdout",
     "output_type": "stream",
     "text": [
      "313/313 [==============================] - 1s 2ms/step - loss: 18.3289 - accuracy: 0.0980\n"
     ]
    },
    {
     "data": {
      "text/plain": [
       "[18.328872680664062, 0.09799999743700027]"
      ]
     },
     "execution_count": 35,
     "metadata": {},
     "output_type": "execute_result"
    }
   ],
   "source": [
    "model_cf.evaluate(X_test,y_test)"
   ]
  },
  {
   "cell_type": "code",
   "execution_count": 36,
   "id": "a4d11ad2",
   "metadata": {},
   "outputs": [],
   "source": [
    "X_new=X_test[:3]"
   ]
  },
  {
   "cell_type": "code",
   "execution_count": 37,
   "id": "41389b59",
   "metadata": {},
   "outputs": [],
   "source": [
    "actual=y_test[:3]"
   ]
  },
  {
   "cell_type": "code",
   "execution_count": 38,
   "id": "99db7d0b",
   "metadata": {},
   "outputs": [
    {
     "data": {
      "text/plain": [
       "array([7, 2, 1], dtype=uint8)"
      ]
     },
     "execution_count": 38,
     "metadata": {},
     "output_type": "execute_result"
    }
   ],
   "source": [
    "actual"
   ]
  },
  {
   "cell_type": "code",
   "execution_count": 39,
   "id": "9f2dfaa5",
   "metadata": {},
   "outputs": [
    {
     "name": "stdout",
     "output_type": "stream",
     "text": [
      "1/1 [==============================] - 0s 88ms/step\n"
     ]
    },
    {
     "data": {
      "text/plain": [
       "array([[1., 0., 0., 0., 0., 0., 0., 0., 0., 0.],\n",
       "       [1., 0., 0., 0., 0., 0., 0., 0., 0., 0.],\n",
       "       [1., 0., 0., 0., 0., 0., 0., 0., 0., 0.]], dtype=float32)"
      ]
     },
     "execution_count": 39,
     "metadata": {},
     "output_type": "execute_result"
    }
   ],
   "source": [
    "y_prob=model_cf.predict(X_new)\n",
    "y_prob.round(3)"
   ]
  },
  {
   "cell_type": "code",
   "execution_count": 40,
   "id": "96b71e05",
   "metadata": {},
   "outputs": [
    {
     "data": {
      "text/plain": [
       "<AxesSubplot:>"
      ]
     },
     "execution_count": 40,
     "metadata": {},
     "output_type": "execute_result"
    },
    {
     "data": {
      "image/png": "[encoded data removed]",
      "text/plain": [
       "<Figure size 576x576 with 2 Axes>"
      ]
     },
     "metadata": {
      "needs_background": "light"
     },
     "output_type": "display_data"
    }
   ],
   "source": [
    "plt.figure(figsize=(8,8))\n",
    "sns.heatmap(X_test[2],annot=True,cmap='binary')"
   ]
  },
  {
   "cell_type": "code",
   "execution_count": 41,
   "id": "ca7be30a",
   "metadata": {},
   "outputs": [
    {
     "data": {
      "text/plain": [
       "array([[9.9999630e-01, 2.6487180e-07, 2.6553823e-07, 3.2302120e-07,\n",
       "        1.1100736e-06, 8.1954916e-08, 6.2948305e-07, 1.9343149e-07,\n",
       "        2.6522443e-07, 5.8433318e-07],\n",
       "       [1.0000000e+00, 6.9148891e-09, 7.0092887e-09, 6.9286323e-09,\n",
       "        2.0289557e-08, 1.7145807e-09, 3.6277068e-08, 3.1347958e-09,\n",
       "        1.0866143e-08, 1.8980318e-08],\n",
       "       [9.9994183e-01, 5.3882013e-06, 5.6681356e-06, 4.3822561e-06,\n",
       "        1.3734291e-05, 3.0005904e-06, 9.1979236e-06, 2.6923474e-06,\n",
       "        6.0196808e-06, 8.0518585e-06]], dtype=float32)"
      ]
     },
     "execution_count": 41,
     "metadata": {},
     "output_type": "execute_result"
    }
   ],
   "source": [
    "y_prob"
   ]
  },
  {
   "cell_type": "code",
   "execution_count": 42,
   "id": "9fb5a381",
   "metadata": {},
   "outputs": [],
   "source": [
    "y_pred=np.argmax(y_prob,axis=-1)"
   ]
  },
  {
   "cell_type": "code",
   "execution_count": 43,
   "id": "14225ce7",
   "metadata": {},
   "outputs": [
    {
     "data": {
      "text/plain": [
       "array([0, 0, 0], dtype=int64)"
      ]
     },
     "execution_count": 43,
     "metadata": {},
     "output_type": "execute_result"
    }
   ],
   "source": [
    "y_pred"
   ]
  },
  {
   "cell_type": "code",
   "execution_count": 44,
   "id": "447a6dbe",
   "metadata": {},
   "outputs": [
    {
     "data": {
      "image/png": "[encoded data removed]",
      "text/plain": [
       "<Figure size 432x288 with 1 Axes>"
      ]
     },
     "metadata": {
      "needs_background": "light"
     },
     "output_type": "display_data"
    },
    {
     "data": {
      "image/png": "[encoded data removed]",
      "text/plain": [
       "<Figure size 432x288 with 1 Axes>"
      ]
     },
     "metadata": {
      "needs_background": "light"
     },
     "output_type": "display_data"
    },
    {
     "data": {
      "image/png": "[encoded data removed]",
      "text/plain": [
       "<Figure size 432x288 with 1 Axes>"
      ]
     },
     "metadata": {
      "needs_background": "light"
     },
     "output_type": "display_data"
    }
   ],
   "source": [
    "for data,pred,actual in zip(X_new,y_pred,actual):\n",
    "    plt.imshow(data,cmap='binary')\n",
    "    plt.title(f\"Predicted{pred} and Actual {actual}\")\n",
    "    plt.axis('off')\n",
    "    plt.show()"
   ]
  },
  {
   "cell_type": "code",
   "execution_count": 45,
   "id": "e0ed6bb7",
   "metadata": {},
   "outputs": [
    {
     "data": {
      "text/plain": [
       "array([0, 0, 0], dtype=int64)"
      ]
     },
     "execution_count": 45,
     "metadata": {},
     "output_type": "execute_result"
    }
   ],
   "source": [
    "y_pred"
   ]
  },
  {
   "cell_type": "code",
   "execution_count": 46,
   "id": "85f1cc85",
   "metadata": {},
   "outputs": [
    {
     "name": "stdout",
     "output_type": "stream",
     "text": [
      "Saving logs at logs/fit\\log_2023_06_07_14_17_48\n"
     ]
    }
   ],
   "source": [
    "import time \n",
    "def get_log_path(log_dir=\"logs/fit\"):\n",
    "    filename=time.strftime('log_%Y_%m_%d_%H_%M_%S')\n",
    "    log_path=os.path.join(log_dir,filename)\n",
    "    print(f\"Saving logs at {log_path}\")\n",
    "    return log_path\n",
    "log_dir=get_log_path()\n",
    "tb_cb=tf.keras.callbacks.TensorBoard(log_dir=log_dir)"
   ]
  },
  {
   "cell_type": "code",
   "execution_count": 47,
   "id": "76271426",
   "metadata": {},
   "outputs": [],
   "source": [
    "#Early Stopping callback "
   ]
  },
  {
   "cell_type": "code",
   "execution_count": 48,
   "id": "0ffdb135",
   "metadata": {},
   "outputs": [],
   "source": [
    "early_stopping_cb=tf.keras.callbacks.EarlyStopping(patience=5,restore_best_weights=True)"
   ]
  },
  {
   "cell_type": "code",
   "execution_count": 49,
   "id": "0b6a9979",
   "metadata": {},
   "outputs": [],
   "source": [
    "#model checkpoint callback"
   ]
  },
  {
   "cell_type": "code",
   "execution_count": 50,
   "id": "d3adb1bc",
   "metadata": {},
   "outputs": [],
   "source": [
    "ckpt_path=\"Model_ckpt.h5\"\n",
    "checkpointing_cb=tf.keras.callbacks.ModelCheckpoint(ckpt_path,save_best_only=True)"
   ]
  },
  {
   "cell_type": "code",
   "execution_count": 51,
   "id": "3a0f3e4a",
   "metadata": {},
   "outputs": [],
   "source": [
    "epochs=30\n",
    "validation=(X_valid,y_valid)"
   ]
  },
  {
   "cell_type": "code",
   "execution_count": 52,
   "id": "9f917222",
   "metadata": {},
   "outputs": [
    {
     "name": "stdout",
     "output_type": "stream",
     "text": [
      "Epoch 1/30\n",
      "1719/1719 [==============================] - 7s 4ms/step - loss: 1.6103e-05 - accuracy: 0.0990 - val_loss: 1.2893e-05 - val_accuracy: 0.0958\n",
      "Epoch 2/30\n",
      "1719/1719 [==============================] - 7s 4ms/step - loss: 1.5564e-05 - accuracy: 0.0990 - val_loss: 1.2453e-05 - val_accuracy: 0.0958\n",
      "Epoch 3/30\n",
      "1719/1719 [==============================] - 6s 4ms/step - loss: 1.5059e-05 - accuracy: 0.0990 - val_loss: 1.2043e-05 - val_accuracy: 0.0958\n",
      "Epoch 4/30\n",
      "1719/1719 [==============================] - 6s 3ms/step - loss: 1.4585e-05 - accuracy: 0.0990 - val_loss: 1.1657e-05 - val_accuracy: 0.0958\n",
      "Epoch 5/30\n",
      "1719/1719 [==============================] - 6s 4ms/step - loss: 1.4140e-05 - accuracy: 0.0990 - val_loss: 1.1296e-05 - val_accuracy: 0.0958\n",
      "Epoch 6/30\n",
      "1719/1719 [==============================] - 6s 4ms/step - loss: 1.3721e-05 - accuracy: 0.0990 - val_loss: 1.0955e-05 - val_accuracy: 0.0958\n",
      "Epoch 7/30\n",
      "1719/1719 [==============================] - 6s 3ms/step - loss: 1.3326e-05 - accuracy: 0.0990 - val_loss: 1.0633e-05 - val_accuracy: 0.0958\n",
      "Epoch 8/30\n",
      "1719/1719 [==============================] - 6s 3ms/step - loss: 1.2953e-05 - accuracy: 0.0990 - val_loss: 1.0329e-05 - val_accuracy: 0.0958\n",
      "Epoch 9/30\n",
      "1719/1719 [==============================] - 6s 4ms/step - loss: 1.2600e-05 - accuracy: 0.0990 - val_loss: 1.0042e-05 - val_accuracy: 0.0958\n",
      "Epoch 10/30\n",
      "1719/1719 [==============================] - 6s 3ms/step - loss: 1.2264e-05 - accuracy: 0.0990 - val_loss: 9.7697e-06 - val_accuracy: 0.0958\n",
      "Epoch 11/30\n",
      "1719/1719 [==============================] - 6s 4ms/step - loss: 1.1946e-05 - accuracy: 0.0990 - val_loss: 9.5119e-06 - val_accuracy: 0.0958\n",
      "Epoch 12/30\n",
      "1719/1719 [==============================] - 6s 4ms/step - loss: 1.1644e-05 - accuracy: 0.0990 - val_loss: 9.2659e-06 - val_accuracy: 0.0958\n",
      "Epoch 13/30\n",
      "1719/1719 [==============================] - 6s 4ms/step - loss: 1.1357e-05 - accuracy: 0.0990 - val_loss: 9.0319e-06 - val_accuracy: 0.0958\n",
      "Epoch 14/30\n",
      "1719/1719 [==============================] - 6s 4ms/step - loss: 1.1082e-05 - accuracy: 0.0990 - val_loss: 8.8086e-06 - val_accuracy: 0.0958\n",
      "Epoch 15/30\n",
      "1719/1719 [==============================] - 6s 4ms/step - loss: 1.0821e-05 - accuracy: 0.0990 - val_loss: 8.5969e-06 - val_accuracy: 0.0958\n",
      "Epoch 16/30\n",
      "1719/1719 [==============================] - 6s 4ms/step - loss: 1.0572e-05 - accuracy: 0.0990 - val_loss: 8.3954e-06 - val_accuracy: 0.0958\n",
      "Epoch 17/30\n",
      "1719/1719 [==============================] - 6s 3ms/step - loss: 1.0334e-05 - accuracy: 0.0990 - val_loss: 8.2022e-06 - val_accuracy: 0.0958\n",
      "Epoch 18/30\n",
      "1719/1719 [==============================] - 6s 3ms/step - loss: 1.0107e-05 - accuracy: 0.0990 - val_loss: 8.0175e-06 - val_accuracy: 0.0958\n",
      "Epoch 19/30\n",
      "1719/1719 [==============================] - 6s 4ms/step - loss: 9.8883e-06 - accuracy: 0.0990 - val_loss: 7.8407e-06 - val_accuracy: 0.0958\n",
      "Epoch 20/30\n",
      "1719/1719 [==============================] - 7s 4ms/step - loss: 9.6797e-06 - accuracy: 0.0990 - val_loss: 7.6717e-06 - val_accuracy: 0.0958\n",
      "Epoch 21/30\n",
      "1719/1719 [==============================] - 7s 4ms/step - loss: 9.4794e-06 - accuracy: 0.0990 - val_loss: 7.5090e-06 - val_accuracy: 0.0958\n",
      "Epoch 22/30\n",
      "1719/1719 [==============================] - 6s 4ms/step - loss: 9.2872e-06 - accuracy: 0.0990 - val_loss: 7.3530e-06 - val_accuracy: 0.0958\n",
      "Epoch 23/30\n",
      "1719/1719 [==============================] - 6s 3ms/step - loss: 9.1024e-06 - accuracy: 0.0990 - val_loss: 7.2023e-06 - val_accuracy: 0.0958\n",
      "Epoch 24/30\n",
      "1719/1719 [==============================] - 6s 3ms/step - loss: 8.9252e-06 - accuracy: 0.0990 - val_loss: 7.0590e-06 - val_accuracy: 0.0958\n",
      "Epoch 25/30\n",
      "1719/1719 [==============================] - 6s 3ms/step - loss: 8.7543e-06 - accuracy: 0.0990 - val_loss: 6.9205e-06 - val_accuracy: 0.0958\n",
      "Epoch 26/30\n",
      "1719/1719 [==============================] - 6s 3ms/step - loss: 8.5896e-06 - accuracy: 0.0990 - val_loss: 6.7870e-06 - val_accuracy: 0.0958\n",
      "Epoch 27/30\n",
      "1719/1719 [==============================] - 6s 3ms/step - loss: 8.4315e-06 - accuracy: 0.0990 - val_loss: 6.6591e-06 - val_accuracy: 0.0958\n",
      "Epoch 28/30\n",
      "1719/1719 [==============================] - 6s 3ms/step - loss: 8.2788e-06 - accuracy: 0.0990 - val_loss: 6.5356e-06 - val_accuracy: 0.0958\n",
      "Epoch 29/30\n",
      "1719/1719 [==============================] - 6s 3ms/step - loss: 8.1316e-06 - accuracy: 0.0990 - val_loss: 6.4169e-06 - val_accuracy: 0.0958\n",
      "Epoch 30/30\n",
      "1719/1719 [==============================] - 6s 3ms/step - loss: 7.9891e-06 - accuracy: 0.0990 - val_loss: 6.3019e-06 - val_accuracy: 0.0958\n"
     ]
    }
   ],
   "source": [
    "history=model_cf.fit(X_train,y_train,epochs=epochs,validation_data=validation,batch_size=32,callbacks=[tb_cb,early_stopping_cb,checkpointing_cb])"
   ]
  },
  {
   "cell_type": "code",
   "execution_count": 53,
   "id": "67114606",
   "metadata": {},
   "outputs": [],
   "source": [
    "ekpt_model=tf.keras.models.load_model(ckpt_path)"
   ]
  },
  {
   "cell_type": "code",
   "execution_count": 54,
   "id": "0c20fdec",
   "metadata": {},
   "outputs": [
    {
     "name": "stdout",
     "output_type": "stream",
     "text": [
      "Epoch 1/10\n",
      "1719/1719 [==============================] - 6s 3ms/step - loss: 7.8515e-06 - accuracy: 0.0990 - val_loss: 6.1903e-06 - val_accuracy: 0.0958\n",
      "Epoch 2/10\n",
      "1719/1719 [==============================] - 6s 3ms/step - loss: 7.7191e-06 - accuracy: 0.0990 - val_loss: 6.0831e-06 - val_accuracy: 0.0958\n",
      "Epoch 3/10\n",
      "1719/1719 [==============================] - 6s 3ms/step - loss: 7.5906e-06 - accuracy: 0.0990 - val_loss: 5.9790e-06 - val_accuracy: 0.0958\n",
      "Epoch 4/10\n",
      "1719/1719 [==============================] - 6s 3ms/step - loss: 7.4663e-06 - accuracy: 0.0990 - val_loss: 5.8785e-06 - val_accuracy: 0.0958\n",
      "Epoch 5/10\n",
      "1719/1719 [==============================] - 6s 3ms/step - loss: 7.3462e-06 - accuracy: 0.0990 - val_loss: 5.7816e-06 - val_accuracy: 0.0958\n",
      "Epoch 6/10\n",
      "1719/1719 [==============================] - 6s 3ms/step - loss: 7.2295e-06 - accuracy: 0.0990 - val_loss: 5.6868e-06 - val_accuracy: 0.0958\n",
      "Epoch 7/10\n",
      "1719/1719 [==============================] - 6s 3ms/step - loss: 7.1167e-06 - accuracy: 0.0990 - val_loss: 5.5961e-06 - val_accuracy: 0.0958\n",
      "Epoch 8/10\n",
      "1719/1719 [==============================] - 6s 3ms/step - loss: 7.0072e-06 - accuracy: 0.0990 - val_loss: 5.5076e-06 - val_accuracy: 0.0958\n",
      "Epoch 9/10\n",
      "1719/1719 [==============================] - 6s 3ms/step - loss: 6.9012e-06 - accuracy: 0.0990 - val_loss: 5.4226e-06 - val_accuracy: 0.0958\n",
      "Epoch 10/10\n",
      "1719/1719 [==============================] - 6s 3ms/step - loss: 6.7982e-06 - accuracy: 0.0990 - val_loss: 5.3401e-06 - val_accuracy: 0.0958\n"
     ]
    }
   ],
   "source": [
    "history=ekpt_model.fit(X_train,y_train,epochs=10,validation_data=validation,batch_size=32,callbacks=[tb_cb,early_stopping_cb,checkpointing_cb])"
   ]
  },
  {
   "cell_type": "code",
   "execution_count": 55,
   "id": "9529a8e1",
   "metadata": {},
   "outputs": [],
   "source": [
    "import time\n",
    "import os\n",
    "def save_model(MODEL_dir='TRAINED_MODEL'):\n",
    "    os.makedirs(MODEL_dir,exist_ok=True)\n",
    "    filename=time.strftime(\"Model_%Y_%m_%d_%H_%M_%S.h5\")\n",
    "    model_path=os.path.join(MODEL_dir,filename)\n",
    "    print(f\"Model{filename} will be saved at {model_path}\")\n",
    "    return model_path"
   ]
  },
  {
   "cell_type": "code",
   "execution_count": 56,
   "id": "22804eaf",
   "metadata": {},
   "outputs": [
    {
     "name": "stdout",
     "output_type": "stream",
     "text": [
      "ModelModel_2023_06_07_14_21_51.h5 will be saved at TRAINED_MODEL\\Model_2023_06_07_14_21_51.h5\n"
     ]
    },
    {
     "data": {
      "text/plain": [
       "'TRAINED_MODEL\\\\Model_2023_06_07_14_21_51.h5'"
      ]
     },
     "execution_count": 56,
     "metadata": {},
     "output_type": "execute_result"
    }
   ],
   "source": [
    "Unique_path=save_model()\n",
    "Unique_path"
   ]
  },
  {
   "cell_type": "code",
   "execution_count": 57,
   "id": "a064e80d",
   "metadata": {},
   "outputs": [
    {
     "data": {
      "text/plain": [
       "{'verbose': 1, 'epochs': 10, 'steps': 1719}"
      ]
     },
     "execution_count": 57,
     "metadata": {},
     "output_type": "execute_result"
    }
   ],
   "source": [
    "history.params"
   ]
  },
  {
   "cell_type": "code",
   "execution_count": 58,
   "id": "11876a91",
   "metadata": {},
   "outputs": [
    {
     "data": {
      "text/html": [
       "<div>\n",
       "<style scoped>\n",
       "    .dataframe tbody tr th:only-of-type {\n",
       "        vertical-align: middle;\n",
       "    }\n",
       "\n",
       "    .dataframe tbody tr th {\n",
       "        vertical-align: top;\n",
       "    }\n",
       "\n",
       "    .dataframe thead th {\n",
       "        text-align: right;\n",
       "    }\n",
       "</style>\n",
       "<table border=\"1\" class=\"dataframe\">\n",
       "  <thead>\n",
       "    <tr style=\"text-align: right;\">\n",
       "      <th></th>\n",
       "      <th>loss</th>\n",
       "      <th>accuracy</th>\n",
       "      <th>val_loss</th>\n",
       "      <th>val_accuracy</th>\n",
       "    </tr>\n",
       "  </thead>\n",
       "  <tbody>\n",
       "    <tr>\n",
       "      <th>0</th>\n",
       "      <td>0.000008</td>\n",
       "      <td>0.098982</td>\n",
       "      <td>0.000006</td>\n",
       "      <td>0.0958</td>\n",
       "    </tr>\n",
       "    <tr>\n",
       "      <th>1</th>\n",
       "      <td>0.000008</td>\n",
       "      <td>0.098982</td>\n",
       "      <td>0.000006</td>\n",
       "      <td>0.0958</td>\n",
       "    </tr>\n",
       "    <tr>\n",
       "      <th>2</th>\n",
       "      <td>0.000008</td>\n",
       "      <td>0.098982</td>\n",
       "      <td>0.000006</td>\n",
       "      <td>0.0958</td>\n",
       "    </tr>\n",
       "    <tr>\n",
       "      <th>3</th>\n",
       "      <td>0.000007</td>\n",
       "      <td>0.098982</td>\n",
       "      <td>0.000006</td>\n",
       "      <td>0.0958</td>\n",
       "    </tr>\n",
       "    <tr>\n",
       "      <th>4</th>\n",
       "      <td>0.000007</td>\n",
       "      <td>0.098982</td>\n",
       "      <td>0.000006</td>\n",
       "      <td>0.0958</td>\n",
       "    </tr>\n",
       "    <tr>\n",
       "      <th>5</th>\n",
       "      <td>0.000007</td>\n",
       "      <td>0.098982</td>\n",
       "      <td>0.000006</td>\n",
       "      <td>0.0958</td>\n",
       "    </tr>\n",
       "    <tr>\n",
       "      <th>6</th>\n",
       "      <td>0.000007</td>\n",
       "      <td>0.098982</td>\n",
       "      <td>0.000006</td>\n",
       "      <td>0.0958</td>\n",
       "    </tr>\n",
       "    <tr>\n",
       "      <th>7</th>\n",
       "      <td>0.000007</td>\n",
       "      <td>0.098982</td>\n",
       "      <td>0.000006</td>\n",
       "      <td>0.0958</td>\n",
       "    </tr>\n",
       "    <tr>\n",
       "      <th>8</th>\n",
       "      <td>0.000007</td>\n",
       "      <td>0.098982</td>\n",
       "      <td>0.000005</td>\n",
       "      <td>0.0958</td>\n",
       "    </tr>\n",
       "    <tr>\n",
       "      <th>9</th>\n",
       "      <td>0.000007</td>\n",
       "      <td>0.098982</td>\n",
       "      <td>0.000005</td>\n",
       "      <td>0.0958</td>\n",
       "    </tr>\n",
       "  </tbody>\n",
       "</table>\n",
       "</div>"
      ],
      "text/plain": [
       "       loss  accuracy  val_loss  val_accuracy\n",
       "0  0.000008  0.098982  0.000006        0.0958\n",
       "1  0.000008  0.098982  0.000006        0.0958\n",
       "2  0.000008  0.098982  0.000006        0.0958\n",
       "3  0.000007  0.098982  0.000006        0.0958\n",
       "4  0.000007  0.098982  0.000006        0.0958\n",
       "5  0.000007  0.098982  0.000006        0.0958\n",
       "6  0.000007  0.098982  0.000006        0.0958\n",
       "7  0.000007  0.098982  0.000006        0.0958\n",
       "8  0.000007  0.098982  0.000005        0.0958\n",
       "9  0.000007  0.098982  0.000005        0.0958"
      ]
     },
     "execution_count": 58,
     "metadata": {},
     "output_type": "execute_result"
    }
   ],
   "source": [
    "pd.DataFrame(history.history)"
   ]
  },
  {
   "cell_type": "code",
   "execution_count": 59,
   "id": "b396a62a",
   "metadata": {},
   "outputs": [
    {
     "data": {
      "text/plain": [
       "<AxesSubplot:>"
      ]
     },
     "execution_count": 59,
     "metadata": {},
     "output_type": "execute_result"
    },
    {
     "data": {
      "image/png": "[encoded data removed]",
      "text/plain": [
       "<Figure size 432x288 with 1 Axes>"
      ]
     },
     "metadata": {
      "needs_background": "light"
     },
     "output_type": "display_data"
    }
   ],
   "source": [
    "pd.DataFrame(history.history).plot()"
   ]
  },
  {
   "cell_type": "code",
   "execution_count": 60,
   "id": "ecc932db",
   "metadata": {},
   "outputs": [
    {
     "name": "stdout",
     "output_type": "stream",
     "text": [
      "313/313 [==============================] - 1s 2ms/step - loss: 19.6881 - accuracy: 0.0980\n"
     ]
    },
    {
     "data": {
      "text/plain": [
       "[19.688093185424805, 0.09799999743700027]"
      ]
     },
     "execution_count": 60,
     "metadata": {},
     "output_type": "execute_result"
    }
   ],
   "source": [
    "model_cf.evaluate(X_test,y_test)"
   ]
  },
  {
   "cell_type": "code",
   "execution_count": 61,
   "id": "b8b05ef0",
   "metadata": {},
   "outputs": [],
   "source": [
    "x_new=X_test[:3]"
   ]
  },
  {
   "cell_type": "code",
   "execution_count": 62,
   "id": "58f3431e",
   "metadata": {},
   "outputs": [],
   "source": [
    "actual=y_test[:3]"
   ]
  },
  {
   "cell_type": "code",
   "execution_count": 63,
   "id": "6663e1a8",
   "metadata": {},
   "outputs": [
    {
     "data": {
      "text/plain": [
       "array([7, 2, 1], dtype=uint8)"
      ]
     },
     "execution_count": 63,
     "metadata": {},
     "output_type": "execute_result"
    }
   ],
   "source": [
    "actual"
   ]
  },
  {
   "cell_type": "code",
   "execution_count": 64,
   "id": "1c442aaf",
   "metadata": {},
   "outputs": [
    {
     "name": "stdout",
     "output_type": "stream",
     "text": [
      "1/1 [==============================] - 0s 22ms/step\n"
     ]
    }
   ],
   "source": [
    "y_prob=model_cf.predict(X_new)"
   ]
  },
  {
   "cell_type": "code",
   "execution_count": 65,
   "id": "eaf688f2",
   "metadata": {},
   "outputs": [
    {
     "data": {
      "text/plain": [
       "array([[1., 0., 0., 0., 0., 0., 0., 0., 0., 0.],\n",
       "       [1., 0., 0., 0., 0., 0., 0., 0., 0., 0.],\n",
       "       [1., 0., 0., 0., 0., 0., 0., 0., 0., 0.]], dtype=float32)"
      ]
     },
     "execution_count": 65,
     "metadata": {},
     "output_type": "execute_result"
    }
   ],
   "source": [
    "y_prob.round(3)"
   ]
  },
  {
   "cell_type": "code",
   "execution_count": 66,
   "id": "4ebb1e28",
   "metadata": {},
   "outputs": [],
   "source": [
    "#load the model \n",
    "path_name_model=\"TRAINED_MODEL/Model_2023_06_05_18_45_29.h5\""
   ]
  },
  {
   "cell_type": "code",
   "execution_count": 67,
   "id": "3e547ccc",
   "metadata": {},
   "outputs": [
    {
     "ename": "OSError",
     "evalue": "No file or directory found at TRAINED_MODEL/Model_2023_06_05_18_45_29.h5",
     "output_type": "error",
     "traceback": [
      "\u001b[1;31m---------------------------------------------------------------------------\u001b[0m",
      "\u001b[1;31mOSError\u001b[0m                                   Traceback (most recent call last)",
      "Input \u001b[1;32mIn [67]\u001b[0m, in \u001b[0;36m<cell line: 1>\u001b[1;34m()\u001b[0m\n\u001b[1;32m----> 1\u001b[0m loaded_model\u001b[38;5;241m=\u001b[39m\u001b[43mtf\u001b[49m\u001b[38;5;241;43m.\u001b[39;49m\u001b[43mkeras\u001b[49m\u001b[38;5;241;43m.\u001b[39;49m\u001b[43mmodels\u001b[49m\u001b[38;5;241;43m.\u001b[39;49m\u001b[43mload_model\u001b[49m\u001b[43m(\u001b[49m\u001b[43mpath_name_model\u001b[49m\u001b[43m)\u001b[49m\n",
      "File \u001b[1;32m~\\anaconda3\\lib\\site-packages\\keras\\utils\\traceback_utils.py:70\u001b[0m, in \u001b[0;36mfilter_traceback.<locals>.error_handler\u001b[1;34m(*args, **kwargs)\u001b[0m\n\u001b[0;32m     67\u001b[0m     filtered_tb \u001b[38;5;241m=\u001b[39m _process_traceback_frames(e\u001b[38;5;241m.\u001b[39m__traceback__)\n\u001b[0;32m     68\u001b[0m     \u001b[38;5;66;03m# To get the full stack trace, call:\u001b[39;00m\n\u001b[0;32m     69\u001b[0m     \u001b[38;5;66;03m# `tf.debugging.disable_traceback_filtering()`\u001b[39;00m\n\u001b[1;32m---> 70\u001b[0m     \u001b[38;5;28;01mraise\u001b[39;00m e\u001b[38;5;241m.\u001b[39mwith_traceback(filtered_tb) \u001b[38;5;28;01mfrom\u001b[39;00m \u001b[38;5;28mNone\u001b[39m\n\u001b[0;32m     71\u001b[0m \u001b[38;5;28;01mfinally\u001b[39;00m:\n\u001b[0;32m     72\u001b[0m     \u001b[38;5;28;01mdel\u001b[39;00m filtered_tb\n",
      "File \u001b[1;32m~\\anaconda3\\lib\\site-packages\\keras\\saving\\legacy\\save.py:227\u001b[0m, in \u001b[0;36mload_model\u001b[1;34m(filepath, custom_objects, compile, options)\u001b[0m\n\u001b[0;32m    225\u001b[0m \u001b[38;5;28;01mif\u001b[39;00m \u001b[38;5;28misinstance\u001b[39m(filepath_str, \u001b[38;5;28mstr\u001b[39m):\n\u001b[0;32m    226\u001b[0m     \u001b[38;5;28;01mif\u001b[39;00m \u001b[38;5;129;01mnot\u001b[39;00m tf\u001b[38;5;241m.\u001b[39mio\u001b[38;5;241m.\u001b[39mgfile\u001b[38;5;241m.\u001b[39mexists(filepath_str):\n\u001b[1;32m--> 227\u001b[0m         \u001b[38;5;28;01mraise\u001b[39;00m \u001b[38;5;167;01mIOError\u001b[39;00m(\n\u001b[0;32m    228\u001b[0m             \u001b[38;5;124mf\u001b[39m\u001b[38;5;124m\"\u001b[39m\u001b[38;5;124mNo file or directory found at \u001b[39m\u001b[38;5;132;01m{\u001b[39;00mfilepath_str\u001b[38;5;132;01m}\u001b[39;00m\u001b[38;5;124m\"\u001b[39m\n\u001b[0;32m    229\u001b[0m         )\n\u001b[0;32m    231\u001b[0m     \u001b[38;5;28;01mif\u001b[39;00m tf\u001b[38;5;241m.\u001b[39mio\u001b[38;5;241m.\u001b[39mgfile\u001b[38;5;241m.\u001b[39misdir(filepath_str):\n\u001b[0;32m    232\u001b[0m         \u001b[38;5;28;01mreturn\u001b[39;00m saved_model_load\u001b[38;5;241m.\u001b[39mload(\n\u001b[0;32m    233\u001b[0m             filepath_str, \u001b[38;5;28mcompile\u001b[39m, options\n\u001b[0;32m    234\u001b[0m         )\n",
      "\u001b[1;31mOSError\u001b[0m: No file or directory found at TRAINED_MODEL/Model_2023_06_05_18_45_29.h5"
     ]
    }
   ],
   "source": [
    "loaded_model=tf.keras.models.load_model(path_name_model)"
   ]
  },
  {
   "cell_type": "code",
   "execution_count": null,
   "id": "a1392079",
   "metadata": {},
   "outputs": [],
   "source": []
  },
  {
   "cell_type": "code",
   "execution_count": null,
   "id": "da574ec7",
   "metadata": {},
   "outputs": [],
   "source": []
  },
  {
   "cell_type": "code",
   "execution_count": null,
   "id": "1e503f55",
   "metadata": {},
   "outputs": [],
   "source": []
  }
 ],
 "metadata": {
  "kernelspec": {
   "display_name": "Python 3 (ipykernel)",
   "language": "python",
   "name": "python3"
  },
  "language_info": {
   "codemirror_mode": {
    "name": "ipython",
    "version": 3
   },
   "file_extension": ".py",
   "mimetype": "text/x-python",
   "name": "python",
   "nbconvert_exporter": "python",
   "pygments_lexer": "ipython3",
   "version": "3.9.12"
  }
 },
 "nbformat": 4,
 "nbformat_minor": 5
}

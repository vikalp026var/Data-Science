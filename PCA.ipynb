{
 "cells": [
  {
   "cell_type": "code",
   "execution_count": 1,
   "id": "11eaca23",
   "metadata": {},
   "outputs": [],
   "source": [
    "import numpy as np\n",
    "import pandas as pd \n",
    "import matplotlib.pyplot as plt\n",
    "from sklearn.decomposition import PCA\n",
    "from sklearn import datasets"
   ]
  },
  {
   "cell_type": "code",
   "execution_count": 2,
   "id": "cf04d0a2",
   "metadata": {},
   "outputs": [],
   "source": [
    "data=datasets.load_iris()"
   ]
  },
  {
   "cell_type": "code",
   "execution_count": 4,
   "id": "cc303aae",
   "metadata": {},
   "outputs": [
    {
     "name": "stdout",
     "output_type": "stream",
     "text": [
      ".. _iris_dataset:\n",
      "\n",
      "Iris plants dataset\n",
      "--------------------\n",
      "\n",
      "**Data Set Characteristics:**\n",
      "\n",
      "    :Number of Instances: 150 (50 in each of three classes)\n",
      "    :Number of Attributes: 4 numeric, predictive attributes and the class\n",
      "    :Attribute Information:\n",
      "        - sepal length in cm\n",
      "        - sepal width in cm\n",
      "        - petal length in cm\n",
      "        - petal width in cm\n",
      "        - class:\n",
      "                - Iris-Setosa\n",
      "                - Iris-Versicolour\n",
      "                - Iris-Virginica\n",
      "                \n",
      "    :Summary Statistics:\n",
      "\n",
      "    ============== ==== ==== ======= ===== ====================\n",
      "                    Min  Max   Mean    SD   Class Correlation\n",
      "    ============== ==== ==== ======= ===== ====================\n",
      "    sepal length:   4.3  7.9   5.84   0.83    0.7826\n",
      "    sepal width:    2.0  4.4   3.05   0.43   -0.4194\n",
      "    petal length:   1.0  6.9   3.76   1.76    0.9490  (high!)\n",
      "    petal width:    0.1  2.5   1.20   0.76    0.9565  (high!)\n",
      "    ============== ==== ==== ======= ===== ====================\n",
      "\n",
      "    :Missing Attribute Values: None\n",
      "    :Class Distribution: 33.3% for each of 3 classes.\n",
      "    :Creator: R.A. Fisher\n",
      "    :Donor: Michael Marshall (MARSHALL%PLU@io.arc.nasa.gov)\n",
      "    :Date: July, 1988\n",
      "\n",
      "The famous Iris database, first used by Sir R.A. Fisher. The dataset is taken\n",
      "from Fisher's paper. Note that it's the same as in R, but not as in the UCI\n",
      "Machine Learning Repository, which has two wrong data points.\n",
      "\n",
      "This is perhaps the best known database to be found in the\n",
      "pattern recognition literature.  Fisher's paper is a classic in the field and\n",
      "is referenced frequently to this day.  (See Duda & Hart, for example.)  The\n",
      "data set contains 3 classes of 50 instances each, where each class refers to a\n",
      "type of iris plant.  One class is linearly separable from the other 2; the\n",
      "latter are NOT linearly separable from each other.\n",
      "\n",
      ".. topic:: References\n",
      "\n",
      "   - Fisher, R.A. \"The use of multiple measurements in taxonomic problems\"\n",
      "     Annual Eugenics, 7, Part II, 179-188 (1936); also in \"Contributions to\n",
      "     Mathematical Statistics\" (John Wiley, NY, 1950).\n",
      "   - Duda, R.O., & Hart, P.E. (1973) Pattern Classification and Scene Analysis.\n",
      "     (Q327.D83) John Wiley & Sons.  ISBN 0-471-22361-1.  See page 218.\n",
      "   - Dasarathy, B.V. (1980) \"Nosing Around the Neighborhood: A New System\n",
      "     Structure and Classification Rule for Recognition in Partially Exposed\n",
      "     Environments\".  IEEE Transactions on Pattern Analysis and Machine\n",
      "     Intelligence, Vol. PAMI-2, No. 1, 67-71.\n",
      "   - Gates, G.W. (1972) \"The Reduced Nearest Neighbor Rule\".  IEEE Transactions\n",
      "     on Information Theory, May 1972, 431-433.\n",
      "   - See also: 1988 MLC Proceedings, 54-64.  Cheeseman et al\"s AUTOCLASS II\n",
      "     conceptual clustering system finds 3 classes in the data.\n",
      "   - Many, many more ...\n"
     ]
    }
   ],
   "source": [
    "print(data.DESCR)"
   ]
  },
  {
   "cell_type": "code",
   "execution_count": 5,
   "id": "d67b4a21",
   "metadata": {},
   "outputs": [],
   "source": [
    "X=data['data']"
   ]
  },
  {
   "cell_type": "code",
   "execution_count": 6,
   "id": "e2dfa290",
   "metadata": {},
   "outputs": [],
   "source": [
    "y=data['target']"
   ]
  },
  {
   "cell_type": "code",
   "execution_count": 7,
   "id": "cdc8f582",
   "metadata": {},
   "outputs": [
    {
     "data": {
      "text/plain": [
       "array([0, 0, 0, 0, 0, 0, 0, 0, 0, 0, 0, 0, 0, 0, 0, 0, 0, 0, 0, 0, 0, 0,\n",
       "       0, 0, 0, 0, 0, 0, 0, 0, 0, 0, 0, 0, 0, 0, 0, 0, 0, 0, 0, 0, 0, 0,\n",
       "       0, 0, 0, 0, 0, 0, 1, 1, 1, 1, 1, 1, 1, 1, 1, 1, 1, 1, 1, 1, 1, 1,\n",
       "       1, 1, 1, 1, 1, 1, 1, 1, 1, 1, 1, 1, 1, 1, 1, 1, 1, 1, 1, 1, 1, 1,\n",
       "       1, 1, 1, 1, 1, 1, 1, 1, 1, 1, 1, 1, 2, 2, 2, 2, 2, 2, 2, 2, 2, 2,\n",
       "       2, 2, 2, 2, 2, 2, 2, 2, 2, 2, 2, 2, 2, 2, 2, 2, 2, 2, 2, 2, 2, 2,\n",
       "       2, 2, 2, 2, 2, 2, 2, 2, 2, 2, 2, 2, 2, 2, 2, 2, 2, 2])"
      ]
     },
     "execution_count": 7,
     "metadata": {},
     "output_type": "execute_result"
    }
   ],
   "source": [
    "y"
   ]
  },
  {
   "cell_type": "code",
   "execution_count": 8,
   "id": "758c2786",
   "metadata": {},
   "outputs": [],
   "source": [
    "from sklearn.model_selection import train_test_split\n",
    "X_train,X_test,y_train,y_test=train_test_split(X,y,test_size=0.33,random_state=42)"
   ]
  },
  {
   "cell_type": "code",
   "execution_count": 9,
   "id": "9014af7a",
   "metadata": {},
   "outputs": [],
   "source": [
    "pca=PCA(n_components=3)\n"
   ]
  },
  {
   "cell_type": "code",
   "execution_count": 10,
   "id": "5f71616d",
   "metadata": {},
   "outputs": [],
   "source": [
    "X_train=pca.fit_transform(X_train)"
   ]
  },
  {
   "cell_type": "code",
   "execution_count": 11,
   "id": "cc51aa98",
   "metadata": {},
   "outputs": [
    {
     "data": {
      "text/plain": [
       "array([[ 3.22902397e-01, -2.37270677e-01,  5.67385995e-02],\n",
       "       [ 3.35552035e+00,  5.83049683e-01, -3.28026023e-01],\n",
       "       [ 6.06909989e-01, -3.15971948e-01,  3.00676488e-01],\n",
       "       [-2.72817511e+00,  4.27577132e-01,  1.15313718e-03],\n",
       "       [ 3.45649511e+00,  5.05276379e-01, -5.58623842e-01],\n",
       "       [ 1.81648425e-01, -2.53524117e-01, -2.95111131e-01],\n",
       "       [-2.68432386e+00,  4.26081277e-01, -1.16106065e-01],\n",
       "       [-2.81519461e+00,  3.65984714e-01,  1.04618538e-01],\n",
       "       [-2.24998893e+00,  5.19074070e-01,  3.29384000e-01],\n",
       "       [-5.78277826e-01, -1.17473663e+00, -3.43091299e-01],\n",
       "       [ 1.33493144e+00, -1.58668543e-01, -7.85684488e-02],\n",
       "       [-2.40366776e+00,  5.99469498e-02,  1.25799777e-01],\n",
       "       [-2.55890034e+00, -2.63787007e-02, -2.52131368e-01],\n",
       "       [-2.35087676e+00,  1.95931613e-01,  5.58985862e-02],\n",
       "       [ 2.99984039e-01, -4.44823406e-01, -1.67008263e-02],\n",
       "       [-2.63556736e+00,  3.39217011e-01, -5.69862980e-02],\n",
       "       [ 2.80440519e-01, -1.55505144e-01,  6.51056271e-02],\n",
       "       [ 3.45768728e+00,  1.17793965e+00,  1.87436615e-01],\n",
       "       [-2.89161032e+00, -1.22406484e-01,  7.89194737e-02],\n",
       "       [ 5.92900620e-01,  8.49870947e-02, -2.06299591e-01],\n",
       "       [ 1.28424359e+00, -7.49998908e-01,  2.32282228e-01],\n",
       "       [-2.62952405e+00,  1.18810519e+00,  2.31344631e-01],\n",
       "       [ 1.11774756e+00, -1.35503719e-01,  2.67782384e-01],\n",
       "       [ 1.35730781e+00, -5.49040768e-01,  2.55949246e-01],\n",
       "       [ 2.04653708e-01, -4.46887149e-01, -7.25754938e-01],\n",
       "       [ 5.33162747e-01, -4.52345961e-01,  4.08062474e-01],\n",
       "       [ 1.85478621e+00,  1.07124817e-01,  7.23217789e-01],\n",
       "       [ 1.19760710e-01, -7.54387336e-01, -2.28126219e-01],\n",
       "       [-2.31760593e+00,  8.30672471e-01,  2.21017682e-01],\n",
       "       [-7.70470956e-01, -9.28333530e-01, -1.63246219e-01],\n",
       "       [ 1.74980978e+00, -1.77273250e-01, -5.53551633e-02],\n",
       "       [-2.75109347e+00,  2.20024403e-01, -7.22862886e-02],\n",
       "       [-2.91537607e+00,  1.87696063e-01, -1.46706046e-01],\n",
       "       [-1.29445649e-01, -6.23184610e-01, -2.85811922e-01],\n",
       "       [ 1.51163890e+00,  3.16533478e-01, -1.52414200e-01],\n",
       "       [-2.68838171e+00, -6.20558575e-03, -1.40298940e-01],\n",
       "       [ 1.52775141e+00, -5.39771267e-01,  5.95511364e-01],\n",
       "       [-2.67244099e+00,  2.71030004e-01, -3.29330507e-03],\n",
       "       [-2.45185151e+00,  2.73704917e-01,  2.86496405e-01],\n",
       "       [ 1.06691868e+00, -6.43250030e-02,  4.48607795e-01],\n",
       "       [-9.68958704e-01, -6.76831693e-01, -5.08879339e-02],\n",
       "       [ 2.38374718e+00,  3.89036359e-01,  2.36514742e-01],\n",
       "       [ 1.32460232e+00, -3.76418739e-01, -1.70342852e-02],\n",
       "       [ 1.72563567e+00, -4.47135551e-01, -2.17557980e-01],\n",
       "       [ 3.03521188e+00,  7.20457647e-01, -2.98454523e-01],\n",
       "       [ 1.05805447e-01, -6.15021614e-01, -1.00993800e-01],\n",
       "       [-2.94442467e+00, -4.67829080e-01, -4.39316847e-03],\n",
       "       [-3.28065052e+00, -3.98218772e-01,  4.13865295e-02],\n",
       "       [ 1.23837611e+00, -6.94073112e-01, -3.95491288e-01],\n",
       "       [ 2.57383716e+00,  5.97978957e-01, -1.84279822e-01],\n",
       "       [-2.79900257e+00, -2.10766605e-01,  2.07800386e-02],\n",
       "       [-2.69269087e+00,  4.15494460e-01,  5.63523189e-02],\n",
       "       [-3.03703242e+00, -3.79468959e-01,  5.37462667e-02],\n",
       "       [ 1.24243396e+00, -2.61786249e-01, -3.71298413e-01],\n",
       "       [ 2.09840432e+00,  1.25874630e-01,  7.35577526e-01],\n",
       "       [-2.87008134e+00,  4.87656651e-03,  2.61251074e-01],\n",
       "       [ 2.11860009e+00,  2.43003495e-01,  4.18234049e-02],\n",
       "       [ 2.48338666e+00, -3.05999441e-02,  7.48917595e-01],\n",
       "       [-2.94036682e+00, -3.55422169e-02,  1.97997066e-02],\n",
       "       [ 9.34031714e-01, -6.99916251e-02, -7.57003195e-02],\n",
       "       [ 1.03835796e+00,  1.39668128e-01, -3.04266093e-01],\n",
       "       [ 1.20545007e+00, -1.38495428e-01,  3.32639793e-02],\n",
       "       [ 1.24496141e+00,  7.52740016e-01, -3.68238628e-01],\n",
       "       [ 1.85685860e+00,  1.22810368e-01,  4.83272610e-01],\n",
       "       [-2.57784777e+00,  5.99271195e-01,  2.02705314e-01],\n",
       "       [ 2.06286596e+00,  3.99550623e-01,  4.62698471e-02],\n",
       "       [ 4.60640500e-01, -5.53791472e-02,  1.23317186e-01],\n",
       "       [ 1.71560463e+00,  1.06556928e-01,  1.31422879e-01],\n",
       "       [-3.62028268e-01, -2.79330422e-01, -3.37544993e-01],\n",
       "       [-6.89165509e-02, -6.73622323e-01,  2.36990005e-01],\n",
       "       [ 8.41423965e-01,  1.83684964e-02, -1.75608844e-02],\n",
       "       [-2.91583113e+00, -8.11144652e-01, -3.89711010e-01],\n",
       "       [ 9.97285456e-01,  3.01703340e-01, -4.04791240e-01],\n",
       "       [ 4.05864038e-01, -6.07965122e-01, -7.09196760e-02],\n",
       "       [-2.58275302e+00,  6.84639607e-01,  2.63263442e-02],\n",
       "       [ 1.93421027e-01, -2.17097562e-01,  1.68571028e-01],\n",
       "       [ 2.88853403e+00,  4.01085599e-01, -4.12391121e-01],\n",
       "       [ 2.23205381e+00,  3.46510551e-01,  2.97068574e-01],\n",
       "       [-2.58553177e+00,  5.24100250e-01,  2.44110693e-01],\n",
       "       [-8.14322208e-01, -9.26837676e-01, -4.59870166e-02],\n",
       "       [ 2.37399080e+00,  2.98179863e-01,  5.17865301e-01],\n",
       "       [ 2.34556370e+00,  5.20133100e-01, -4.32664153e-01],\n",
       "       [-2.84438423e+00,  3.72968652e-01,  1.16906151e-01],\n",
       "       [ 2.26683170e+00,  1.89574073e-01,  3.30106926e-01],\n",
       "       [-2.76703420e+00, -5.72111865e-02, -2.09291924e-01],\n",
       "       [ 1.42180990e+00,  5.65432956e-01, -3.12059114e-01],\n",
       "       [ 2.79660929e+00,  4.24861593e-01, -4.85304690e-01],\n",
       "       [ 1.92038700e+00, -1.50043643e-01,  8.65513891e-02],\n",
       "       [ 2.44249911e-01, -2.88276278e-01, -1.22543840e-02],\n",
       "       [ 1.90152649e+00,  7.46904912e-02,  3.73048384e-02],\n",
       "       [ 7.57270148e-01, -2.83600326e-01, -6.35963066e-01],\n",
       "       [ 6.66647862e-01,  2.21361108e-01, -3.13685577e-01],\n",
       "       [ 1.14080695e+00, -5.90460071e-01,  4.71247074e-01],\n",
       "       [ 1.33776429e+00, -2.59722506e-01,  3.37755699e-01],\n",
       "       [-2.35368627e+00,  5.06423509e-01, -2.07211728e-01],\n",
       "       [ 3.06114278e-01,  3.14900815e-03, -2.32453130e-01],\n",
       "       [ 4.54651292e-01, -1.16586064e+00,  4.69094755e-01],\n",
       "       [-2.67620816e+00,  1.29065500e+00, -6.77203149e-02],\n",
       "       [ 1.73964432e-01, -3.28695061e-01, -2.53705752e-01],\n",
       "       [ 2.57174142e+00,  3.72855473e-01, -9.75484772e-02]])"
      ]
     },
     "execution_count": 11,
     "metadata": {},
     "output_type": "execute_result"
    }
   ],
   "source": [
    "X_train"
   ]
  },
  {
   "cell_type": "code",
   "execution_count": 12,
   "id": "0a406e4d",
   "metadata": {},
   "outputs": [
    {
     "data": {
      "text/plain": [
       "array([[ 0.36873621, -0.06977632,  0.85630117,  0.35484246],\n",
       "       [ 0.68187006,  0.69682861, -0.1867726 , -0.12082672],\n",
       "       [-0.53692993,  0.63566209,  0.05426774,  0.55199182]])"
      ]
     },
     "execution_count": 12,
     "metadata": {},
     "output_type": "execute_result"
    }
   ],
   "source": [
    "pca.components_"
   ]
  },
  {
   "cell_type": "code",
   "execution_count": 13,
   "id": "bc6e0ab1",
   "metadata": {},
   "outputs": [
    {
     "data": {
      "text/plain": [
       "array([0.9201008 , 0.05494812, 0.01978256])"
      ]
     },
     "execution_count": 13,
     "metadata": {},
     "output_type": "execute_result"
    }
   ],
   "source": [
    "pca.explained_variance_ratio_"
   ]
  }
 ],
 "metadata": {
  "kernelspec": {
   "display_name": "Python 3 (ipykernel)",
   "language": "python",
   "name": "python3"
  },
  "language_info": {
   "codemirror_mode": {
    "name": "ipython",
    "version": 3
   },
   "file_extension": ".py",
   "mimetype": "text/x-python",
   "name": "python",
   "nbconvert_exporter": "python",
   "pygments_lexer": "ipython3",
   "version": "3.9.12"
  }
 },
 "nbformat": 4,
 "nbformat_minor": 5
}

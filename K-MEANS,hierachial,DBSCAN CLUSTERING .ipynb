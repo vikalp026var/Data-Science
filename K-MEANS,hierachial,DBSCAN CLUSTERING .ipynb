{
 "cells": [
  {
   "cell_type": "code",
   "execution_count": 1,
   "id": "017b575a",
   "metadata": {},
   "outputs": [],
   "source": [
    "import matplotlib.pyplot as plt\n",
    "from sklearn.datasets import make_blobs\n",
    "import pandas as pd\n",
    "import numpy as np\n",
    "%matplotlib inline "
   ]
  },
  {
   "cell_type": "code",
   "execution_count": 2,
   "id": "d89dc3e0",
   "metadata": {},
   "outputs": [],
   "source": [
    "X,y=make_blobs(n_samples=1000,centers=3,n_features=2,random_state=23)"
   ]
  },
  {
   "cell_type": "code",
   "execution_count": 3,
   "id": "96daf104",
   "metadata": {},
   "outputs": [
    {
     "data": {
      "text/plain": [
       "array([[-5.37039106,  3.47555168],\n",
       "       [ 5.84161203, -3.98182959],\n",
       "       [ 1.76127766,  9.39696306],\n",
       "       ...,\n",
       "       [ 6.14147823, -5.75491603],\n",
       "       [-5.45330839,  1.75599573],\n",
       "       [-0.21966953,  8.72922042]])"
      ]
     },
     "execution_count": 3,
     "metadata": {},
     "output_type": "execute_result"
    }
   ],
   "source": [
    "X"
   ]
  },
  {
   "cell_type": "code",
   "execution_count": 4,
   "id": "3aaeafd5",
   "metadata": {},
   "outputs": [
    {
     "data": {
      "text/plain": [
       "array([2, 1, 0, 2, 1, 0, 2, 1, 2, 0, 0, 0, 2, 0, 1, 2, 2, 2, 1, 1, 0, 1,\n",
       "       2, 2, 0, 0, 1, 2, 0, 0, 0, 2, 1, 2, 1, 0, 1, 2, 2, 1, 0, 1, 1, 2,\n",
       "       2, 1, 0, 2, 1, 1, 2, 2, 1, 2, 0, 2, 0, 2, 2, 2, 1, 0, 2, 2, 2, 2,\n",
       "       2, 2, 0, 2, 2, 0, 0, 1, 1, 2, 0, 0, 1, 1, 0, 2, 1, 2, 2, 0, 1, 2,\n",
       "       1, 2, 0, 1, 0, 0, 2, 0, 2, 1, 2, 2, 0, 2, 1, 2, 2, 2, 2, 0, 1, 1,\n",
       "       0, 2, 2, 2, 2, 2, 2, 1, 2, 0, 0, 0, 1, 1, 1, 1, 0, 0, 2, 0, 2, 1,\n",
       "       0, 0, 2, 1, 1, 2, 1, 2, 1, 0, 0, 1, 1, 0, 1, 0, 0, 0, 0, 2, 0, 0,\n",
       "       1, 1, 1, 1, 2, 1, 2, 1, 0, 2, 0, 1, 1, 0, 1, 1, 1, 0, 1, 1, 0, 2,\n",
       "       0, 0, 2, 1, 1, 2, 0, 1, 2, 1, 0, 1, 1, 1, 1, 1, 1, 2, 2, 1, 2, 0,\n",
       "       2, 2, 2, 0, 1, 1, 0, 0, 1, 0, 2, 0, 0, 1, 0, 2, 0, 1, 1, 0, 0, 1,\n",
       "       1, 2, 0, 2, 0, 1, 2, 2, 1, 0, 1, 1, 1, 1, 1, 1, 1, 1, 1, 0, 0, 0,\n",
       "       1, 1, 1, 2, 1, 2, 1, 0, 2, 0, 0, 2, 2, 0, 1, 0, 1, 1, 2, 1, 0, 0,\n",
       "       1, 0, 0, 0, 1, 2, 0, 2, 0, 1, 0, 1, 2, 2, 2, 0, 1, 0, 1, 2, 2, 0,\n",
       "       0, 0, 0, 0, 0, 2, 1, 1, 2, 0, 2, 2, 1, 1, 1, 2, 2, 0, 1, 1, 0, 0,\n",
       "       2, 0, 0, 1, 2, 1, 0, 1, 2, 0, 1, 0, 1, 1, 0, 2, 2, 1, 2, 0, 0, 0,\n",
       "       1, 0, 2, 0, 0, 1, 0, 0, 2, 0, 1, 1, 2, 0, 0, 2, 1, 2, 0, 0, 2, 2,\n",
       "       2, 1, 0, 1, 1, 1, 0, 0, 2, 0, 2, 2, 0, 2, 0, 1, 1, 2, 1, 1, 2, 0,\n",
       "       2, 2, 0, 1, 0, 1, 1, 2, 2, 1, 0, 0, 2, 0, 2, 1, 2, 2, 2, 0, 0, 2,\n",
       "       1, 1, 1, 1, 0, 0, 0, 2, 0, 0, 2, 1, 1, 0, 1, 2, 2, 0, 1, 2, 1, 2,\n",
       "       2, 1, 1, 1, 1, 2, 2, 2, 2, 2, 2, 0, 0, 1, 2, 1, 1, 2, 1, 2, 2, 0,\n",
       "       1, 0, 0, 2, 2, 0, 0, 0, 2, 1, 2, 0, 1, 1, 0, 1, 1, 1, 2, 0, 1, 2,\n",
       "       2, 1, 2, 1, 1, 2, 2, 2, 2, 0, 1, 1, 0, 0, 1, 0, 0, 2, 1, 2, 0, 1,\n",
       "       1, 2, 2, 2, 1, 2, 1, 2, 0, 0, 1, 2, 0, 1, 0, 2, 1, 0, 1, 1, 0, 1,\n",
       "       0, 2, 0, 0, 0, 0, 0, 1, 0, 1, 1, 2, 1, 0, 1, 0, 2, 1, 0, 1, 0, 0,\n",
       "       2, 1, 1, 0, 1, 1, 2, 0, 0, 0, 2, 1, 2, 0, 0, 2, 0, 2, 1, 2, 1, 0,\n",
       "       1, 0, 0, 1, 2, 1, 2, 0, 0, 1, 2, 0, 2, 1, 2, 1, 0, 2, 2, 1, 2, 2,\n",
       "       0, 2, 2, 1, 2, 2, 0, 1, 2, 0, 2, 2, 1, 1, 2, 1, 0, 0, 2, 2, 0, 0,\n",
       "       0, 0, 2, 2, 2, 2, 1, 0, 0, 0, 0, 0, 2, 1, 0, 1, 1, 0, 0, 1, 1, 1,\n",
       "       0, 0, 1, 0, 0, 1, 1, 0, 2, 2, 1, 0, 2, 2, 0, 1, 1, 2, 2, 2, 2, 1,\n",
       "       0, 1, 2, 0, 2, 0, 1, 2, 2, 0, 1, 1, 1, 0, 1, 2, 2, 0, 2, 0, 2, 2,\n",
       "       1, 2, 1, 1, 2, 1, 0, 0, 0, 0, 2, 2, 0, 0, 1, 1, 2, 0, 0, 2, 1, 1,\n",
       "       1, 1, 0, 0, 2, 2, 1, 1, 2, 1, 1, 1, 0, 1, 2, 0, 2, 2, 1, 2, 0, 1,\n",
       "       1, 2, 1, 2, 2, 1, 0, 2, 0, 1, 0, 0, 1, 1, 0, 1, 1, 2, 1, 2, 0, 2,\n",
       "       1, 1, 2, 1, 0, 1, 2, 1, 0, 2, 1, 0, 2, 0, 0, 1, 0, 0, 1, 0, 2, 2,\n",
       "       2, 0, 2, 2, 2, 1, 1, 2, 0, 2, 2, 2, 0, 2, 2, 2, 0, 2, 0, 0, 0, 0,\n",
       "       1, 0, 1, 0, 2, 0, 1, 2, 2, 1, 2, 0, 1, 1, 0, 0, 1, 2, 1, 1, 2, 2,\n",
       "       1, 0, 0, 2, 2, 1, 0, 2, 1, 2, 1, 1, 1, 1, 1, 0, 2, 2, 1, 0, 2, 1,\n",
       "       0, 0, 2, 0, 2, 1, 2, 2, 1, 2, 0, 1, 1, 0, 0, 1, 0, 1, 0, 0, 2, 2,\n",
       "       1, 1, 0, 1, 0, 0, 0, 2, 1, 2, 0, 2, 1, 0, 1, 2, 1, 1, 1, 1, 2, 2,\n",
       "       1, 2, 1, 2, 1, 2, 0, 2, 0, 2, 2, 0, 2, 0, 1, 1, 0, 0, 0, 1, 1, 0,\n",
       "       0, 0, 2, 0, 1, 1, 0, 0, 1, 0, 2, 0, 2, 2, 0, 0, 2, 0, 0, 1, 2, 2,\n",
       "       2, 2, 0, 2, 2, 0, 1, 1, 2, 2, 0, 0, 2, 2, 0, 1, 1, 2, 1, 2, 1, 1,\n",
       "       1, 0, 2, 0, 0, 1, 1, 2, 0, 1, 1, 2, 0, 2, 0, 0, 1, 0, 1, 2, 2, 1,\n",
       "       2, 1, 2, 1, 2, 0, 2, 0, 2, 0, 0, 0, 1, 2, 2, 2, 0, 0, 2, 0, 1, 2,\n",
       "       1, 2, 1, 1, 2, 1, 0, 2, 0, 2, 0, 0, 2, 2, 0, 0, 2, 1, 0, 0, 0, 0,\n",
       "       2, 1, 1, 0, 0, 2, 1, 1, 2, 0])"
      ]
     },
     "execution_count": 4,
     "metadata": {},
     "output_type": "execute_result"
    }
   ],
   "source": [
    "y"
   ]
  },
  {
   "cell_type": "code",
   "execution_count": 5,
   "id": "3ba5e647",
   "metadata": {},
   "outputs": [
    {
     "data": {
      "text/plain": [
       "(1000, 2)"
      ]
     },
     "execution_count": 5,
     "metadata": {},
     "output_type": "execute_result"
    }
   ],
   "source": [
    "X.shape"
   ]
  },
  {
   "cell_type": "code",
   "execution_count": 8,
   "id": "20701235",
   "metadata": {},
   "outputs": [
    {
     "data": {
      "text/plain": [
       "<matplotlib.collections.PathCollection at 0x1f1be75c880>"
      ]
     },
     "execution_count": 8,
     "metadata": {},
     "output_type": "execute_result"
    },
    {
     "data": {
      "image/png": "[encoded data removed]",
      "text/plain": [
       "<Figure size 432x288 with 1 Axes>"
      ]
     },
     "metadata": {
      "needs_background": "light"
     },
     "output_type": "display_data"
    }
   ],
   "source": [
    "plt.scatter(X[:,0],X[:,1])"
   ]
  },
  {
   "cell_type": "code",
   "execution_count": 9,
   "id": "ef5b8b33",
   "metadata": {},
   "outputs": [],
   "source": [
    "from sklearn.model_selection import train_test_split"
   ]
  },
  {
   "cell_type": "code",
   "execution_count": 10,
   "id": "a39fcab9",
   "metadata": {},
   "outputs": [],
   "source": [
    "X_train,X_test,y_train,y_test=train_test_split(X,y,random_state=42,test_size=0.33)"
   ]
  },
  {
   "cell_type": "code",
   "execution_count": 11,
   "id": "9aaff004",
   "metadata": {},
   "outputs": [],
   "source": [
    "from sklearn.cluster import KMeans"
   ]
  },
  {
   "cell_type": "code",
   "execution_count": 12,
   "id": "0f29bed1",
   "metadata": {},
   "outputs": [
    {
     "name": "stderr",
     "output_type": "stream",
     "text": [
      "C:\\Users\\PC\\anaconda3\\lib\\site-packages\\sklearn\\cluster\\_kmeans.py:1036: UserWarning: KMeans is known to have a memory leak on Windows with MKL, when there are less chunks than available threads. You can avoid it by setting the environment variable OMP_NUM_THREADS=3.\n",
      "  warnings.warn(\n"
     ]
    }
   ],
   "source": [
    "##Manual Process \n",
    "##Elbow Method to select the K value \n",
    "wcss=[]\n",
    "for k in range(1,11):\n",
    "    kmeans=KMeans(n_clusters=k,init='k-means++')\n",
    "    kmeans.fit(X_train)\n",
    "    wcss.append(kmeans.inertia_)\n"
   ]
  },
  {
   "cell_type": "code",
   "execution_count": 13,
   "id": "6c45995b",
   "metadata": {},
   "outputs": [
    {
     "data": {
      "text/plain": [
       "[34827.57682552022,\n",
       " 7935.4372861454185,\n",
       " 1319.2730531585607,\n",
       " 1140.5571928929403,\n",
       " 991.8899785187884,\n",
       " 853.5867610072107,\n",
       " 754.5344380919564,\n",
       " 669.006134106432,\n",
       " 577.6332598271092,\n",
       " 531.4220481870644]"
      ]
     },
     "execution_count": 13,
     "metadata": {},
     "output_type": "execute_result"
    }
   ],
   "source": [
    "wcss"
   ]
  },
  {
   "cell_type": "code",
   "execution_count": 15,
   "id": "5deb7132",
   "metadata": {},
   "outputs": [
    {
     "data": {
      "image/png": "[encoded data removed]",
      "text/plain": [
       "<Figure size 432x288 with 1 Axes>"
      ]
     },
     "metadata": {
      "needs_background": "light"
     },
     "output_type": "display_data"
    }
   ],
   "source": [
    "plt.plot(range(1,11),wcss)\n",
    "plt.xticks(range(1,11))\n",
    "plt.xlabel(\"Number of cluster\")\n",
    "plt.ylabel(\"WCSS\")\n",
    "plt.show()"
   ]
  },
  {
   "cell_type": "code",
   "execution_count": 16,
   "id": "c8db2649",
   "metadata": {},
   "outputs": [],
   "source": [
    "##K=3 from the graph \n",
    "kmeans=KMeans(n_clusters=3,init='k-means++')"
   ]
  },
  {
   "cell_type": "code",
   "execution_count": 18,
   "id": "66011ced",
   "metadata": {},
   "outputs": [],
   "source": [
    "y_labels=kmeans.fit_predict(X_train)"
   ]
  },
  {
   "cell_type": "code",
   "execution_count": 19,
   "id": "40bca230",
   "metadata": {},
   "outputs": [
    {
     "data": {
      "text/plain": [
       "array([0, 0, 0, 1, 1, 1, 0, 1, 0, 0, 2, 2, 0, 0, 2, 0, 2, 1, 2, 2, 1, 2,\n",
       "       2, 1, 1, 0, 0, 1, 1, 0, 1, 1, 0, 1, 2, 2, 2, 1, 1, 0, 0, 1, 0, 0,\n",
       "       1, 2, 2, 0, 1, 0, 0, 2, 0, 0, 0, 0, 0, 2, 1, 1, 0, 0, 1, 0, 2, 2,\n",
       "       2, 2, 1, 0, 2, 1, 0, 2, 0, 2, 1, 1, 1, 1, 0, 0, 2, 0, 2, 2, 0, 2,\n",
       "       0, 2, 0, 2, 0, 1, 0, 0, 1, 2, 2, 2, 2, 1, 2, 0, 1, 1, 2, 0, 2, 0,\n",
       "       1, 2, 0, 1, 1, 1, 1, 2, 0, 2, 0, 0, 2, 1, 0, 1, 0, 2, 1, 1, 0, 1,\n",
       "       1, 1, 1, 1, 1, 1, 0, 0, 2, 2, 0, 1, 2, 2, 1, 0, 2, 2, 2, 1, 2, 0,\n",
       "       0, 1, 0, 2, 2, 0, 2, 1, 2, 2, 1, 1, 1, 0, 1, 1, 0, 2, 1, 1, 2, 1,\n",
       "       2, 0, 2, 1, 2, 1, 0, 1, 1, 1, 2, 0, 2, 1, 0, 2, 1, 0, 0, 2, 2, 0,\n",
       "       2, 2, 2, 2, 0, 1, 0, 0, 2, 1, 2, 2, 0, 1, 0, 1, 0, 1, 2, 0, 1, 2,\n",
       "       1, 0, 0, 1, 1, 2, 1, 0, 2, 2, 0, 2, 1, 0, 2, 1, 0, 0, 0, 0, 2, 0,\n",
       "       0, 1, 0, 2, 2, 1, 0, 1, 0, 0, 1, 1, 1, 0, 2, 2, 1, 1, 1, 2, 2, 0,\n",
       "       0, 0, 2, 2, 0, 2, 1, 2, 2, 2, 2, 1, 0, 1, 2, 1, 0, 1, 1, 2, 1, 2,\n",
       "       2, 1, 1, 0, 0, 0, 1, 2, 1, 2, 0, 0, 0, 0, 1, 0, 1, 2, 0, 0, 0, 1,\n",
       "       1, 2, 2, 2, 1, 2, 1, 1, 1, 0, 0, 2, 1, 0, 2, 0, 1, 2, 0, 0, 2, 0,\n",
       "       2, 1, 2, 1, 1, 1, 0, 1, 0, 0, 1, 1, 1, 2, 2, 1, 1, 1, 0, 2, 1, 1,\n",
       "       1, 1, 2, 0, 0, 2, 1, 2, 1, 1, 2, 1, 2, 2, 0, 1, 0, 2, 0, 1, 2, 0,\n",
       "       2, 0, 2, 0, 0, 1, 2, 1, 2, 0, 0, 2, 0, 0, 2, 0, 0, 2, 0, 2, 0, 2,\n",
       "       0, 0, 0, 1, 0, 1, 2, 1, 1, 1, 2, 2, 0, 2, 2, 0, 1, 2, 0, 2, 1, 1,\n",
       "       0, 1, 1, 2, 2, 1, 1, 2, 2, 0, 2, 2, 1, 0, 0, 2, 0, 1, 2, 1, 2, 0,\n",
       "       2, 1, 2, 0, 0, 2, 0, 2, 0, 0, 2, 0, 0, 2, 2, 2, 2, 2, 0, 1, 0, 0,\n",
       "       2, 2, 1, 2, 0, 0, 1, 2, 1, 2, 1, 1, 2, 0, 1, 0, 2, 2, 1, 0, 1, 1,\n",
       "       1, 1, 1, 0, 2, 0, 2, 2, 1, 1, 0, 0, 0, 0, 1, 2, 0, 2, 0, 2, 0, 2,\n",
       "       1, 0, 2, 1, 0, 1, 0, 1, 0, 0, 1, 1, 0, 1, 0, 0, 0, 1, 1, 1, 2, 0,\n",
       "       1, 0, 2, 2, 1, 0, 1, 2, 2, 0, 1, 2, 2, 1, 2, 0, 2, 2, 1, 1, 0, 0,\n",
       "       2, 2, 0, 0, 1, 0, 1, 0, 0, 2, 1, 0, 2, 2, 1, 2, 0, 1, 0, 0, 2, 0,\n",
       "       1, 2, 0, 0, 0, 2, 2, 0, 1, 2, 1, 0, 0, 0, 1, 2, 2, 2, 2, 0, 2, 2,\n",
       "       1, 2, 2, 0, 2, 2, 1, 1, 0, 2, 2, 0, 0, 2, 0, 0, 2, 0, 1, 1, 0, 1,\n",
       "       2, 0, 0, 2, 2, 1, 1, 0, 0, 1, 2, 0, 2, 1, 2, 1, 1, 1, 2, 0, 0, 2,\n",
       "       1, 1, 2, 0, 2, 0, 2, 1, 2, 2, 1, 1, 1, 0, 2, 1, 1, 1, 1, 0, 2, 0,\n",
       "       2, 0, 2, 0, 2, 1, 2, 0, 1, 0])"
      ]
     },
     "execution_count": 19,
     "metadata": {},
     "output_type": "execute_result"
    }
   ],
   "source": [
    "y_labels"
   ]
  },
  {
   "cell_type": "code",
   "execution_count": 21,
   "id": "41914a7f",
   "metadata": {},
   "outputs": [
    {
     "data": {
      "text/plain": [
       "<matplotlib.collections.PathCollection at 0x1f1c62881f0>"
      ]
     },
     "execution_count": 21,
     "metadata": {},
     "output_type": "execute_result"
    },
    {
     "data": {
      "image/png": "[encoded data removed]",
      "text/plain": [
       "<Figure size 432x288 with 1 Axes>"
      ]
     },
     "metadata": {
      "needs_background": "light"
     },
     "output_type": "display_data"
    }
   ],
   "source": [
    "plt.scatter(X_train[:,0],X_train[:,1],c=y_labels)"
   ]
  },
  {
   "cell_type": "code",
   "execution_count": 23,
   "id": "ea17c14a",
   "metadata": {},
   "outputs": [],
   "source": [
    "y_pred=kmeans.predict(X_test)"
   ]
  },
  {
   "cell_type": "code",
   "execution_count": 24,
   "id": "b597b64a",
   "metadata": {},
   "outputs": [
    {
     "data": {
      "text/plain": [
       "array([2, 2, 2, 0, 1, 2, 0, 0, 1, 0, 2, 2, 1, 0, 2, 0, 0, 2, 1, 2, 2, 2,\n",
       "       0, 2, 2, 0, 1, 2, 1, 0, 0, 1, 0, 1, 0, 1, 1, 0, 1, 1, 2, 1, 1, 2,\n",
       "       0, 1, 0, 2, 2, 0, 1, 2, 0, 2, 1, 2, 2, 2, 1, 1, 1, 2, 2, 2, 2, 0,\n",
       "       0, 2, 1, 1, 2, 2, 1, 0, 0, 2, 0, 0, 2, 2, 1, 1, 0, 1, 0, 0, 1, 2,\n",
       "       0, 2, 1, 2, 1, 2, 1, 0, 2, 0, 1, 0, 0, 1, 2, 0, 1, 0, 1, 1, 0, 0,\n",
       "       1, 1, 0, 1, 0, 1, 1, 2, 1, 1, 1, 1, 0, 1, 0, 0, 1, 2, 1, 0, 1, 2,\n",
       "       2, 1, 0, 1, 2, 0, 2, 2, 1, 1, 1, 2, 1, 1, 0, 0, 0, 0, 2, 1, 1, 2,\n",
       "       2, 1, 2, 2, 0, 0, 2, 2, 0, 0, 1, 2, 0, 0, 2, 2, 2, 1, 2, 2, 1, 1,\n",
       "       1, 0, 0, 2, 0, 1, 0, 2, 1, 1, 0, 1, 0, 2, 1, 0, 1, 1, 1, 0, 1, 1,\n",
       "       0, 0, 2, 2, 0, 2, 0, 1, 0, 0, 1, 2, 1, 2, 2, 2, 2, 2, 1, 2, 2, 1,\n",
       "       0, 2, 1, 0, 1, 2, 2, 1, 2, 2, 2, 2, 1, 0, 1, 1, 0, 2, 0, 2, 1, 2,\n",
       "       2, 1, 2, 0, 2, 2, 1, 2, 0, 0, 0, 2, 0, 1, 2, 2, 0, 2, 0, 0, 0, 2,\n",
       "       0, 1, 2, 0, 0, 1, 0, 1, 1, 1, 0, 2, 1, 2, 1, 0, 0, 0, 2, 2, 0, 0,\n",
       "       2, 0, 1, 1, 1, 1, 2, 1, 1, 1, 1, 1, 0, 0, 2, 0, 2, 0, 1, 0, 2, 1,\n",
       "       0, 1, 2, 0, 2, 1, 1, 0, 0, 1, 1, 2, 0, 2, 1, 1, 1, 2, 1, 1, 1, 2])"
      ]
     },
     "execution_count": 24,
     "metadata": {},
     "output_type": "execute_result"
    }
   ],
   "source": [
    "y_pred"
   ]
  },
  {
   "cell_type": "code",
   "execution_count": 26,
   "id": "0112d1e8",
   "metadata": {},
   "outputs": [
    {
     "data": {
      "text/plain": [
       "<matplotlib.collections.PathCollection at 0x1f1c62d36a0>"
      ]
     },
     "execution_count": 26,
     "metadata": {},
     "output_type": "execute_result"
    },
    {
     "data": {
      "image/png": "[encoded data removed]",
      "text/plain": [
       "<Figure size 432x288 with 1 Axes>"
      ]
     },
     "metadata": {
      "needs_background": "light"
     },
     "output_type": "display_data"
    }
   ],
   "source": [
    "plt.scatter(X_test[:,0],X_test[:,1],c=y_pred)"
   ]
  },
  {
   "cell_type": "code",
   "execution_count": 27,
   "id": "b7cad799",
   "metadata": {},
   "outputs": [
    {
     "name": "stdout",
     "output_type": "stream",
     "text": [
      "Collecting kneed\n",
      "  Downloading kneed-0.8.3-py3-none-any.whl (10 kB)\n",
      "Requirement already satisfied: scipy>=1.0.0 in c:\\users\\pc\\anaconda3\\lib\\site-packages (from kneed) (1.7.3)\n",
      "Requirement already satisfied: numpy>=1.14.2 in c:\\users\\pc\\anaconda3\\lib\\site-packages (from kneed) (1.21.5)\n",
      "Installing collected packages: kneed\n",
      "Successfully installed kneed-0.8.3\n"
     ]
    }
   ],
   "source": [
    "##knee locator\n",
    "!pip install kneed"
   ]
  },
  {
   "cell_type": "code",
   "execution_count": 30,
   "id": "3f233363",
   "metadata": {},
   "outputs": [],
   "source": [
    "from kneed import KneeLocator"
   ]
  },
  {
   "cell_type": "code",
   "execution_count": 34,
   "id": "b14bc2dd",
   "metadata": {},
   "outputs": [
    {
     "data": {
      "text/plain": [
       "3"
      ]
     },
     "execution_count": 34,
     "metadata": {},
     "output_type": "execute_result"
    }
   ],
   "source": [
    "Knee=KneeLocator(range(1,11),wcss,curve='convex',direction='decreasing')\n",
    "Knee.elbow"
   ]
  },
  {
   "cell_type": "code",
   "execution_count": 40,
   "id": "92bf6954",
   "metadata": {},
   "outputs": [],
   "source": [
    "##performane metrics\n",
    "##Silhoutte score\n",
    "from sklearn.metrics import silhouette_score"
   ]
  },
  {
   "cell_type": "code",
   "execution_count": 41,
   "id": "45037b96",
   "metadata": {},
   "outputs": [],
   "source": [
    "silhoutee_coefficients=[]\n",
    "for k in range(2,11):\n",
    "    kmeans=KMeans(n_clusters=k,init=\"k-means++\")\n",
    "    kmeans.fit(X_train)\n",
    "    score=silhouette_score(X_train,kmeans.labels_)\n",
    "    silhoutee_coefficients.append(score)"
   ]
  },
  {
   "cell_type": "code",
   "execution_count": 42,
   "id": "240772c1",
   "metadata": {},
   "outputs": [
    {
     "data": {
      "text/plain": [
       "[0.7281443868598331,\n",
       " 0.8071181203797672,\n",
       " 0.6357733426488265,\n",
       " 0.4907093255057165,\n",
       " 0.3335462490364863,\n",
       " 0.3469970797796958,\n",
       " 0.33992376372696786,\n",
       " 0.34651811680098216,\n",
       " 0.3395946860525018]"
      ]
     },
     "execution_count": 42,
     "metadata": {},
     "output_type": "execute_result"
    }
   ],
   "source": [
    "silhoutee_coefficients"
   ]
  },
  {
   "cell_type": "code",
   "execution_count": 43,
   "id": "3c0adbf7",
   "metadata": {},
   "outputs": [
    {
     "data": {
      "text/plain": [
       "[<matplotlib.lines.Line2D at 0x1f1c9014ac0>]"
      ]
     },
     "execution_count": 43,
     "metadata": {},
     "output_type": "execute_result"
    },
    {
     "data": {
      "image/png": "[encoded data removed]",
      "text/plain": [
       "<Figure size 432x288 with 1 Axes>"
      ]
     },
     "metadata": {
      "needs_background": "light"
     },
     "output_type": "display_data"
    }
   ],
   "source": [
    "plt.plot(range(2,11),silhoutee_coefficients)"
   ]
  },
  {
   "cell_type": "markdown",
   "id": "0226bdbc",
   "metadata": {},
   "source": [
    "# Hierarichal Clustering "
   ]
  },
  {
   "cell_type": "code",
   "execution_count": 44,
   "id": "177a77a9",
   "metadata": {},
   "outputs": [],
   "source": [
    "import pandas as pd\n",
    "import numpy as np\n",
    "import  matplotlib.pyplot as plt\n",
    "from sklearn import datasets"
   ]
  },
  {
   "cell_type": "code",
   "execution_count": 45,
   "id": "1e9bc830",
   "metadata": {},
   "outputs": [],
   "source": [
    "iris=datasets.load_iris()"
   ]
  },
  {
   "cell_type": "code",
   "execution_count": 46,
   "id": "62845bd4",
   "metadata": {},
   "outputs": [
    {
     "name": "stdout",
     "output_type": "stream",
     "text": [
      ".. _iris_dataset:\n",
      "\n",
      "Iris plants dataset\n",
      "--------------------\n",
      "\n",
      "**Data Set Characteristics:**\n",
      "\n",
      "    :Number of Instances: 150 (50 in each of three classes)\n",
      "    :Number of Attributes: 4 numeric, predictive attributes and the class\n",
      "    :Attribute Information:\n",
      "        - sepal length in cm\n",
      "        - sepal width in cm\n",
      "        - petal length in cm\n",
      "        - petal width in cm\n",
      "        - class:\n",
      "                - Iris-Setosa\n",
      "                - Iris-Versicolour\n",
      "                - Iris-Virginica\n",
      "                \n",
      "    :Summary Statistics:\n",
      "\n",
      "    ============== ==== ==== ======= ===== ====================\n",
      "                    Min  Max   Mean    SD   Class Correlation\n",
      "    ============== ==== ==== ======= ===== ====================\n",
      "    sepal length:   4.3  7.9   5.84   0.83    0.7826\n",
      "    sepal width:    2.0  4.4   3.05   0.43   -0.4194\n",
      "    petal length:   1.0  6.9   3.76   1.76    0.9490  (high!)\n",
      "    petal width:    0.1  2.5   1.20   0.76    0.9565  (high!)\n",
      "    ============== ==== ==== ======= ===== ====================\n",
      "\n",
      "    :Missing Attribute Values: None\n",
      "    :Class Distribution: 33.3% for each of 3 classes.\n",
      "    :Creator: R.A. Fisher\n",
      "    :Donor: Michael Marshall (MARSHALL%PLU@io.arc.nasa.gov)\n",
      "    :Date: July, 1988\n",
      "\n",
      "The famous Iris database, first used by Sir R.A. Fisher. The dataset is taken\n",
      "from Fisher's paper. Note that it's the same as in R, but not as in the UCI\n",
      "Machine Learning Repository, which has two wrong data points.\n",
      "\n",
      "This is perhaps the best known database to be found in the\n",
      "pattern recognition literature.  Fisher's paper is a classic in the field and\n",
      "is referenced frequently to this day.  (See Duda & Hart, for example.)  The\n",
      "data set contains 3 classes of 50 instances each, where each class refers to a\n",
      "type of iris plant.  One class is linearly separable from the other 2; the\n",
      "latter are NOT linearly separable from each other.\n",
      "\n",
      ".. topic:: References\n",
      "\n",
      "   - Fisher, R.A. \"The use of multiple measurements in taxonomic problems\"\n",
      "     Annual Eugenics, 7, Part II, 179-188 (1936); also in \"Contributions to\n",
      "     Mathematical Statistics\" (John Wiley, NY, 1950).\n",
      "   - Duda, R.O., & Hart, P.E. (1973) Pattern Classification and Scene Analysis.\n",
      "     (Q327.D83) John Wiley & Sons.  ISBN 0-471-22361-1.  See page 218.\n",
      "   - Dasarathy, B.V. (1980) \"Nosing Around the Neighborhood: A New System\n",
      "     Structure and Classification Rule for Recognition in Partially Exposed\n",
      "     Environments\".  IEEE Transactions on Pattern Analysis and Machine\n",
      "     Intelligence, Vol. PAMI-2, No. 1, 67-71.\n",
      "   - Gates, G.W. (1972) \"The Reduced Nearest Neighbor Rule\".  IEEE Transactions\n",
      "     on Information Theory, May 1972, 431-433.\n",
      "   - See also: 1988 MLC Proceedings, 54-64.  Cheeseman et al\"s AUTOCLASS II\n",
      "     conceptual clustering system finds 3 classes in the data.\n",
      "   - Many, many more ...\n"
     ]
    }
   ],
   "source": [
    "print(iris.DESCR)"
   ]
  },
  {
   "cell_type": "code",
   "execution_count": 47,
   "id": "e98c7a8a",
   "metadata": {},
   "outputs": [],
   "source": [
    "iris_data=pd.DataFrame(iris.data)"
   ]
  },
  {
   "cell_type": "code",
   "execution_count": 48,
   "id": "768eb865",
   "metadata": {},
   "outputs": [
    {
     "data": {
      "text/html": [
       "<div>\n",
       "<style scoped>\n",
       "    .dataframe tbody tr th:only-of-type {\n",
       "        vertical-align: middle;\n",
       "    }\n",
       "\n",
       "    .dataframe tbody tr th {\n",
       "        vertical-align: top;\n",
       "    }\n",
       "\n",
       "    .dataframe thead th {\n",
       "        text-align: right;\n",
       "    }\n",
       "</style>\n",
       "<table border=\"1\" class=\"dataframe\">\n",
       "  <thead>\n",
       "    <tr style=\"text-align: right;\">\n",
       "      <th></th>\n",
       "      <th>0</th>\n",
       "      <th>1</th>\n",
       "      <th>2</th>\n",
       "      <th>3</th>\n",
       "    </tr>\n",
       "  </thead>\n",
       "  <tbody>\n",
       "    <tr>\n",
       "      <th>0</th>\n",
       "      <td>5.1</td>\n",
       "      <td>3.5</td>\n",
       "      <td>1.4</td>\n",
       "      <td>0.2</td>\n",
       "    </tr>\n",
       "    <tr>\n",
       "      <th>1</th>\n",
       "      <td>4.9</td>\n",
       "      <td>3.0</td>\n",
       "      <td>1.4</td>\n",
       "      <td>0.2</td>\n",
       "    </tr>\n",
       "    <tr>\n",
       "      <th>2</th>\n",
       "      <td>4.7</td>\n",
       "      <td>3.2</td>\n",
       "      <td>1.3</td>\n",
       "      <td>0.2</td>\n",
       "    </tr>\n",
       "    <tr>\n",
       "      <th>3</th>\n",
       "      <td>4.6</td>\n",
       "      <td>3.1</td>\n",
       "      <td>1.5</td>\n",
       "      <td>0.2</td>\n",
       "    </tr>\n",
       "    <tr>\n",
       "      <th>4</th>\n",
       "      <td>5.0</td>\n",
       "      <td>3.6</td>\n",
       "      <td>1.4</td>\n",
       "      <td>0.2</td>\n",
       "    </tr>\n",
       "    <tr>\n",
       "      <th>...</th>\n",
       "      <td>...</td>\n",
       "      <td>...</td>\n",
       "      <td>...</td>\n",
       "      <td>...</td>\n",
       "    </tr>\n",
       "    <tr>\n",
       "      <th>145</th>\n",
       "      <td>6.7</td>\n",
       "      <td>3.0</td>\n",
       "      <td>5.2</td>\n",
       "      <td>2.3</td>\n",
       "    </tr>\n",
       "    <tr>\n",
       "      <th>146</th>\n",
       "      <td>6.3</td>\n",
       "      <td>2.5</td>\n",
       "      <td>5.0</td>\n",
       "      <td>1.9</td>\n",
       "    </tr>\n",
       "    <tr>\n",
       "      <th>147</th>\n",
       "      <td>6.5</td>\n",
       "      <td>3.0</td>\n",
       "      <td>5.2</td>\n",
       "      <td>2.0</td>\n",
       "    </tr>\n",
       "    <tr>\n",
       "      <th>148</th>\n",
       "      <td>6.2</td>\n",
       "      <td>3.4</td>\n",
       "      <td>5.4</td>\n",
       "      <td>2.3</td>\n",
       "    </tr>\n",
       "    <tr>\n",
       "      <th>149</th>\n",
       "      <td>5.9</td>\n",
       "      <td>3.0</td>\n",
       "      <td>5.1</td>\n",
       "      <td>1.8</td>\n",
       "    </tr>\n",
       "  </tbody>\n",
       "</table>\n",
       "<p>150 rows × 4 columns</p>\n",
       "</div>"
      ],
      "text/plain": [
       "       0    1    2    3\n",
       "0    5.1  3.5  1.4  0.2\n",
       "1    4.9  3.0  1.4  0.2\n",
       "2    4.7  3.2  1.3  0.2\n",
       "3    4.6  3.1  1.5  0.2\n",
       "4    5.0  3.6  1.4  0.2\n",
       "..   ...  ...  ...  ...\n",
       "145  6.7  3.0  5.2  2.3\n",
       "146  6.3  2.5  5.0  1.9\n",
       "147  6.5  3.0  5.2  2.0\n",
       "148  6.2  3.4  5.4  2.3\n",
       "149  5.9  3.0  5.1  1.8\n",
       "\n",
       "[150 rows x 4 columns]"
      ]
     },
     "execution_count": 48,
     "metadata": {},
     "output_type": "execute_result"
    }
   ],
   "source": [
    "iris_data"
   ]
  },
  {
   "cell_type": "code",
   "execution_count": 49,
   "id": "644bee31",
   "metadata": {},
   "outputs": [],
   "source": [
    "iris_data.columns=iris.feature_names"
   ]
  },
  {
   "cell_type": "code",
   "execution_count": 50,
   "id": "cbdb4e78",
   "metadata": {},
   "outputs": [
    {
     "data": {
      "text/html": [
       "<div>\n",
       "<style scoped>\n",
       "    .dataframe tbody tr th:only-of-type {\n",
       "        vertical-align: middle;\n",
       "    }\n",
       "\n",
       "    .dataframe tbody tr th {\n",
       "        vertical-align: top;\n",
       "    }\n",
       "\n",
       "    .dataframe thead th {\n",
       "        text-align: right;\n",
       "    }\n",
       "</style>\n",
       "<table border=\"1\" class=\"dataframe\">\n",
       "  <thead>\n",
       "    <tr style=\"text-align: right;\">\n",
       "      <th></th>\n",
       "      <th>sepal length (cm)</th>\n",
       "      <th>sepal width (cm)</th>\n",
       "      <th>petal length (cm)</th>\n",
       "      <th>petal width (cm)</th>\n",
       "    </tr>\n",
       "  </thead>\n",
       "  <tbody>\n",
       "    <tr>\n",
       "      <th>0</th>\n",
       "      <td>5.1</td>\n",
       "      <td>3.5</td>\n",
       "      <td>1.4</td>\n",
       "      <td>0.2</td>\n",
       "    </tr>\n",
       "    <tr>\n",
       "      <th>1</th>\n",
       "      <td>4.9</td>\n",
       "      <td>3.0</td>\n",
       "      <td>1.4</td>\n",
       "      <td>0.2</td>\n",
       "    </tr>\n",
       "    <tr>\n",
       "      <th>2</th>\n",
       "      <td>4.7</td>\n",
       "      <td>3.2</td>\n",
       "      <td>1.3</td>\n",
       "      <td>0.2</td>\n",
       "    </tr>\n",
       "    <tr>\n",
       "      <th>3</th>\n",
       "      <td>4.6</td>\n",
       "      <td>3.1</td>\n",
       "      <td>1.5</td>\n",
       "      <td>0.2</td>\n",
       "    </tr>\n",
       "    <tr>\n",
       "      <th>4</th>\n",
       "      <td>5.0</td>\n",
       "      <td>3.6</td>\n",
       "      <td>1.4</td>\n",
       "      <td>0.2</td>\n",
       "    </tr>\n",
       "    <tr>\n",
       "      <th>...</th>\n",
       "      <td>...</td>\n",
       "      <td>...</td>\n",
       "      <td>...</td>\n",
       "      <td>...</td>\n",
       "    </tr>\n",
       "    <tr>\n",
       "      <th>145</th>\n",
       "      <td>6.7</td>\n",
       "      <td>3.0</td>\n",
       "      <td>5.2</td>\n",
       "      <td>2.3</td>\n",
       "    </tr>\n",
       "    <tr>\n",
       "      <th>146</th>\n",
       "      <td>6.3</td>\n",
       "      <td>2.5</td>\n",
       "      <td>5.0</td>\n",
       "      <td>1.9</td>\n",
       "    </tr>\n",
       "    <tr>\n",
       "      <th>147</th>\n",
       "      <td>6.5</td>\n",
       "      <td>3.0</td>\n",
       "      <td>5.2</td>\n",
       "      <td>2.0</td>\n",
       "    </tr>\n",
       "    <tr>\n",
       "      <th>148</th>\n",
       "      <td>6.2</td>\n",
       "      <td>3.4</td>\n",
       "      <td>5.4</td>\n",
       "      <td>2.3</td>\n",
       "    </tr>\n",
       "    <tr>\n",
       "      <th>149</th>\n",
       "      <td>5.9</td>\n",
       "      <td>3.0</td>\n",
       "      <td>5.1</td>\n",
       "      <td>1.8</td>\n",
       "    </tr>\n",
       "  </tbody>\n",
       "</table>\n",
       "<p>150 rows × 4 columns</p>\n",
       "</div>"
      ],
      "text/plain": [
       "     sepal length (cm)  sepal width (cm)  petal length (cm)  petal width (cm)\n",
       "0                  5.1               3.5                1.4               0.2\n",
       "1                  4.9               3.0                1.4               0.2\n",
       "2                  4.7               3.2                1.3               0.2\n",
       "3                  4.6               3.1                1.5               0.2\n",
       "4                  5.0               3.6                1.4               0.2\n",
       "..                 ...               ...                ...               ...\n",
       "145                6.7               3.0                5.2               2.3\n",
       "146                6.3               2.5                5.0               1.9\n",
       "147                6.5               3.0                5.2               2.0\n",
       "148                6.2               3.4                5.4               2.3\n",
       "149                5.9               3.0                5.1               1.8\n",
       "\n",
       "[150 rows x 4 columns]"
      ]
     },
     "execution_count": 50,
     "metadata": {},
     "output_type": "execute_result"
    }
   ],
   "source": [
    "iris_data"
   ]
  },
  {
   "cell_type": "code",
   "execution_count": 51,
   "id": "2ce8e69d",
   "metadata": {},
   "outputs": [],
   "source": [
    "from sklearn.preprocessing import StandardScaler"
   ]
  },
  {
   "cell_type": "code",
   "execution_count": 52,
   "id": "09f8a88b",
   "metadata": {},
   "outputs": [],
   "source": [
    "scaler=StandardScaler()"
   ]
  },
  {
   "cell_type": "code",
   "execution_count": 53,
   "id": "ca1ec832",
   "metadata": {},
   "outputs": [],
   "source": [
    "X_scaled=scaler.fit_transform(iris_data)"
   ]
  },
  {
   "cell_type": "code",
   "execution_count": 54,
   "id": "843cff23",
   "metadata": {},
   "outputs": [
    {
     "data": {
      "text/plain": [
       "array([[-9.00681170e-01,  1.01900435e+00, -1.34022653e+00,\n",
       "        -1.31544430e+00],\n",
       "       [-1.14301691e+00, -1.31979479e-01, -1.34022653e+00,\n",
       "        -1.31544430e+00],\n",
       "       [-1.38535265e+00,  3.28414053e-01, -1.39706395e+00,\n",
       "        -1.31544430e+00],\n",
       "       [-1.50652052e+00,  9.82172869e-02, -1.28338910e+00,\n",
       "        -1.31544430e+00],\n",
       "       [-1.02184904e+00,  1.24920112e+00, -1.34022653e+00,\n",
       "        -1.31544430e+00],\n",
       "       [-5.37177559e-01,  1.93979142e+00, -1.16971425e+00,\n",
       "        -1.05217993e+00],\n",
       "       [-1.50652052e+00,  7.88807586e-01, -1.34022653e+00,\n",
       "        -1.18381211e+00],\n",
       "       [-1.02184904e+00,  7.88807586e-01, -1.28338910e+00,\n",
       "        -1.31544430e+00],\n",
       "       [-1.74885626e+00, -3.62176246e-01, -1.34022653e+00,\n",
       "        -1.31544430e+00],\n",
       "       [-1.14301691e+00,  9.82172869e-02, -1.28338910e+00,\n",
       "        -1.44707648e+00],\n",
       "       [-5.37177559e-01,  1.47939788e+00, -1.28338910e+00,\n",
       "        -1.31544430e+00],\n",
       "       [-1.26418478e+00,  7.88807586e-01, -1.22655167e+00,\n",
       "        -1.31544430e+00],\n",
       "       [-1.26418478e+00, -1.31979479e-01, -1.34022653e+00,\n",
       "        -1.44707648e+00],\n",
       "       [-1.87002413e+00, -1.31979479e-01, -1.51073881e+00,\n",
       "        -1.44707648e+00],\n",
       "       [-5.25060772e-02,  2.16998818e+00, -1.45390138e+00,\n",
       "        -1.31544430e+00],\n",
       "       [-1.73673948e-01,  3.09077525e+00, -1.28338910e+00,\n",
       "        -1.05217993e+00],\n",
       "       [-5.37177559e-01,  1.93979142e+00, -1.39706395e+00,\n",
       "        -1.05217993e+00],\n",
       "       [-9.00681170e-01,  1.01900435e+00, -1.34022653e+00,\n",
       "        -1.18381211e+00],\n",
       "       [-1.73673948e-01,  1.70959465e+00, -1.16971425e+00,\n",
       "        -1.18381211e+00],\n",
       "       [-9.00681170e-01,  1.70959465e+00, -1.28338910e+00,\n",
       "        -1.18381211e+00],\n",
       "       [-5.37177559e-01,  7.88807586e-01, -1.16971425e+00,\n",
       "        -1.31544430e+00],\n",
       "       [-9.00681170e-01,  1.47939788e+00, -1.28338910e+00,\n",
       "        -1.05217993e+00],\n",
       "       [-1.50652052e+00,  1.24920112e+00, -1.56757623e+00,\n",
       "        -1.31544430e+00],\n",
       "       [-9.00681170e-01,  5.58610819e-01, -1.16971425e+00,\n",
       "        -9.20547742e-01],\n",
       "       [-1.26418478e+00,  7.88807586e-01, -1.05603939e+00,\n",
       "        -1.31544430e+00],\n",
       "       [-1.02184904e+00, -1.31979479e-01, -1.22655167e+00,\n",
       "        -1.31544430e+00],\n",
       "       [-1.02184904e+00,  7.88807586e-01, -1.22655167e+00,\n",
       "        -1.05217993e+00],\n",
       "       [-7.79513300e-01,  1.01900435e+00, -1.28338910e+00,\n",
       "        -1.31544430e+00],\n",
       "       [-7.79513300e-01,  7.88807586e-01, -1.34022653e+00,\n",
       "        -1.31544430e+00],\n",
       "       [-1.38535265e+00,  3.28414053e-01, -1.22655167e+00,\n",
       "        -1.31544430e+00],\n",
       "       [-1.26418478e+00,  9.82172869e-02, -1.22655167e+00,\n",
       "        -1.31544430e+00],\n",
       "       [-5.37177559e-01,  7.88807586e-01, -1.28338910e+00,\n",
       "        -1.05217993e+00],\n",
       "       [-7.79513300e-01,  2.40018495e+00, -1.28338910e+00,\n",
       "        -1.44707648e+00],\n",
       "       [-4.16009689e-01,  2.63038172e+00, -1.34022653e+00,\n",
       "        -1.31544430e+00],\n",
       "       [-1.14301691e+00,  9.82172869e-02, -1.28338910e+00,\n",
       "        -1.31544430e+00],\n",
       "       [-1.02184904e+00,  3.28414053e-01, -1.45390138e+00,\n",
       "        -1.31544430e+00],\n",
       "       [-4.16009689e-01,  1.01900435e+00, -1.39706395e+00,\n",
       "        -1.31544430e+00],\n",
       "       [-1.14301691e+00,  1.24920112e+00, -1.34022653e+00,\n",
       "        -1.44707648e+00],\n",
       "       [-1.74885626e+00, -1.31979479e-01, -1.39706395e+00,\n",
       "        -1.31544430e+00],\n",
       "       [-9.00681170e-01,  7.88807586e-01, -1.28338910e+00,\n",
       "        -1.31544430e+00],\n",
       "       [-1.02184904e+00,  1.01900435e+00, -1.39706395e+00,\n",
       "        -1.18381211e+00],\n",
       "       [-1.62768839e+00, -1.74335684e+00, -1.39706395e+00,\n",
       "        -1.18381211e+00],\n",
       "       [-1.74885626e+00,  3.28414053e-01, -1.39706395e+00,\n",
       "        -1.31544430e+00],\n",
       "       [-1.02184904e+00,  1.01900435e+00, -1.22655167e+00,\n",
       "        -7.88915558e-01],\n",
       "       [-9.00681170e-01,  1.70959465e+00, -1.05603939e+00,\n",
       "        -1.05217993e+00],\n",
       "       [-1.26418478e+00, -1.31979479e-01, -1.34022653e+00,\n",
       "        -1.18381211e+00],\n",
       "       [-9.00681170e-01,  1.70959465e+00, -1.22655167e+00,\n",
       "        -1.31544430e+00],\n",
       "       [-1.50652052e+00,  3.28414053e-01, -1.34022653e+00,\n",
       "        -1.31544430e+00],\n",
       "       [-6.58345429e-01,  1.47939788e+00, -1.28338910e+00,\n",
       "        -1.31544430e+00],\n",
       "       [-1.02184904e+00,  5.58610819e-01, -1.34022653e+00,\n",
       "        -1.31544430e+00],\n",
       "       [ 1.40150837e+00,  3.28414053e-01,  5.35408562e-01,\n",
       "         2.64141916e-01],\n",
       "       [ 6.74501145e-01,  3.28414053e-01,  4.21733708e-01,\n",
       "         3.95774101e-01],\n",
       "       [ 1.28034050e+00,  9.82172869e-02,  6.49083415e-01,\n",
       "         3.95774101e-01],\n",
       "       [-4.16009689e-01, -1.74335684e+00,  1.37546573e-01,\n",
       "         1.32509732e-01],\n",
       "       [ 7.95669016e-01, -5.92373012e-01,  4.78571135e-01,\n",
       "         3.95774101e-01],\n",
       "       [-1.73673948e-01, -5.92373012e-01,  4.21733708e-01,\n",
       "         1.32509732e-01],\n",
       "       [ 5.53333275e-01,  5.58610819e-01,  5.35408562e-01,\n",
       "         5.27406285e-01],\n",
       "       [-1.14301691e+00, -1.51316008e+00, -2.60315415e-01,\n",
       "        -2.62386821e-01],\n",
       "       [ 9.16836886e-01, -3.62176246e-01,  4.78571135e-01,\n",
       "         1.32509732e-01],\n",
       "       [-7.79513300e-01, -8.22569778e-01,  8.07091462e-02,\n",
       "         2.64141916e-01],\n",
       "       [-1.02184904e+00, -2.43394714e+00, -1.46640561e-01,\n",
       "        -2.62386821e-01],\n",
       "       [ 6.86617933e-02, -1.31979479e-01,  2.51221427e-01,\n",
       "         3.95774101e-01],\n",
       "       [ 1.89829664e-01, -1.97355361e+00,  1.37546573e-01,\n",
       "        -2.62386821e-01],\n",
       "       [ 3.10997534e-01, -3.62176246e-01,  5.35408562e-01,\n",
       "         2.64141916e-01],\n",
       "       [-2.94841818e-01, -3.62176246e-01, -8.98031345e-02,\n",
       "         1.32509732e-01],\n",
       "       [ 1.03800476e+00,  9.82172869e-02,  3.64896281e-01,\n",
       "         2.64141916e-01],\n",
       "       [-2.94841818e-01, -1.31979479e-01,  4.21733708e-01,\n",
       "         3.95774101e-01],\n",
       "       [-5.25060772e-02, -8.22569778e-01,  1.94384000e-01,\n",
       "        -2.62386821e-01],\n",
       "       [ 4.32165405e-01, -1.97355361e+00,  4.21733708e-01,\n",
       "         3.95774101e-01],\n",
       "       [-2.94841818e-01, -1.28296331e+00,  8.07091462e-02,\n",
       "        -1.30754636e-01],\n",
       "       [ 6.86617933e-02,  3.28414053e-01,  5.92245988e-01,\n",
       "         7.90670654e-01],\n",
       "       [ 3.10997534e-01, -5.92373012e-01,  1.37546573e-01,\n",
       "         1.32509732e-01],\n",
       "       [ 5.53333275e-01, -1.28296331e+00,  6.49083415e-01,\n",
       "         3.95774101e-01],\n",
       "       [ 3.10997534e-01, -5.92373012e-01,  5.35408562e-01,\n",
       "         8.77547895e-04],\n",
       "       [ 6.74501145e-01, -3.62176246e-01,  3.08058854e-01,\n",
       "         1.32509732e-01],\n",
       "       [ 9.16836886e-01, -1.31979479e-01,  3.64896281e-01,\n",
       "         2.64141916e-01],\n",
       "       [ 1.15917263e+00, -5.92373012e-01,  5.92245988e-01,\n",
       "         2.64141916e-01],\n",
       "       [ 1.03800476e+00, -1.31979479e-01,  7.05920842e-01,\n",
       "         6.59038469e-01],\n",
       "       [ 1.89829664e-01, -3.62176246e-01,  4.21733708e-01,\n",
       "         3.95774101e-01],\n",
       "       [-1.73673948e-01, -1.05276654e+00, -1.46640561e-01,\n",
       "        -2.62386821e-01],\n",
       "       [-4.16009689e-01, -1.51316008e+00,  2.38717193e-02,\n",
       "        -1.30754636e-01],\n",
       "       [-4.16009689e-01, -1.51316008e+00, -3.29657076e-02,\n",
       "        -2.62386821e-01],\n",
       "       [-5.25060772e-02, -8.22569778e-01,  8.07091462e-02,\n",
       "         8.77547895e-04],\n",
       "       [ 1.89829664e-01, -8.22569778e-01,  7.62758269e-01,\n",
       "         5.27406285e-01],\n",
       "       [-5.37177559e-01, -1.31979479e-01,  4.21733708e-01,\n",
       "         3.95774101e-01],\n",
       "       [ 1.89829664e-01,  7.88807586e-01,  4.21733708e-01,\n",
       "         5.27406285e-01],\n",
       "       [ 1.03800476e+00,  9.82172869e-02,  5.35408562e-01,\n",
       "         3.95774101e-01],\n",
       "       [ 5.53333275e-01, -1.74335684e+00,  3.64896281e-01,\n",
       "         1.32509732e-01],\n",
       "       [-2.94841818e-01, -1.31979479e-01,  1.94384000e-01,\n",
       "         1.32509732e-01],\n",
       "       [-4.16009689e-01, -1.28296331e+00,  1.37546573e-01,\n",
       "         1.32509732e-01],\n",
       "       [-4.16009689e-01, -1.05276654e+00,  3.64896281e-01,\n",
       "         8.77547895e-04],\n",
       "       [ 3.10997534e-01, -1.31979479e-01,  4.78571135e-01,\n",
       "         2.64141916e-01],\n",
       "       [-5.25060772e-02, -1.05276654e+00,  1.37546573e-01,\n",
       "         8.77547895e-04],\n",
       "       [-1.02184904e+00, -1.74335684e+00, -2.60315415e-01,\n",
       "        -2.62386821e-01],\n",
       "       [-2.94841818e-01, -8.22569778e-01,  2.51221427e-01,\n",
       "         1.32509732e-01],\n",
       "       [-1.73673948e-01, -1.31979479e-01,  2.51221427e-01,\n",
       "         8.77547895e-04],\n",
       "       [-1.73673948e-01, -3.62176246e-01,  2.51221427e-01,\n",
       "         1.32509732e-01],\n",
       "       [ 4.32165405e-01, -3.62176246e-01,  3.08058854e-01,\n",
       "         1.32509732e-01],\n",
       "       [-9.00681170e-01, -1.28296331e+00, -4.30827696e-01,\n",
       "        -1.30754636e-01],\n",
       "       [-1.73673948e-01, -5.92373012e-01,  1.94384000e-01,\n",
       "         1.32509732e-01],\n",
       "       [ 5.53333275e-01,  5.58610819e-01,  1.27429511e+00,\n",
       "         1.71209594e+00],\n",
       "       [-5.25060772e-02, -8.22569778e-01,  7.62758269e-01,\n",
       "         9.22302838e-01],\n",
       "       [ 1.52267624e+00, -1.31979479e-01,  1.21745768e+00,\n",
       "         1.18556721e+00],\n",
       "       [ 5.53333275e-01, -3.62176246e-01,  1.04694540e+00,\n",
       "         7.90670654e-01],\n",
       "       [ 7.95669016e-01, -1.31979479e-01,  1.16062026e+00,\n",
       "         1.31719939e+00],\n",
       "       [ 2.12851559e+00, -1.31979479e-01,  1.61531967e+00,\n",
       "         1.18556721e+00],\n",
       "       [-1.14301691e+00, -1.28296331e+00,  4.21733708e-01,\n",
       "         6.59038469e-01],\n",
       "       [ 1.76501198e+00, -3.62176246e-01,  1.44480739e+00,\n",
       "         7.90670654e-01],\n",
       "       [ 1.03800476e+00, -1.28296331e+00,  1.16062026e+00,\n",
       "         7.90670654e-01],\n",
       "       [ 1.64384411e+00,  1.24920112e+00,  1.33113254e+00,\n",
       "         1.71209594e+00],\n",
       "       [ 7.95669016e-01,  3.28414053e-01,  7.62758269e-01,\n",
       "         1.05393502e+00],\n",
       "       [ 6.74501145e-01, -8.22569778e-01,  8.76433123e-01,\n",
       "         9.22302838e-01],\n",
       "       [ 1.15917263e+00, -1.31979479e-01,  9.90107977e-01,\n",
       "         1.18556721e+00],\n",
       "       [-1.73673948e-01, -1.28296331e+00,  7.05920842e-01,\n",
       "         1.05393502e+00],\n",
       "       [-5.25060772e-02, -5.92373012e-01,  7.62758269e-01,\n",
       "         1.58046376e+00],\n",
       "       [ 6.74501145e-01,  3.28414053e-01,  8.76433123e-01,\n",
       "         1.44883158e+00],\n",
       "       [ 7.95669016e-01, -1.31979479e-01,  9.90107977e-01,\n",
       "         7.90670654e-01],\n",
       "       [ 2.24968346e+00,  1.70959465e+00,  1.67215710e+00,\n",
       "         1.31719939e+00],\n",
       "       [ 2.24968346e+00, -1.05276654e+00,  1.78583195e+00,\n",
       "         1.44883158e+00],\n",
       "       [ 1.89829664e-01, -1.97355361e+00,  7.05920842e-01,\n",
       "         3.95774101e-01],\n",
       "       [ 1.28034050e+00,  3.28414053e-01,  1.10378283e+00,\n",
       "         1.44883158e+00],\n",
       "       [-2.94841818e-01, -5.92373012e-01,  6.49083415e-01,\n",
       "         1.05393502e+00],\n",
       "       [ 2.24968346e+00, -5.92373012e-01,  1.67215710e+00,\n",
       "         1.05393502e+00],\n",
       "       [ 5.53333275e-01, -8.22569778e-01,  6.49083415e-01,\n",
       "         7.90670654e-01],\n",
       "       [ 1.03800476e+00,  5.58610819e-01,  1.10378283e+00,\n",
       "         1.18556721e+00],\n",
       "       [ 1.64384411e+00,  3.28414053e-01,  1.27429511e+00,\n",
       "         7.90670654e-01],\n",
       "       [ 4.32165405e-01, -5.92373012e-01,  5.92245988e-01,\n",
       "         7.90670654e-01],\n",
       "       [ 3.10997534e-01, -1.31979479e-01,  6.49083415e-01,\n",
       "         7.90670654e-01],\n",
       "       [ 6.74501145e-01, -5.92373012e-01,  1.04694540e+00,\n",
       "         1.18556721e+00],\n",
       "       [ 1.64384411e+00, -1.31979479e-01,  1.16062026e+00,\n",
       "         5.27406285e-01],\n",
       "       [ 1.88617985e+00, -5.92373012e-01,  1.33113254e+00,\n",
       "         9.22302838e-01],\n",
       "       [ 2.49201920e+00,  1.70959465e+00,  1.50164482e+00,\n",
       "         1.05393502e+00],\n",
       "       [ 6.74501145e-01, -5.92373012e-01,  1.04694540e+00,\n",
       "         1.31719939e+00],\n",
       "       [ 5.53333275e-01, -5.92373012e-01,  7.62758269e-01,\n",
       "         3.95774101e-01],\n",
       "       [ 3.10997534e-01, -1.05276654e+00,  1.04694540e+00,\n",
       "         2.64141916e-01],\n",
       "       [ 2.24968346e+00, -1.31979479e-01,  1.33113254e+00,\n",
       "         1.44883158e+00],\n",
       "       [ 5.53333275e-01,  7.88807586e-01,  1.04694540e+00,\n",
       "         1.58046376e+00],\n",
       "       [ 6.74501145e-01,  9.82172869e-02,  9.90107977e-01,\n",
       "         7.90670654e-01],\n",
       "       [ 1.89829664e-01, -1.31979479e-01,  5.92245988e-01,\n",
       "         7.90670654e-01],\n",
       "       [ 1.28034050e+00,  9.82172869e-02,  9.33270550e-01,\n",
       "         1.18556721e+00],\n",
       "       [ 1.03800476e+00,  9.82172869e-02,  1.04694540e+00,\n",
       "         1.58046376e+00],\n",
       "       [ 1.28034050e+00,  9.82172869e-02,  7.62758269e-01,\n",
       "         1.44883158e+00],\n",
       "       [-5.25060772e-02, -8.22569778e-01,  7.62758269e-01,\n",
       "         9.22302838e-01],\n",
       "       [ 1.15917263e+00,  3.28414053e-01,  1.21745768e+00,\n",
       "         1.44883158e+00],\n",
       "       [ 1.03800476e+00,  5.58610819e-01,  1.10378283e+00,\n",
       "         1.71209594e+00],\n",
       "       [ 1.03800476e+00, -1.31979479e-01,  8.19595696e-01,\n",
       "         1.44883158e+00],\n",
       "       [ 5.53333275e-01, -1.28296331e+00,  7.05920842e-01,\n",
       "         9.22302838e-01],\n",
       "       [ 7.95669016e-01, -1.31979479e-01,  8.19595696e-01,\n",
       "         1.05393502e+00],\n",
       "       [ 4.32165405e-01,  7.88807586e-01,  9.33270550e-01,\n",
       "         1.44883158e+00],\n",
       "       [ 6.86617933e-02, -1.31979479e-01,  7.62758269e-01,\n",
       "         7.90670654e-01]])"
      ]
     },
     "execution_count": 54,
     "metadata": {},
     "output_type": "execute_result"
    }
   ],
   "source": [
    "X_scaled"
   ]
  },
  {
   "cell_type": "code",
   "execution_count": 56,
   "id": "c78a9577",
   "metadata": {},
   "outputs": [
    {
     "data": {
      "text/plain": [
       "(1000, 2)"
      ]
     },
     "execution_count": 56,
     "metadata": {},
     "output_type": "execute_result"
    }
   ],
   "source": [
    "X.shape"
   ]
  },
  {
   "cell_type": "code",
   "execution_count": 55,
   "id": "fb29d1b9",
   "metadata": {},
   "outputs": [
    {
     "data": {
      "text/plain": [
       "(150, 4)"
      ]
     },
     "execution_count": 55,
     "metadata": {},
     "output_type": "execute_result"
    }
   ],
   "source": [
    "X_scaled.shape"
   ]
  },
  {
   "cell_type": "code",
   "execution_count": 57,
   "id": "40ef5473",
   "metadata": {},
   "outputs": [],
   "source": [
    "from sklearn.decomposition import PCA"
   ]
  },
  {
   "cell_type": "code",
   "execution_count": 58,
   "id": "e6fd3740",
   "metadata": {},
   "outputs": [],
   "source": [
    "pca=PCA(n_components=2)"
   ]
  },
  {
   "cell_type": "code",
   "execution_count": 59,
   "id": "89628f55",
   "metadata": {},
   "outputs": [
    {
     "data": {
      "text/plain": [
       "PCA(n_components=2)"
      ]
     },
     "execution_count": 59,
     "metadata": {},
     "output_type": "execute_result"
    }
   ],
   "source": [
    "pca"
   ]
  },
  {
   "cell_type": "code",
   "execution_count": 60,
   "id": "9ba355b4",
   "metadata": {},
   "outputs": [],
   "source": [
    "pca_scaled=pca.fit_transform(X_scaled)"
   ]
  },
  {
   "cell_type": "code",
   "execution_count": 61,
   "id": "2673d2f2",
   "metadata": {},
   "outputs": [
    {
     "data": {
      "text/plain": [
       "(150, 2)"
      ]
     },
     "execution_count": 61,
     "metadata": {},
     "output_type": "execute_result"
    }
   ],
   "source": [
    "pca_scaled.shape"
   ]
  },
  {
   "cell_type": "code",
   "execution_count": 62,
   "id": "63605759",
   "metadata": {},
   "outputs": [
    {
     "data": {
      "text/plain": [
       "<matplotlib.collections.PathCollection at 0x1f1c904e550>"
      ]
     },
     "execution_count": 62,
     "metadata": {},
     "output_type": "execute_result"
    },
    {
     "data": {
      "image/png": "[encoded data removed]",
      "text/plain": [
       "<Figure size 432x288 with 1 Axes>"
      ]
     },
     "metadata": {
      "needs_background": "light"
     },
     "output_type": "display_data"
    }
   ],
   "source": [
    "plt.scatter(pca_scaled[:,0],pca_scaled[:,1])"
   ]
  },
  {
   "cell_type": "code",
   "execution_count": 63,
   "id": "63594135",
   "metadata": {},
   "outputs": [
    {
     "data": {
      "text/plain": [
       "array([[-2.26470281,  0.4800266 ],\n",
       "       [-2.08096115, -0.67413356],\n",
       "       [-2.36422905, -0.34190802],\n",
       "       [-2.29938422, -0.59739451],\n",
       "       [-2.38984217,  0.64683538],\n",
       "       [-2.07563095,  1.48917752],\n",
       "       [-2.44402884,  0.0476442 ],\n",
       "       [-2.23284716,  0.22314807],\n",
       "       [-2.33464048, -1.11532768],\n",
       "       [-2.18432817, -0.46901356],\n",
       "       [-2.1663101 ,  1.04369065],\n",
       "       [-2.32613087,  0.13307834],\n",
       "       [-2.2184509 , -0.72867617],\n",
       "       [-2.6331007 , -0.96150673],\n",
       "       [-2.1987406 ,  1.86005711],\n",
       "       [-2.26221453,  2.68628449],\n",
       "       [-2.2075877 ,  1.48360936],\n",
       "       [-2.19034951,  0.48883832],\n",
       "       [-1.898572  ,  1.40501879],\n",
       "       [-2.34336905,  1.12784938],\n",
       "       [-1.914323  ,  0.40885571],\n",
       "       [-2.20701284,  0.92412143],\n",
       "       [-2.7743447 ,  0.45834367],\n",
       "       [-1.81866953,  0.08555853],\n",
       "       [-2.22716331,  0.13725446],\n",
       "       [-1.95184633, -0.62561859],\n",
       "       [-2.05115137,  0.24216355],\n",
       "       [-2.16857717,  0.52714953],\n",
       "       [-2.13956345,  0.31321781],\n",
       "       [-2.26526149, -0.3377319 ],\n",
       "       [-2.14012214, -0.50454069],\n",
       "       [-1.83159477,  0.42369507],\n",
       "       [-2.61494794,  1.79357586],\n",
       "       [-2.44617739,  2.15072788],\n",
       "       [-2.10997488, -0.46020184],\n",
       "       [-2.2078089 , -0.2061074 ],\n",
       "       [-2.04514621,  0.66155811],\n",
       "       [-2.52733191,  0.59229277],\n",
       "       [-2.42963258, -0.90418004],\n",
       "       [-2.16971071,  0.26887896],\n",
       "       [-2.28647514,  0.44171539],\n",
       "       [-1.85812246, -2.33741516],\n",
       "       [-2.5536384 , -0.47910069],\n",
       "       [-1.96444768,  0.47232667],\n",
       "       [-2.13705901,  1.14222926],\n",
       "       [-2.0697443 , -0.71105273],\n",
       "       [-2.38473317,  1.1204297 ],\n",
       "       [-2.39437631, -0.38624687],\n",
       "       [-2.22944655,  0.99795976],\n",
       "       [-2.20383344,  0.00921636],\n",
       "       [ 1.10178118,  0.86297242],\n",
       "       [ 0.73133743,  0.59461473],\n",
       "       [ 1.24097932,  0.61629765],\n",
       "       [ 0.40748306, -1.75440399],\n",
       "       [ 1.0754747 , -0.20842105],\n",
       "       [ 0.38868734, -0.59328364],\n",
       "       [ 0.74652974,  0.77301931],\n",
       "       [-0.48732274, -1.85242909],\n",
       "       [ 0.92790164,  0.03222608],\n",
       "       [ 0.01142619, -1.03401828],\n",
       "       [-0.11019628, -2.65407282],\n",
       "       [ 0.44069345, -0.06329519],\n",
       "       [ 0.56210831, -1.76472438],\n",
       "       [ 0.71956189, -0.18622461],\n",
       "       [-0.0333547 , -0.43900321],\n",
       "       [ 0.87540719,  0.50906396],\n",
       "       [ 0.35025167, -0.19631173],\n",
       "       [ 0.15881005, -0.79209574],\n",
       "       [ 1.22509363, -1.6222438 ],\n",
       "       [ 0.1649179 , -1.30260923],\n",
       "       [ 0.73768265,  0.39657156],\n",
       "       [ 0.47628719, -0.41732028],\n",
       "       [ 1.2341781 , -0.93332573],\n",
       "       [ 0.6328582 , -0.41638772],\n",
       "       [ 0.70266118, -0.06341182],\n",
       "       [ 0.87427365,  0.25079339],\n",
       "       [ 1.25650912, -0.07725602],\n",
       "       [ 1.35840512,  0.33131168],\n",
       "       [ 0.66480037, -0.22592785],\n",
       "       [-0.04025861, -1.05871855],\n",
       "       [ 0.13079518, -1.56227183],\n",
       "       [ 0.02345269, -1.57247559],\n",
       "       [ 0.24153827, -0.77725638],\n",
       "       [ 1.06109461, -0.63384324],\n",
       "       [ 0.22397877, -0.28777351],\n",
       "       [ 0.42913912,  0.84558224],\n",
       "       [ 1.04872805,  0.5220518 ],\n",
       "       [ 1.04453138, -1.38298872],\n",
       "       [ 0.06958832, -0.21950333],\n",
       "       [ 0.28347724, -1.32932464],\n",
       "       [ 0.27907778, -1.12002852],\n",
       "       [ 0.62456979,  0.02492303],\n",
       "       [ 0.33653037, -0.98840402],\n",
       "       [-0.36218338, -2.01923787],\n",
       "       [ 0.28858624, -0.85573032],\n",
       "       [ 0.09136066, -0.18119213],\n",
       "       [ 0.22771687, -0.38492008],\n",
       "       [ 0.57638829, -0.1548736 ],\n",
       "       [-0.44766702, -1.54379203],\n",
       "       [ 0.25673059, -0.5988518 ],\n",
       "       [ 1.84456887,  0.87042131],\n",
       "       [ 1.15788161, -0.69886986],\n",
       "       [ 2.20526679,  0.56201048],\n",
       "       [ 1.44015066, -0.04698759],\n",
       "       [ 1.86781222,  0.29504482],\n",
       "       [ 2.75187334,  0.8004092 ],\n",
       "       [ 0.36701769, -1.56150289],\n",
       "       [ 2.30243944,  0.42006558],\n",
       "       [ 2.00668647, -0.71143865],\n",
       "       [ 2.25977735,  1.92101038],\n",
       "       [ 1.36417549,  0.69275645],\n",
       "       [ 1.60267867, -0.42170045],\n",
       "       [ 1.8839007 ,  0.41924965],\n",
       "       [ 1.2601151 , -1.16226042],\n",
       "       [ 1.4676452 , -0.44227159],\n",
       "       [ 1.59007732,  0.67624481],\n",
       "       [ 1.47143146,  0.25562182],\n",
       "       [ 2.42632899,  2.55666125],\n",
       "       [ 3.31069558,  0.01778095],\n",
       "       [ 1.26376667, -1.70674538],\n",
       "       [ 2.0377163 ,  0.91046741],\n",
       "       [ 0.97798073, -0.57176432],\n",
       "       [ 2.89765149,  0.41364106],\n",
       "       [ 1.33323218, -0.48181122],\n",
       "       [ 1.7007339 ,  1.01392187],\n",
       "       [ 1.95432671,  1.0077776 ],\n",
       "       [ 1.17510363, -0.31639447],\n",
       "       [ 1.02095055,  0.06434603],\n",
       "       [ 1.78834992, -0.18736121],\n",
       "       [ 1.86364755,  0.56229073],\n",
       "       [ 2.43595373,  0.25928443],\n",
       "       [ 2.30492772,  2.62632347],\n",
       "       [ 1.86270322, -0.17854949],\n",
       "       [ 1.11414774, -0.29292262],\n",
       "       [ 1.2024733 , -0.81131527],\n",
       "       [ 2.79877045,  0.85680333],\n",
       "       [ 1.57625591,  1.06858111],\n",
       "       [ 1.3462921 ,  0.42243061],\n",
       "       [ 0.92482492,  0.0172231 ],\n",
       "       [ 1.85204505,  0.67612817],\n",
       "       [ 2.01481043,  0.61388564],\n",
       "       [ 1.90178409,  0.68957549],\n",
       "       [ 1.15788161, -0.69886986],\n",
       "       [ 2.04055823,  0.8675206 ],\n",
       "       [ 1.9981471 ,  1.04916875],\n",
       "       [ 1.87050329,  0.38696608],\n",
       "       [ 1.56458048, -0.89668681],\n",
       "       [ 1.5211705 ,  0.26906914],\n",
       "       [ 1.37278779,  1.01125442],\n",
       "       [ 0.96065603, -0.02433167]])"
      ]
     },
     "execution_count": 63,
     "metadata": {},
     "output_type": "execute_result"
    }
   ],
   "source": [
    "pca_scaled"
   ]
  },
  {
   "cell_type": "code",
   "execution_count": 64,
   "id": "13a9bf33",
   "metadata": {},
   "outputs": [],
   "source": [
    "##Aglomerative Clustering \n",
    "##TO construct a dendogram \n",
    "import scipy.cluster.hierarchy as sc"
   ]
  },
  {
   "cell_type": "code",
   "execution_count": 66,
   "id": "f3ded1c6",
   "metadata": {},
   "outputs": [
    {
     "data": {
      "text/plain": [
       "Text(0, 0.5, 'Eucledian Distance')"
      ]
     },
     "execution_count": 66,
     "metadata": {},
     "output_type": "execute_result"
    },
    {
     "data": {
      "image/png": "[encoded data removed]",
      "text/plain": [
       "<Figure size 1440x504 with 1 Axes>"
      ]
     },
     "metadata": {
      "needs_background": "light"
     },
     "output_type": "display_data"
    }
   ],
   "source": [
    "plt.figure(figsize=(20,7))\n",
    "sc.dendrogram(sc.linkage(pca_scaled,method='ward'))\n",
    "plt.title(\"Dendograms\")\n",
    "plt.xlabel('Sample Index ')\n",
    "plt.ylabel('Eucledian Distance')"
   ]
  },
  {
   "cell_type": "code",
   "execution_count": 67,
   "id": "955bee42",
   "metadata": {},
   "outputs": [],
   "source": [
    "from sklearn.cluster import AgglomerativeClustering"
   ]
  },
  {
   "cell_type": "code",
   "execution_count": 68,
   "id": "cae99b5f",
   "metadata": {},
   "outputs": [
    {
     "data": {
      "text/plain": [
       "AgglomerativeClustering()"
      ]
     },
     "execution_count": 68,
     "metadata": {},
     "output_type": "execute_result"
    }
   ],
   "source": [
    "cluster=AgglomerativeClustering(n_clusters=2,affinity='euclidean',linkage='ward')\n",
    "cluster.fit(pca_scaled)"
   ]
  },
  {
   "cell_type": "code",
   "execution_count": 69,
   "id": "bcaa0726",
   "metadata": {},
   "outputs": [
    {
     "data": {
      "text/plain": [
       "array([1, 1, 1, 1, 1, 1, 1, 1, 1, 1, 1, 1, 1, 1, 1, 1, 1, 1, 1, 1, 1, 1,\n",
       "       1, 1, 1, 1, 1, 1, 1, 1, 1, 1, 1, 1, 1, 1, 1, 1, 1, 1, 1, 1, 1, 1,\n",
       "       1, 1, 1, 1, 1, 1, 0, 0, 0, 0, 0, 0, 0, 0, 0, 0, 0, 0, 0, 0, 0, 0,\n",
       "       0, 0, 0, 0, 0, 0, 0, 0, 0, 0, 0, 0, 0, 0, 0, 0, 0, 0, 0, 0, 0, 0,\n",
       "       0, 0, 0, 0, 0, 0, 0, 0, 0, 0, 0, 0, 0, 0, 0, 0, 0, 0, 0, 0, 0, 0,\n",
       "       0, 0, 0, 0, 0, 0, 0, 0, 0, 0, 0, 0, 0, 0, 0, 0, 0, 0, 0, 0, 0, 0,\n",
       "       0, 0, 0, 0, 0, 0, 0, 0, 0, 0, 0, 0, 0, 0, 0, 0, 0, 0], dtype=int64)"
      ]
     },
     "execution_count": 69,
     "metadata": {},
     "output_type": "execute_result"
    }
   ],
   "source": [
    "cluster.labels_\n"
   ]
  },
  {
   "cell_type": "code",
   "execution_count": 70,
   "id": "9337e874",
   "metadata": {},
   "outputs": [
    {
     "data": {
      "text/plain": [
       "<matplotlib.collections.PathCollection at 0x1f1cc201bb0>"
      ]
     },
     "execution_count": 70,
     "metadata": {},
     "output_type": "execute_result"
    },
    {
     "data": {
      "image/png": "[encoded data removed]",
      "text/plain": [
       "<Figure size 432x288 with 1 Axes>"
      ]
     },
     "metadata": {
      "needs_background": "light"
     },
     "output_type": "display_data"
    }
   ],
   "source": [
    "plt.scatter(pca_scaled[:,0],pca_scaled[:,1],c=cluster.labels_)"
   ]
  },
  {
   "cell_type": "code",
   "execution_count": 78,
   "id": "bac99e25",
   "metadata": {},
   "outputs": [],
   "source": [
    "from sklearn.metrics import silhouette_score\n",
    "silhoutee_coefficients=[]\n",
    "for k in range(2,11):\n",
    "    agglo=AgglomerativeClustering(n_clusters=k,affinity=\"euclidean\",linkage='ward')\n",
    "    agglo.fit(X_scaled)\n",
    "    score=silhouette_score(X_scaled,agglo.labels_)\n",
    "    silhoutee_coefficients.append(score)"
   ]
  },
  {
   "cell_type": "code",
   "execution_count": 79,
   "id": "29ea54db",
   "metadata": {},
   "outputs": [
    {
     "data": {
      "text/plain": [
       "[0.5770346019475988,\n",
       " 0.4466890410285909,\n",
       " 0.4006363159855973,\n",
       " 0.33058726295230545,\n",
       " 0.31485480100512825,\n",
       " 0.316969830299128,\n",
       " 0.310946529007258,\n",
       " 0.31143422475471655,\n",
       " 0.3161120375980681]"
      ]
     },
     "execution_count": 79,
     "metadata": {},
     "output_type": "execute_result"
    }
   ],
   "source": [
    "silhoutee_coefficients"
   ]
  },
  {
   "cell_type": "markdown",
   "id": "78bbec07",
   "metadata": {},
   "source": [
    "# DBSCAN Clustering"
   ]
  },
  {
   "cell_type": "code",
   "execution_count": 81,
   "id": "fa7a4c6c",
   "metadata": {},
   "outputs": [],
   "source": [
    "from sklearn.cluster import DBSCAN"
   ]
  },
  {
   "cell_type": "code",
   "execution_count": 82,
   "id": "f4ecb368",
   "metadata": {},
   "outputs": [],
   "source": [
    "from sklearn.datasets import make_moons"
   ]
  },
  {
   "cell_type": "code",
   "execution_count": 83,
   "id": "9aa5c680",
   "metadata": {},
   "outputs": [],
   "source": [
    "import matplotlib.pyplot as plt\n",
    "%matplotlib inline"
   ]
  },
  {
   "cell_type": "code",
   "execution_count": 85,
   "id": "6004b066",
   "metadata": {},
   "outputs": [],
   "source": [
    "X,y=make_moons(n_samples=250,noise=0.05)"
   ]
  },
  {
   "cell_type": "code",
   "execution_count": 86,
   "id": "4029052b",
   "metadata": {},
   "outputs": [
    {
     "data": {
      "text/plain": [
       "array([[ 1.78693664, -0.05308042],\n",
       "       [ 0.10550647,  0.9597594 ],\n",
       "       [ 0.017402  ,  0.31134932],\n",
       "       [ 1.84687109, -0.12518354],\n",
       "       [-0.51256821,  0.77719042],\n",
       "       [ 0.12050685,  0.22227592],\n",
       "       [ 1.02151152,  0.20954014],\n",
       "       [ 0.97481269, -0.46370653],\n",
       "       [ 1.44236314, -0.42498643],\n",
       "       [ 0.10015345,  0.91011367],\n",
       "       [-0.141181  ,  0.99569   ],\n",
       "       [ 0.37211401, -0.31603602],\n",
       "       [ 1.03122993,  0.27995714],\n",
       "       [-0.26128338,  0.99932503],\n",
       "       [ 1.9895822 ,  0.19747842],\n",
       "       [ 0.46879255,  0.83397878],\n",
       "       [ 0.0674845 ,  0.94935935],\n",
       "       [-0.97187377,  0.29029834],\n",
       "       [-0.82102151,  0.4777671 ],\n",
       "       [ 1.61250902, -0.30025091],\n",
       "       [ 1.48832753, -0.37871661],\n",
       "       [ 1.69171331, -0.22569806],\n",
       "       [-0.91617789,  0.58052463],\n",
       "       [ 0.4978491 , -0.34968437],\n",
       "       [ 1.24354713, -0.49243607],\n",
       "       [ 1.04402418,  0.30297146],\n",
       "       [-0.41491125,  0.90156328],\n",
       "       [ 1.55520109, -0.32240587],\n",
       "       [ 1.93923603,  0.38866551],\n",
       "       [ 0.85555313,  0.31471118],\n",
       "       [ 1.49157214, -0.39679558],\n",
       "       [ 0.21992287, -0.17741032],\n",
       "       [ 0.24081167,  0.13552126],\n",
       "       [ 0.71161631,  0.73393703],\n",
       "       [ 0.76475369, -0.47722058],\n",
       "       [-0.82875256,  0.18832267],\n",
       "       [ 1.91143121,  0.05850989],\n",
       "       [ 0.87279215,  0.545648  ],\n",
       "       [ 0.26784845,  0.98978613],\n",
       "       [ 1.90131888,  0.10768111],\n",
       "       [ 1.00111388,  0.08254174],\n",
       "       [ 0.35208123,  0.93689867],\n",
       "       [ 1.78561992, -0.07560623],\n",
       "       [-0.91497073,  0.36613572],\n",
       "       [-0.2513161 ,  1.04393495],\n",
       "       [ 0.97199016,  0.43115971],\n",
       "       [ 1.28090453, -0.45992564],\n",
       "       [ 0.97783493, -0.04896051],\n",
       "       [ 1.87645082,  0.13338788],\n",
       "       [-0.78965843,  0.63025298],\n",
       "       [ 0.78710661,  0.34053718],\n",
       "       [-0.88503491,  0.37550149],\n",
       "       [ 1.72211849, -0.22584902],\n",
       "       [-0.56637092,  0.78313725],\n",
       "       [-1.00582757,  0.13100877],\n",
       "       [ 1.17621254, -0.46127092],\n",
       "       [ 0.71884102,  0.75438727],\n",
       "       [ 0.84990995,  0.59687243],\n",
       "       [-0.05523556,  0.38701069],\n",
       "       [ 0.03413231,  0.19401715],\n",
       "       [ 1.23745572, -0.4861065 ],\n",
       "       [-0.05980619,  0.39359019],\n",
       "       [-0.36294098,  0.99659039],\n",
       "       [ 0.17896038, -0.04164778],\n",
       "       [-0.91628816,  0.44204039],\n",
       "       [ 0.57033549,  0.91266391],\n",
       "       [ 0.93722875,  0.03345447],\n",
       "       [-0.21010679,  0.93340149],\n",
       "       [ 0.43194965, -0.36814826],\n",
       "       [ 1.04293583, -0.62828368],\n",
       "       [-0.62138461,  0.71863581],\n",
       "       [ 0.62141811,  0.74345387],\n",
       "       [ 0.21518297, -0.14478453],\n",
       "       [ 0.04642992,  0.95285564],\n",
       "       [ 1.94881939,  0.44011479],\n",
       "       [ 2.01822889,  0.51881885],\n",
       "       [ 1.08003197, -0.48328438],\n",
       "       [-0.94044772,  0.33586918],\n",
       "       [ 0.03591289,  0.12161616],\n",
       "       [ 1.40878388, -0.37167034],\n",
       "       [ 0.85496048,  0.30526216],\n",
       "       [ 0.65372083,  0.86279638],\n",
       "       [ 0.86834357,  0.48316621],\n",
       "       [ 1.87791996,  0.03425931],\n",
       "       [ 1.26972207, -0.44721984],\n",
       "       [-0.30050889,  0.92316636],\n",
       "       [ 0.32519325, -0.13427053],\n",
       "       [-0.72031282,  0.67169402],\n",
       "       [-0.93843414,  0.44325294],\n",
       "       [ 0.43563859,  0.90025604],\n",
       "       [ 0.07020592,  0.16595749],\n",
       "       [ 2.00905513,  0.4012336 ],\n",
       "       [ 0.22409562,  0.97816114],\n",
       "       [ 0.03409889,  0.48546451],\n",
       "       [ 1.03009208,  0.16695356],\n",
       "       [ 0.80949302, -0.43904815],\n",
       "       [-0.22751459,  1.03289873],\n",
       "       [ 0.79847849, -0.42675376],\n",
       "       [-0.9269687 ,  0.52173978],\n",
       "       [ 1.51505214, -0.31771399],\n",
       "       [ 1.63320818, -0.32668347],\n",
       "       [ 1.48514125, -0.31012301],\n",
       "       [ 1.88820125,  0.16553983],\n",
       "       [ 1.39909276, -0.31894974],\n",
       "       [-0.80369302,  0.80344221],\n",
       "       [ 0.63344104, -0.39135069],\n",
       "       [ 1.48572968, -0.3756808 ],\n",
       "       [-1.02472315,  0.0898116 ],\n",
       "       [-0.92962106,  0.3916609 ],\n",
       "       [ 0.31917986,  0.95727206],\n",
       "       [ 0.3086132 , -0.23095313],\n",
       "       [-0.02896739,  0.26492141],\n",
       "       [-0.01133508,  0.14102802],\n",
       "       [ 1.94403515,  0.2636815 ],\n",
       "       [-0.95369439,  0.37954703],\n",
       "       [ 0.8464176 ,  0.69117653],\n",
       "       [ 0.82031583, -0.47117033],\n",
       "       [ 0.50909071,  0.75701166],\n",
       "       [-0.53319479,  0.91334528],\n",
       "       [ 1.15552582, -0.57846448],\n",
       "       [ 0.60227645,  0.78890684],\n",
       "       [-1.01223582,  0.00703742],\n",
       "       [ 0.35457035, -0.25941004],\n",
       "       [ 0.35132804,  0.91923715],\n",
       "       [ 0.19914622, -0.1085923 ],\n",
       "       [-0.00210808,  0.25974186],\n",
       "       [ 0.96792568,  0.25347006],\n",
       "       [ 0.5800025 , -0.35095398],\n",
       "       [-0.68891123,  0.72339076],\n",
       "       [ 0.96051439,  0.31175706],\n",
       "       [ 0.83047361,  0.5751408 ],\n",
       "       [ 0.85771553, -0.46261205],\n",
       "       [ 0.77082047, -0.47871076],\n",
       "       [ 1.89870715,  0.01130679],\n",
       "       [-0.09434389,  0.53276452],\n",
       "       [ 1.75141804, -0.09014377],\n",
       "       [ 0.84998929, -0.48426422],\n",
       "       [ 2.01696673,  0.22910309],\n",
       "       [-1.05259522,  0.10551205],\n",
       "       [ 1.09819052, -0.41022521],\n",
       "       [ 1.00378185,  0.22166012],\n",
       "       [-0.37124553,  0.90713886],\n",
       "       [ 0.37220463,  0.8175922 ],\n",
       "       [-0.89552304,  0.46479111],\n",
       "       [-0.81429557,  0.67648732],\n",
       "       [-0.56403334,  0.78444886],\n",
       "       [ 0.66513152, -0.48762509],\n",
       "       [ 1.75235704, -0.06191019],\n",
       "       [ 2.03864992,  0.14275993],\n",
       "       [ 0.02532819,  0.17779081],\n",
       "       [-0.62306758,  0.80417573],\n",
       "       [ 0.06810064,  0.15142932],\n",
       "       [-0.41763253,  0.89553772],\n",
       "       [ 1.72731513, -0.23418035],\n",
       "       [ 0.09991999,  0.9833079 ],\n",
       "       [ 1.88343545,  0.14176169],\n",
       "       [ 0.51531273,  0.88535451],\n",
       "       [ 1.27351778, -0.41674485],\n",
       "       [ 0.02823365,  0.31326205],\n",
       "       [ 0.06268287,  1.00733904],\n",
       "       [ 0.04548752,  0.17474834],\n",
       "       [ 1.73126422, -0.1590041 ],\n",
       "       [-0.67434682,  0.64333739],\n",
       "       [-0.26665464,  0.90329369],\n",
       "       [ 0.88138818,  0.36866591],\n",
       "       [ 0.33378871,  0.88028129],\n",
       "       [ 1.1068662 , -0.51162382],\n",
       "       [ 0.53306228, -0.35870733],\n",
       "       [-0.43120946,  0.97236639],\n",
       "       [-0.84614504,  0.5428714 ],\n",
       "       [-0.96262634,  0.49460977],\n",
       "       [ 2.04538033,  0.41926766],\n",
       "       [ 1.14997566, -0.50162008],\n",
       "       [ 0.53439983, -0.41754352],\n",
       "       [ 1.41514887, -0.41831417],\n",
       "       [ 0.58811141,  0.89694093],\n",
       "       [ 1.04985875, -0.48185864],\n",
       "       [ 0.64737983, -0.4024158 ],\n",
       "       [ 0.17426415, -0.01409763],\n",
       "       [ 0.68186062, -0.49487043],\n",
       "       [-0.98141646,  0.19395027],\n",
       "       [-1.04514858,  0.15719915],\n",
       "       [-0.09000818,  0.98221908],\n",
       "       [ 1.98197475,  0.46536276],\n",
       "       [ 0.14961488, -0.01657649],\n",
       "       [-0.0617785 ,  0.95372297],\n",
       "       [ 0.00388107,  0.4171366 ],\n",
       "       [ 0.42150589,  1.00528836],\n",
       "       [ 0.27876306,  0.86183899],\n",
       "       [ 0.67592234,  0.71426125],\n",
       "       [ 0.94900284, -0.63680487],\n",
       "       [ 1.95628078,  0.33346903],\n",
       "       [ 1.00501958, -0.54999234],\n",
       "       [ 0.54243491, -0.35280745],\n",
       "       [ 0.25889742, -0.03946928],\n",
       "       [ 0.30518907, -0.22151978],\n",
       "       [ 0.9787588 , -0.56799552],\n",
       "       [ 0.22571965, -0.06963974],\n",
       "       [ 1.91506518,  0.25129473],\n",
       "       [ 0.83921048,  0.64124241],\n",
       "       [ 0.63983203, -0.48836929],\n",
       "       [ 1.04846057,  0.13614071],\n",
       "       [ 0.60363137,  0.80272326],\n",
       "       [ 2.04013289,  0.28706728],\n",
       "       [-0.05316823,  0.52761727],\n",
       "       [-0.62164995,  0.72845986],\n",
       "       [ 0.55702794, -0.31808928],\n",
       "       [-0.44770063,  0.9101702 ],\n",
       "       [ 0.73460421, -0.5373893 ],\n",
       "       [ 0.74731503,  0.63733178],\n",
       "       [ 1.02697872,  0.09419331],\n",
       "       [-0.15095982,  0.94905893],\n",
       "       [-0.00648025,  0.3388656 ],\n",
       "       [ 1.0242297 ,  0.01710973],\n",
       "       [-0.91398064,  0.33300435],\n",
       "       [ 1.87263271,  0.04533088],\n",
       "       [ 0.34053074,  0.97294057],\n",
       "       [-0.31847173,  0.91569466],\n",
       "       [-0.27370055,  0.94485217],\n",
       "       [-1.01286678,  0.19847327],\n",
       "       [ 0.91632127,  0.49680072],\n",
       "       [ 0.25283212, -0.17423485],\n",
       "       [ 1.71994856, -0.20842105],\n",
       "       [-0.74525554,  0.74183503],\n",
       "       [ 1.71101518, -0.19106519],\n",
       "       [ 1.33700968, -0.43279098],\n",
       "       [-1.09982276,  0.10071976],\n",
       "       [ 0.6580836 ,  0.78523089],\n",
       "       [ 0.35652202, -0.17245426],\n",
       "       [-0.6934726 ,  0.77186663],\n",
       "       [-0.54703024,  0.89448461],\n",
       "       [-0.06938756,  0.98544479],\n",
       "       [ 0.90221591,  0.5312632 ],\n",
       "       [ 0.44824247, -0.1896631 ],\n",
       "       [ 0.52855393,  0.85914455],\n",
       "       [ 0.15324266,  0.99076988],\n",
       "       [ 0.32021111, -0.37746514],\n",
       "       [ 1.97049982,  0.42150324],\n",
       "       [-1.00500151,  0.01965312],\n",
       "       [ 1.34721014, -0.45403258],\n",
       "       [-0.0252054 ,  1.00283883],\n",
       "       [ 0.82171483,  0.48682017],\n",
       "       [ 0.12796639, -0.06850872],\n",
       "       [ 1.68352725, -0.2602131 ],\n",
       "       [ 0.71777004,  0.69445519],\n",
       "       [-0.06828011,  0.94388122],\n",
       "       [ 0.46366264, -0.34433061],\n",
       "       [-0.78502363,  0.6271017 ],\n",
       "       [ 1.81193399, -0.03553004],\n",
       "       [ 0.95898085,  0.36657978]])"
      ]
     },
     "execution_count": 86,
     "metadata": {},
     "output_type": "execute_result"
    }
   ],
   "source": [
    "X"
   ]
  },
  {
   "cell_type": "code",
   "execution_count": 87,
   "id": "3e2d0e55",
   "metadata": {},
   "outputs": [
    {
     "data": {
      "text/plain": [
       "<matplotlib.collections.PathCollection at 0x1f1cc551730>"
      ]
     },
     "execution_count": 87,
     "metadata": {},
     "output_type": "execute_result"
    },
    {
     "data": {
      "image/png": "[encoded data removed]",
      "text/plain": [
       "<Figure size 432x288 with 1 Axes>"
      ]
     },
     "metadata": {
      "needs_background": "light"
     },
     "output_type": "display_data"
    }
   ],
   "source": [
    "plt.scatter(X[:,0],X[:,1])"
   ]
  },
  {
   "cell_type": "code",
   "execution_count": 88,
   "id": "118b3f16",
   "metadata": {},
   "outputs": [],
   "source": [
    "from sklearn.preprocessing import StandardScaler"
   ]
  },
  {
   "cell_type": "code",
   "execution_count": 89,
   "id": "84df102f",
   "metadata": {},
   "outputs": [],
   "source": [
    "scaler=StandardScaler()"
   ]
  },
  {
   "cell_type": "code",
   "execution_count": 91,
   "id": "332e351a",
   "metadata": {},
   "outputs": [],
   "source": [
    "X_scaled=scaler.fit_transform(X)"
   ]
  },
  {
   "cell_type": "code",
   "execution_count": 92,
   "id": "aab4119a",
   "metadata": {},
   "outputs": [],
   "source": [
    "from sklearn.cluster import DBSCAN"
   ]
  },
  {
   "cell_type": "code",
   "execution_count": 93,
   "id": "fac1aff0",
   "metadata": {},
   "outputs": [],
   "source": [
    "dbcan=DBSCAN(eps=0.5)"
   ]
  },
  {
   "cell_type": "code",
   "execution_count": 94,
   "id": "a2ed1e4d",
   "metadata": {},
   "outputs": [
    {
     "data": {
      "text/plain": [
       "DBSCAN()"
      ]
     },
     "execution_count": 94,
     "metadata": {},
     "output_type": "execute_result"
    }
   ],
   "source": [
    "dbcan.fit(X_scaled)"
   ]
  },
  {
   "cell_type": "code",
   "execution_count": 95,
   "id": "4bbf1a01",
   "metadata": {},
   "outputs": [
    {
     "data": {
      "text/plain": [
       "array([0, 1, 0, 0, 1, 0, 1, 0, 0, 1, 1, 0, 1, 1, 0, 1, 1, 1, 1, 0, 0, 0,\n",
       "       1, 0, 0, 1, 1, 0, 0, 1, 0, 0, 0, 1, 0, 1, 0, 1, 1, 0, 1, 1, 0, 1,\n",
       "       1, 1, 0, 1, 0, 1, 1, 1, 0, 1, 1, 0, 1, 1, 0, 0, 0, 0, 1, 0, 1, 1,\n",
       "       1, 1, 0, 0, 1, 1, 0, 1, 0, 0, 0, 1, 0, 0, 1, 1, 1, 0, 0, 1, 0, 1,\n",
       "       1, 1, 0, 0, 1, 0, 1, 0, 1, 0, 1, 0, 0, 0, 0, 0, 1, 0, 0, 1, 1, 1,\n",
       "       0, 0, 0, 0, 1, 1, 0, 1, 1, 0, 1, 1, 0, 1, 0, 0, 1, 0, 1, 1, 1, 0,\n",
       "       0, 0, 0, 0, 0, 0, 1, 0, 1, 1, 1, 1, 1, 1, 0, 0, 0, 0, 1, 0, 1, 0,\n",
       "       1, 0, 1, 0, 0, 1, 0, 0, 1, 1, 1, 1, 0, 0, 1, 1, 1, 0, 0, 0, 0, 1,\n",
       "       0, 0, 0, 0, 1, 1, 1, 0, 0, 1, 0, 1, 1, 1, 0, 0, 0, 0, 0, 0, 0, 0,\n",
       "       0, 1, 0, 1, 1, 0, 0, 1, 0, 1, 0, 1, 1, 1, 0, 1, 1, 0, 1, 1, 1, 1,\n",
       "       1, 0, 0, 1, 0, 0, 1, 1, 0, 1, 1, 1, 1, 0, 1, 1, 0, 0, 1, 0, 1, 1,\n",
       "       0, 0, 1, 1, 0, 1, 0, 1], dtype=int64)"
      ]
     },
     "execution_count": 95,
     "metadata": {},
     "output_type": "execute_result"
    }
   ],
   "source": [
    "dbcan.labels_"
   ]
  },
  {
   "cell_type": "code",
   "execution_count": 96,
   "id": "be0e1dcf",
   "metadata": {},
   "outputs": [
    {
     "data": {
      "text/plain": [
       "<matplotlib.collections.PathCollection at 0x1f1ccf1fa60>"
      ]
     },
     "execution_count": 96,
     "metadata": {},
     "output_type": "execute_result"
    },
    {
     "data": {
      "image/png": "[encoded data removed]",
      "text/plain": [
       "<Figure size 432x288 with 1 Axes>"
      ]
     },
     "metadata": {
      "needs_background": "light"
     },
     "output_type": "display_data"
    }
   ],
   "source": [
    "plt.scatter(X[:,0],X[:,1],c=dbcan.labels_)"
   ]
  },
  {
   "cell_type": "code",
   "execution_count": 97,
   "id": "689c57ef",
   "metadata": {},
   "outputs": [
    {
     "data": {
      "text/plain": [
       "<matplotlib.collections.PathCollection at 0x1f1ccf10730>"
      ]
     },
     "execution_count": 97,
     "metadata": {},
     "output_type": "execute_result"
    },
    {
     "data": {
      "image/png": "[encoded data removed]",
      "text/plain": [
       "<Figure size 432x288 with 1 Axes>"
      ]
     },
     "metadata": {
      "needs_background": "light"
     },
     "output_type": "display_data"
    }
   ],
   "source": [
    "plt.scatter(X[:,0],X[:,1],c=y)"
   ]
  },
  {
   "cell_type": "code",
   "execution_count": null,
   "id": "f74cbaef",
   "metadata": {},
   "outputs": [],
   "source": []
  }
 ],
 "metadata": {
  "kernelspec": {
   "display_name": "Python 3 (ipykernel)",
   "language": "python",
   "name": "python3"
  },
  "language_info": {
   "codemirror_mode": {
    "name": "ipython",
    "version": 3
   },
   "file_extension": ".py",
   "mimetype": "text/x-python",
   "name": "python",
   "nbconvert_exporter": "python",
   "pygments_lexer": "ipython3",
   "version": "3.9.12"
  }
 },
 "nbformat": 4,
 "nbformat_minor": 5
}

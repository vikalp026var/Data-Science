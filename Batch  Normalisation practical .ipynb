{
 "cells": [
  {
   "cell_type": "code",
   "execution_count": 35,
   "id": "50909d78",
   "metadata": {},
   "outputs": [
    {
     "name": "stdout",
     "output_type": "stream",
     "text": [
      "The tensorboard extension is already loaded. To reload it, use:\n",
      "  %reload_ext tensorboard\n"
     ]
    }
   ],
   "source": [
    "import os \n",
    "import tensorflow as tf  \n",
    "import numpy as np \n",
    "import matplotlib.pyplot as plt \n",
    "import seaborn as sns \n",
    "import time \n",
    "#plt.style.use('fivethirtyweight ')\n",
    "%load_ext tensorboard"
   ]
  },
  {
   "cell_type": "code",
   "execution_count": 36,
   "id": "e6534310",
   "metadata": {},
   "outputs": [],
   "source": [
    "(X_train_full,y_train_full),(X_test,y_test)=tf.keras.datasets.fashion_mnist.load_data()"
   ]
  },
  {
   "cell_type": "code",
   "execution_count": 37,
   "id": "83fa4011",
   "metadata": {},
   "outputs": [],
   "source": [
    "X_train_full=X_train_full/255.0\n",
    "X_test=X_test/255.0\n",
    "X_valid,X_train=X_train_full[:5000],X_train_full[5000:]\n",
    "y_valid,y_train=y_train_full[:5000],y_train_full[5000:]"
   ]
  },
  {
   "cell_type": "code",
   "execution_count": 38,
   "id": "e844d354",
   "metadata": {},
   "outputs": [],
   "source": [
    "tf.random.set_seed(42)\n",
    "np.random.seed(42)\n",
    "Layers=[tf.keras.layers.Flatten(input_shape=[28,28]),\n",
    "       tf.keras.layers.Dense(300,kernel_initializer='he_normal'),\n",
    "       tf.keras.layers.LeakyReLU(),\n",
    "       tf.keras.layers.Dense(300,kernel_initializer='he_normal'),\n",
    "       tf.keras.layers.LeakyReLU(),\n",
    "       tf.keras.layers.Dense(10,activation='softmax')]\n",
    "model=tf.keras.models.Sequential(Layers)"
   ]
  },
  {
   "cell_type": "code",
   "execution_count": 39,
   "id": "d2b9d49a",
   "metadata": {},
   "outputs": [
    {
     "data": {
      "text/plain": [
       "<keras.engine.sequential.Sequential at 0x1c35c8c2820>"
      ]
     },
     "execution_count": 39,
     "metadata": {},
     "output_type": "execute_result"
    }
   ],
   "source": [
    "model"
   ]
  },
  {
   "cell_type": "code",
   "execution_count": 40,
   "id": "21989615",
   "metadata": {},
   "outputs": [
    {
     "name": "stderr",
     "output_type": "stream",
     "text": [
      "WARNING:absl:`lr` is deprecated, please use `learning_rate` instead, or use the legacy optimizer, e.g.,tf.keras.optimizers.legacy.SGD.\n"
     ]
    }
   ],
   "source": [
    "model.compile(loss='sparse_categorical_crossentropy',\n",
    "             optimizer=tf.keras.optimizers.SGD(lr=1e-3),metrics=['accuracy'])"
   ]
  },
  {
   "cell_type": "code",
   "execution_count": 41,
   "id": "d84ce238",
   "metadata": {},
   "outputs": [
    {
     "name": "stdout",
     "output_type": "stream",
     "text": [
      "Model: \"sequential_3\"\n",
      "_________________________________________________________________\n",
      " Layer (type)                Output Shape              Param #   \n",
      "=================================================================\n",
      " flatten_3 (Flatten)         (None, 784)               0         \n",
      "                                                                 \n",
      " dense_9 (Dense)             (None, 300)               235500    \n",
      "                                                                 \n",
      " leaky_re_lu_4 (LeakyReLU)   (None, 300)               0         \n",
      "                                                                 \n",
      " dense_10 (Dense)            (None, 300)               90300     \n",
      "                                                                 \n",
      " leaky_re_lu_5 (LeakyReLU)   (None, 300)               0         \n",
      "                                                                 \n",
      " dense_11 (Dense)            (None, 10)                3010      \n",
      "                                                                 \n",
      "=================================================================\n",
      "Total params: 328,810\n",
      "Trainable params: 328,810\n",
      "Non-trainable params: 0\n",
      "_________________________________________________________________\n"
     ]
    }
   ],
   "source": [
    "model.summary()"
   ]
  },
  {
   "cell_type": "code",
   "execution_count": 42,
   "id": "730e561e",
   "metadata": {
    "scrolled": true
   },
   "outputs": [
    {
     "name": "stdout",
     "output_type": "stream",
     "text": [
      "Epoch 1/10\n",
      "1719/1719 [==============================] - 5s 3ms/step - loss: 0.6622 - accuracy: 0.7766 - val_loss: 0.4957 - val_accuracy: 0.8322\n",
      "Epoch 2/10\n",
      "1719/1719 [==============================] - 4s 2ms/step - loss: 0.4754 - accuracy: 0.8320 - val_loss: 0.4295 - val_accuracy: 0.8520\n",
      "Epoch 3/10\n",
      "1719/1719 [==============================] - 4s 2ms/step - loss: 0.4355 - accuracy: 0.8460 - val_loss: 0.5021 - val_accuracy: 0.8098\n",
      "Epoch 4/10\n",
      "1719/1719 [==============================] - 4s 2ms/step - loss: 0.4112 - accuracy: 0.8557 - val_loss: 0.3972 - val_accuracy: 0.8624\n",
      "Epoch 5/10\n",
      "1719/1719 [==============================] - 5s 3ms/step - loss: 0.3949 - accuracy: 0.8619 - val_loss: 0.3804 - val_accuracy: 0.8658\n",
      "Epoch 6/10\n",
      "1719/1719 [==============================] - 4s 3ms/step - loss: 0.3782 - accuracy: 0.8667 - val_loss: 0.3751 - val_accuracy: 0.8720\n",
      "Epoch 7/10\n",
      "1719/1719 [==============================] - 5s 3ms/step - loss: 0.3675 - accuracy: 0.8710 - val_loss: 0.3657 - val_accuracy: 0.8758\n",
      "Epoch 8/10\n",
      "1719/1719 [==============================] - 5s 3ms/step - loss: 0.3573 - accuracy: 0.8735 - val_loss: 0.3879 - val_accuracy: 0.8614\n",
      "Epoch 9/10\n",
      "1719/1719 [==============================] - 5s 3ms/step - loss: 0.3480 - accuracy: 0.8776 - val_loss: 0.3603 - val_accuracy: 0.8690\n",
      "Epoch 10/10\n",
      "1719/1719 [==============================] - 5s 3ms/step - loss: 0.3401 - accuracy: 0.8795 - val_loss: 0.3504 - val_accuracy: 0.8766\n",
      "Runtime of the program is 46.06644940376282\n"
     ]
    }
   ],
   "source": [
    "start=time.time()\n",
    "history=model.fit(X_train,y_train,epochs=10,validation_data=(X_valid,y_valid))\n",
    "end=time.time()\n",
    "print(f\"Runtime of the program is {end-start}\")"
   ]
  },
  {
   "cell_type": "code",
   "execution_count": 43,
   "id": "6722cd52",
   "metadata": {},
   "outputs": [
    {
     "name": "stdout",
     "output_type": "stream",
     "text": [
      "313/313 [==============================] - 1s 2ms/step - loss: 0.3855 - accuracy: 0.8617\n"
     ]
    },
    {
     "data": {
      "text/plain": [
       "[0.3854817748069763, 0.8616999983787537]"
      ]
     },
     "execution_count": 43,
     "metadata": {},
     "output_type": "execute_result"
    }
   ],
   "source": [
    "model.evaluate(X_test,y_test)"
   ]
  },
  {
   "cell_type": "code",
   "execution_count": 44,
   "id": "ebf8d037",
   "metadata": {},
   "outputs": [],
   "source": [
    "del model"
   ]
  },
  {
   "cell_type": "code",
   "execution_count": 54,
   "id": "79285c8b",
   "metadata": {},
   "outputs": [],
   "source": [
    "Layers_BN=[tf.keras.layers.Flatten(input_shape=[28,28]),\n",
    "          tf.keras.layers.BatchNormalization(),\n",
    "          tf.keras.layers.Dense(300,activation='relu'),\n",
    "          tf.keras.layers.BatchNormalization(),\n",
    "          tf.keras.layers.Dense(100,activation='relu'),\n",
    "          tf.keras.layers.BatchNormalization(),\n",
    "          tf.keras.layers.Dense(10,activation='softmax')]\n",
    "model2=tf.keras.models.Sequential(Layers_BN)"
   ]
  },
  {
   "cell_type": "code",
   "execution_count": 55,
   "id": "ff94557d",
   "metadata": {},
   "outputs": [
    {
     "name": "stdout",
     "output_type": "stream",
     "text": [
      "Model: \"sequential_5\"\n",
      "_________________________________________________________________\n",
      " Layer (type)                Output Shape              Param #   \n",
      "=================================================================\n",
      " flatten_5 (Flatten)         (None, 784)               0         \n",
      "                                                                 \n",
      " batch_normalization_6 (Batc  (None, 784)              3136      \n",
      " hNormalization)                                                 \n",
      "                                                                 \n",
      " dense_15 (Dense)            (None, 300)               235500    \n",
      "                                                                 \n",
      " batch_normalization_7 (Batc  (None, 300)              1200      \n",
      " hNormalization)                                                 \n",
      "                                                                 \n",
      " dense_16 (Dense)            (None, 100)               30100     \n",
      "                                                                 \n",
      " batch_normalization_8 (Batc  (None, 100)              400       \n",
      " hNormalization)                                                 \n",
      "                                                                 \n",
      " dense_17 (Dense)            (None, 10)                1010      \n",
      "                                                                 \n",
      "=================================================================\n",
      "Total params: 271,346\n",
      "Trainable params: 268,978\n",
      "Non-trainable params: 2,368\n",
      "_________________________________________________________________\n"
     ]
    }
   ],
   "source": [
    "model2.summary()"
   ]
  },
  {
   "cell_type": "code",
   "execution_count": 56,
   "id": "f2c94491",
   "metadata": {},
   "outputs": [],
   "source": [
    "bn1=model2.layers[1]"
   ]
  },
  {
   "cell_type": "code",
   "execution_count": 57,
   "id": "3235623f",
   "metadata": {},
   "outputs": [
    {
     "name": "stdout",
     "output_type": "stream",
     "text": [
      "batch_normalization_6/gamma:0 True\n",
      "batch_normalization_6/beta:0 True\n",
      "batch_normalization_6/moving_mean:0 False\n",
      "batch_normalization_6/moving_variance:0 False\n"
     ]
    }
   ],
   "source": [
    "for variable in bn1.variables:\n",
    "    print(variable.name,variable.trainable)"
   ]
  },
  {
   "cell_type": "code",
   "execution_count": 60,
   "id": "642439fa",
   "metadata": {},
   "outputs": [
    {
     "name": "stderr",
     "output_type": "stream",
     "text": [
      "WARNING:absl:`lr` is deprecated, please use `learning_rate` instead, or use the legacy optimizer, e.g.,tf.keras.optimizers.legacy.SGD.\n"
     ]
    }
   ],
   "source": [
    "model2.compile(loss='sparse_categorical_crossentropy',optimizer=tf.keras.optimizers.SGD(lr=1e-3),metrics=['accuracy'])"
   ]
  },
  {
   "cell_type": "code",
   "execution_count": 61,
   "id": "d56605bb",
   "metadata": {},
   "outputs": [
    {
     "name": "stdout",
     "output_type": "stream",
     "text": [
      "Epoch 1/10\n",
      "1719/1719 - 7s - loss: 0.5329 - accuracy: 0.8155 - val_loss: 0.3795 - val_accuracy: 0.8658 - 7s/epoch - 4ms/step\n",
      "Epoch 2/10\n",
      "1719/1719 - 5s - loss: 0.3959 - accuracy: 0.8583 - val_loss: 0.3458 - val_accuracy: 0.8754 - 5s/epoch - 3ms/step\n",
      "Epoch 3/10\n",
      "1719/1719 - 7s - loss: 0.3598 - accuracy: 0.8697 - val_loss: 0.3366 - val_accuracy: 0.8774 - 7s/epoch - 4ms/step\n",
      "Epoch 4/10\n",
      "1719/1719 - 10s - loss: 0.3261 - accuracy: 0.8824 - val_loss: 0.3255 - val_accuracy: 0.8808 - 10s/epoch - 6ms/step\n",
      "Epoch 5/10\n",
      "1719/1719 - 7s - loss: 0.3070 - accuracy: 0.8891 - val_loss: 0.3108 - val_accuracy: 0.8870 - 7s/epoch - 4ms/step\n",
      "Epoch 6/10\n",
      "1719/1719 - 9s - loss: 0.2908 - accuracy: 0.8950 - val_loss: 0.3123 - val_accuracy: 0.8866 - 9s/epoch - 5ms/step\n",
      "Epoch 7/10\n",
      "1719/1719 - 9s - loss: 0.2775 - accuracy: 0.8998 - val_loss: 0.3135 - val_accuracy: 0.8816 - 9s/epoch - 5ms/step\n",
      "Epoch 8/10\n",
      "1719/1719 - 7s - loss: 0.2645 - accuracy: 0.9040 - val_loss: 0.3109 - val_accuracy: 0.8846 - 7s/epoch - 4ms/step\n",
      "Epoch 9/10\n",
      "1719/1719 - 8s - loss: 0.2498 - accuracy: 0.9080 - val_loss: 0.3097 - val_accuracy: 0.8876 - 8s/epoch - 4ms/step\n",
      "Epoch 10/10\n",
      "1719/1719 - 7s - loss: 0.2414 - accuracy: 0.9123 - val_loss: 0.3041 - val_accuracy: 0.8892 - 7s/epoch - 4ms/step\n",
      "Run time is 76.03141212463379\n"
     ]
    }
   ],
   "source": [
    "start=time.time()\n",
    "history=model2.fit(X_train,y_train,epochs=10,validation_data=(X_valid,y_valid),verbose=2)\n",
    "end=time.time()\n",
    "print(f\"Run time is {end-start}\")"
   ]
  },
  {
   "cell_type": "code",
   "execution_count": null,
   "id": "f4373c18",
   "metadata": {},
   "outputs": [],
   "source": [
    "##Get higher accuracy in less numbers of time \n"
   ]
  }
 ],
 "metadata": {
  "kernelspec": {
   "display_name": "Python 3 (ipykernel)",
   "language": "python",
   "name": "python3"
  },
  "language_info": {
   "codemirror_mode": {
    "name": "ipython",
    "version": 3
   },
   "file_extension": ".py",
   "mimetype": "text/x-python",
   "name": "python",
   "nbconvert_exporter": "python",
   "pygments_lexer": "ipython3",
   "version": "3.9.12"
  }
 },
 "nbformat": 4,
 "nbformat_minor": 5
}
